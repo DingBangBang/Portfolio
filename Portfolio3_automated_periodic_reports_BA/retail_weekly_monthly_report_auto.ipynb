{
 "cells": [
  {
   "cell_type": "markdown",
   "metadata": {
    "editable": true,
    "slideshow": {
     "slide_type": ""
    },
    "tags": []
   },
   "source": [
    "# __IMPORT PACKAGES__\n",
    "---"
   ]
  },
  {
   "cell_type": "code",
   "execution_count": null,
   "metadata": {
    "code_folding": []
   },
   "outputs": [],
   "source": [
    "# -*- coding=utf-8 -*-\n",
    "# __author = 'bonneting'__\n",
    "\n",
    "\"\"\" \n",
    "@author: bonnieting\n",
    "@contact: dingbangchu@gmail.com\n",
    "\"\"\"\n",
    "\n",
    "# basic:\n",
    "import datetime as dt\n",
    "import os, sys\n",
    "import pandas as pd\n",
    "pd.set_option('display.max_columns', 10000, 'display.max_rows', 10000)\n",
    "pd.set_option('display.float_format', lambda x: '%.2f' % x)\n",
    "import numpy as np\n",
    "np.set_printoptions(suppress=True, threshold=np.nan)\n",
    "import warnings\n",
    "warnings.filterwarnings('ignore')\n",
    "import re\n",
    "from openpyxl.styles import numbers\n",
    "from string import ascii_uppercase\n",
    "from common import db_util, report_util\n",
    "import copy\n",
    "\n",
    "# gragh:\n",
    "from plotly.offline import init_notebook_mode\n",
    "import plotly.offline as py\n",
    "init_notebook_mode(connected=True)\n",
    "import plotly.graph_objects as go\n",
    "import plotly.figure_factory as ff\n",
    "from IPython.display import Markdown, display, HTML\n",
    "import seaborn as sns\n",
    "import plotly as ply\n",
    "ply.offline.init_notebook_mode(connected=True)\n",
    "\n",
    "# time:\n",
    "from pytz import timezone\n",
    "import datetime\n",
    "from dateutil.relativedelta import relativedelta\n",
    "import calendar\n",
    "from dateutil.parser import parse"
   ]
  },
  {
   "cell_type": "code",
   "execution_count": null,
   "metadata": {},
   "outputs": [],
   "source": [
    "pre-define\n",
    "today = dt.datetime.today()\n",
    "current_month = today.strftime('%Y-%m')\n",
    "start_date = (today.date() - relativedelta(days=7)).strftime('%Y-%m-%d')\n",
    "\n",
    "day = calendar.monthrange(today.year,today.month)[1]\n",
    "end_date = dt.datetime(today.year ,today.month,day).strftime('%Y-%m-%d') \n",
    "\n",
    "print('today:'+str(today),\n",
    "      'current_month:'+str(current_month),\n",
    "      'start_date:'+str(start_date),\n",
    "      'end_date:'+str(end_date))\n",
    "print('本月天数：'+str(day))"
   ]
  },
  {
   "cell_type": "code",
   "execution_count": null,
   "metadata": {
    "code_folding": [
     1
    ]
   },
   "outputs": [],
   "source": [
    "# define a function to get the first day and last day in a month (need check every running)\n",
    "def this_month_last_day(year=None, month=None):\n",
    "    if year:        \n",
    "        year = int(year)\n",
    "    else:        \n",
    "        year = dt.date.today().year\n",
    "    if month:        \n",
    "        month = int(month)\n",
    "    else:        \n",
    "        month = dt.date.today().month  \n",
    "\n",
    "    x, y = calendar.monthrange(year, month) # x：days of week of the first day of that month # y：total days of that month\n",
    "\n",
    "    first_day = dt.date(year=year, month=month, day=1)  \n",
    "    last_day = dt.date(year=year, month=month, day=y)\n",
    "    \n",
    "    return first_day, last_day\n",
    "\n",
    "first_day, last_day = this_month_last_day()\n",
    "first_day=str(first_day)\n",
    "last_day=str(last_day)\n",
    "\n",
    "print(first_day,last_day)\n",
    "# first_day, last_day = func(2023,6)\n",
    "# print(first_day, last_day)\n",
    "  \n",
    "# year = dt.date.today().year\n",
    "t_month = dt.date.today()+relativedelta(months=-1)\n",
    "t_year=t_month.year\n",
    "t_month = t_month.month\n",
    "x, y = calendar.monthrange(t_year, t_month)\n",
    "this_month=str(dt.date(year=t_year, month=t_month, day=y))\n",
    "\n",
    "l_month=dt.date.today()+relativedelta(months=-2)\n",
    "l_month=l_month.month\n",
    "x, y = calendar.monthrange(t_year, l_month)\n",
    "last_month=str(dt.date(year=t_year, month=l_month, day=y))\n",
    "\n",
    "this_week=str(dt.date.today()+relativedelta(weeks=-1,weekday=calendar.MONDAY)) # weeks should +=1 if it's Monday when u run this code\n",
    "last_week=str(dt.date.today()+relativedelta(weeks=-2,weekday=calendar.MONDAY)) # same as above\n",
    "\n",
    "# dont need to modify each week\n",
    "print(this_month,last_month,this_week,last_week)"
   ]
  },
  {
   "cell_type": "markdown",
   "metadata": {},
   "source": [
    "# __PRODUCE DATAFRAMES__\n",
    "---\n",
    "- _with no specific format_\n",
    "\n",
    "## OVERVIEW\n",
    "### transaction"
   ]
  },
  {
   "cell_type": "code",
   "execution_count": null,
   "metadata": {},
   "outputs": [],
   "source": [
    "def calc(df, index, sort_column=None):\n",
    "    df = df.drop(['type'],axis=1)\n",
    "    df = df.pivot_table(index = index,columns = 'period', fill_value=0).stack(0).reset_index()\n",
    "    if sort_column == None:\n",
    "        df = df.sort_index(axis=1,ascending=False)\n",
    "    else:\n",
    "        df = df.sort_values(sort_column,ascending=False).sort_index(axis=1,ascending=False)\n",
    "    \n",
    "    return df"
   ]
  },
  {
   "cell_type": "code",
   "execution_count": null,
   "metadata": {},
   "outputs": [],
   "source": [
    "@db_util.sql_to_df('ofp_mysql')\n",
    "def data_overview_new1():\n",
    "    \"\"\"transaction\"\"\"\n",
    "    sql = \"\"\"    \n",
    "    select \n",
    "        'week' as type\n",
    "        , date_format(subdate(date(order_end_time),if(date_format(date(order_end_time),'%%w')=0,7,date_format(date(order_end_time),'%%w'))-1),'%%Y-%%m-%%d') as period\n",
    "        , cast(worth_currency as char) as worth_currency\n",
    "        , count(DISTINCT order_id) as total_case_cnt\n",
    "        , count(DISTINCT cid) as total_customer_cnt_cumu\n",
    "        , sum(transaction_volume) as total_amount\n",
    "        , sum(transaction_volume)/count(DISTINCT order_id) as avg_case_amt\n",
    "        , count(DISTINCT order_id)/count(DISTINCT cid) as avg_customer_case\n",
    "        , sum(transaction_volume)/count(DISTINCT cid) as avg_customer_amt\n",
    "    from retail.ba_succ_transaction  \n",
    "    where order_end_time>=subdate(curdate(),if(date_format(curdate(),'%%w')=0,7,date_format(curdate(),'%%w'))-1) - interval '49' day \n",
    "    and order_end_time<current_date and worth_currency='CNY'\n",
    "    group by 1,2,3\n",
    "    union all\n",
    "    select \n",
    "        'month' as type\n",
    "        , date_format(last_day(order_end_time),'%%Y-%%m-%%d') as period\n",
    "        , cast(worth_currency as char) as worth_currency\n",
    "        , count(DISTINCT order_id) as total_case_cnt\n",
    "        , count(DISTINCT cid) as total_customer_cnt_cumu\n",
    "        , sum(transaction_volume) as total_amount\n",
    "        , sum(transaction_volume)/count(DISTINCT order_id) as avg_case_amt\n",
    "        , count(DISTINCT order_id)/count(DISTINCT cid) as avg_customer_case\n",
    "        , sum(transaction_volume)/count(DISTINCT cid) as avg_customer_amt\n",
    "    from retail.ba_succ_transaction  \n",
    "    where order_end_time>=date_format(current_date,'%%Y-%%m-01') - interval '7' month \n",
    "    and order_end_time<current_date\n",
    "    and worth_currency='CNY'\n",
    "    group by 1,2,3\n",
    "    order by 1,2 desc,3\n",
    "    \"\"\"\n",
    "    return sql"
   ]
  },
  {
   "cell_type": "code",
   "execution_count": null,
   "metadata": {
    "code_folding": [
     0,
     11
    ],
    "editable": true,
    "slideshow": {
     "slide_type": ""
    },
    "tags": []
   },
   "outputs": [],
   "source": [
    "## transaction\n",
    "df_transaction = data_overview_new1() # rawdata\n",
    "df_transaction_week = df_transaction[(df_transaction['type']=='week')].append(df_transaction.head(1)) #  & (df_transaction['period']==end_date)\n",
    "df_transaction_week = calc(df_transaction_week,index = 'worth_currency',sort_column = 'level_1')\n",
    "df_transaction_week=df_transaction_week.rename(columns={'level_1':'including OTC'},inplace=False)\n",
    "df_transaction_week[\"vsLastWeek\"]=df_transaction_week.apply(lambda x: '%.2f%%' % ((x[this_week]-x[last_week])*100/x[last_week]), axis=1)\n",
    "df_transaction_week.insert(3,'vs.LastWeek',df_transaction_week.pop('vsLastWeek'),allow_duplicates=False)\n",
    "df_transaction_week.drop(columns='worth_currency',inplace=True)\n",
    "df_transaction_week.set_index('including OTC',inplace=True)\n",
    "\n",
    "\n",
    "df_transaction_month = df_transaction[(df_transaction['type']=='month') & (df_transaction['period']!=end_date)]\n",
    "df_transaction_month = calc(df_transaction_month,index = 'worth_currency',sort_column = 'level_1')\n",
    "df_transaction_month=df_transaction_month.rename(columns={'level_1':'including OTC'},inplace=False)\n",
    "df_transaction_month[\"vsLastMonth\"]=df_transaction_month.apply(lambda x: '%.2f%%' % ((x[this_month]-x[last_month])*100/x[last_month]), axis=1)\n",
    "df_transaction_month.insert(2,'vs.LastMonth',df_transaction_month.pop('vsLastMonth'),allow_duplicates=False)\n",
    "df_transaction_month.drop(columns='worth_currency',inplace=True)\n",
    "df_transaction_month.set_index('including OTC',inplace=True)\n",
    "# df_transaction\n",
    "# df_transaction_week\n",
    "# df_transaction_month\n",
    "\n",
    "# list(map(lambda x,y: function(x,y), df['col1'], df['col2']))\n",
    "# df_transaction_week['vsLastWeek']=list(map(lambda x,y: x/y,df_transaction_week[df_transaction_week.iloc[:,[3]]],df_transaction_week[df_transaction_week.iloc[:,[4]]]))\n",
    "# df_transaction_week.insert(3,'vs.LastWeek',value=a)\n",
    "# df_transaction_week[\"vsLastWeek\"]=(df_transaction_week.iloc[:,[3]]/df_transaction_week.iloc[:,[4]])###.values\n",
    "# col = df_transaction_week.columns.tolist()\n",
    "# col.insert(col[3],'vs.LastWeek')\n",
    "# df.reindex(columns=col)"
   ]
  },
  {
   "cell_type": "code",
   "execution_count": null,
   "metadata": {},
   "outputs": [],
   "source": [
    "df_transaction_week"
   ]
  },
  {
   "cell_type": "code",
   "execution_count": null,
   "metadata": {},
   "outputs": [],
   "source": [
    "df_transaction_month"
   ]
  },
  {
   "cell_type": "markdown",
   "metadata": {},
   "source": [
    "### balance "
   ]
  },
  {
   "cell_type": "code",
   "execution_count": null,
   "metadata": {
    "code_folding": [
     2
    ]
   },
   "outputs": [],
   "source": [
    "@db_util.sql_to_df('ofp_mysql')\n",
    "def data_overview_new2():\n",
    "    \"\"\"balance\"\"\"\n",
    "    sql = \"\"\"    \n",
    "    select \n",
    "        'week' as type\n",
    "        , date_format(subdate(date(order_end_time),if(date_format(date(order_end_time),'%%w')=0,7,date_format(date(order_end_time),'%%w'))-1),'%%Y-%%m-%%d') as period\n",
    "        , is_otc\n",
    "        , worth_currency\n",
    "        , record_type\n",
    "        , sum(transaction_volume) as tx_amt_CNY\n",
    "        , sum(transaction_volume / price) as tx_amt_CNY\n",
    "    from retail.ba_succ_transaction m1 \n",
    "    join retail.dim_exchange_rate m2 on m2.settle_date=date(m1.order_end_time) and currency_code='CNY'\n",
    "    where order_end_time>=subdate(curdate(),if(date_format(curdate(),'%%w')=0,7,date_format(curdate(),'%%w'))-1) - interval '49' day and order_end_time<current_date\n",
    "    and order_type in ('Fiat_DW','COIN_IN_OUT') and worth_currency=m2.legal_code\n",
    "    and m1.worth_currency='CNY'\n",
    "    group by 1,2,3,4,5\n",
    "    union all\n",
    "    select \n",
    "        'month' as type\n",
    "        , date_format(last_day(order_end_time),'%%Y-%%m-%%d') as period\n",
    "        , is_otc\n",
    "        , worth_currency\n",
    "        , record_type\n",
    "        , sum(transaction_volume) as tx_amt_CNY\n",
    "        , sum(transaction_volume / price) as tx_amt_CNY\n",
    "    from retail.ba_succ_transaction m1\n",
    "    join retail.dim_exchange_rate m2 on m2.settle_date=date(m1.order_end_time) and currency_code='CNY'\n",
    "    where order_end_time>=date_format(current_date,'%%Y-%%m-01') - interval '7' month and order_end_time<current_date\n",
    "    and order_type in ('Fiat_DW','COIN_IN_OUT') and worth_currency=m2.legal_code\n",
    "    and m1.worth_currency='CNY'\n",
    "    group by 1,2,3,4,5\n",
    "    order by 1,4,3,5,2 desc \n",
    "    \"\"\"\n",
    "    return sql\n",
    "\n",
    "## balance\n",
    "df_balance = data_overview_new2() \n",
    "df_balance = df_balance.replace({'DEPOSIT':'1_DEPOSIT','COIN_IN':'2_COIN_IN',\n",
    "                             'WITHDRAW':'3_WITHDRAW','COIN_OUT':'4_COIN_OUT'}) # rawdata"
   ]
  },
  {
   "cell_type": "code",
   "execution_count": null,
   "metadata": {},
   "outputs": [],
   "source": [
    "df_balance_week = df_balance[(df_balance['type'] == 'week')|(df_balance['period'] == end_date)] # .append(df_balance[])\n",
    "df_balance_week = calc(df_balance_week,index = ['worth_currency','is_otc','record_type'],sort_column = 'level_3')\n",
    "df_balance_week = df_balance_week.rename(columns={'level_3':'*NON-OTC'})\n",
    "\n",
    "df_balance_week[\"vsLastWeek\"]=df_balance_week.apply(lambda x: '%.2f%%' % ((x[this_week]-x[last_week])*100/x[last_week]), axis=1)\n",
    "# df_balance_week[\"vsLastWeek\"]=(df_balance_week.iloc[:,[5]].values/df_transaction_week.iloc[:,[6]]).values\n",
    "df_balance_week.insert(4,'vs.LastWeek',df_balance_week.pop('vsLastWeek'),allow_duplicates=False)\n",
    "df_balance_week.drop(columns=['worth_currency','is_otc'],inplace=True)\n",
    "df_balance_week.set_index(['record_type','*NON-OTC'],inplace=True)\n",
    "\n",
    "df_balance_month = df_balance[(df_balance['type'] == 'month')] # & (df_balance['period'] != end_date)]\n",
    "df_balance_month = calc(df_balance_month,index = ['worth_currency','is_otc','record_type'],sort_column = 'level_3')\n",
    "df_balance_month=df_balance_month.rename(columns={'level_3':'*NON-OTC'}) \n",
    "# format(x, '.2%') --> str\n",
    "df_balance_month[\"vsLastMonth\"]=df_balance_month.apply(lambda x: '%.2f%%' % ((x[this_month]-x[last_month])*100/x[last_month]), axis=1)\n",
    "df_balance_month.insert(4,'vs.LastMonth',df_balance_month.pop('vsLastMonth'),allow_duplicates=False)\n",
    "df_balance_month.drop(columns=['worth_currency','is_otc'],inplace=True)\n",
    "df_balance_month.set_index(['record_type','*NON-OTC'],inplace=True)\n",
    "# df_balance_month[\"vsLastMonth\"]=df_balance_month.apply(lambda x: (x.iloc[:,4:4]-x.iloc[:,5:5])/x.iloc[:,5:5],axis=1)\n",
    "# (df_balance_week.iloc[:,6]-df_balance_week.iloc[:,7])/df_balance_week.iloc[:,7]\n",
    "\n",
    "\n",
    "# df_balance_week.loc['Net_CashIn_CNY']=''\n",
    "# df_balance_week.loc['Net_CashIn']=''\n",
    "df_balance_week.iloc[8,1:]=df_balance_week.iloc[0,1:]+df_balance_week.iloc[1,1:]-df_balance_week.iloc[2,1:]-df_balance_week.iloc[3,1:]\n",
    "# (df_balance_week.loc[1].values[0:]+df_balance_week.loc[3].values[0:]-df_balance_week.loc[5].values[0:]-df_balance_week.loc[7].values[0:])\n",
    "df_balance_week.iloc[9,1:]=df_balance_week.iloc[4,1:]+df_balance_week.iloc[5,1:]-df_balance_week.iloc[6,1:]-df_balance_week.iloc[7,1:]\n",
    "# (df_balance_week.loc[0].values[0:]+df_balance_week.loc[2].values[0:]-df_balance_week.loc[4].values[0:]-df_balance_week.loc[6].values[0:])\n",
    "df_balance_week.loc['Net_CashIn_CNY'].replace('','-',inplace=True)\n",
    "df_balance_week.loc['Net_CashIn'].replace('','-',inplace=True)\n",
    "\n",
    "df_balance_month.loc['Net_CashIn_CNY']=''\n",
    "df_balance_month.loc['Net_CashIn']=''\n",
    "df_balance_month.iloc[8,1:]=df_balance_month.iloc[0,1:]+df_balance_month.iloc[1,1:]-df_balance_month.iloc[2,1:]-df_balance_month.iloc[3,1:]\n",
    "# (df_balance_month.loc[1].values[0:]+df_balance_month.loc[3].values[0:]-df_balance_month.loc[5].values[0:]-df_balance_month.loc[7].values[0:])\n",
    "df_balance_month.iloc[9,1:]=df_balance_month.iloc[4,1:]+df_balance_month.iloc[5,1:]-df_balance_month.iloc[6,1:]-df_balance_month.iloc[7,1:]\n",
    "# (df_balance_month.loc[0].values[0:]+df_balance_month.loc[2].values[0:]-df_balance_month.loc[4].values[0:]-df_balance_month.loc[6].values[0:])\n",
    "df_balance_month.loc['Net_CashIn_CNY'].replace('','-',inplace=True)\n",
    "df_balance_month.loc['Net_CashIn'].replace('','-',inplace=True)"
   ]
  },
  {
   "cell_type": "code",
   "execution_count": null,
   "metadata": {},
   "outputs": [],
   "source": [
    "df_balance_week"
   ]
  },
  {
   "cell_type": "code",
   "execution_count": null,
   "metadata": {},
   "outputs": [],
   "source": [
    "df_balance_month"
   ]
  },
  {
   "cell_type": "markdown",
   "metadata": {},
   "source": [
    "## REGISTER & CONVERSION\n",
    "### conversion detail"
   ]
  },
  {
   "cell_type": "code",
   "execution_count": null,
   "metadata": {
    "code_folding": [
     1
    ]
   },
   "outputs": [],
   "source": [
    "@db_util.sql_to_df('ofp_mysql')\n",
    "def data_overview_new3():\n",
    "    \"\"\"check the customers from Google\"\"\"\n",
    "    sql = \"\"\"    \n",
    "    select \n",
    "        'week' as type\n",
    "        , date_format(subdate(date(m1.register_time),if(date_format(date(m1.register_time),'%%w')=0,7,date_format(date(m1.register_time),'%%w'))-1),'%%Y-%%m-%%d') as period\n",
    "        , market_source\n",
    "        , register_device_type\n",
    "        , m1.rna_area\n",
    "        , m1.rna_type\n",
    "        , count(DISTINCT m1.cid) as register_counts\n",
    "        , count(DISTINCT if(subdate(date(min_rna1_submit_time),if(date_format(date(min_rna1_submit_time),'%%w')=0,7,date_format(date(min_rna1_submit_time),'%%w'))-1) = subdate(date(register_time),if(date_format(date(register_time),'%%w')=0,7,date_format(date(register_time),'%%w'))-1),m1.cid,null)) as period_try_rna1_counts\n",
    "        , count(DISTINCT if(subdate(date(min_rna1_succ_time),if(date_format(date(min_rna1_succ_time),'%%w')=0,7,date_format(date(min_rna1_succ_time),'%%w'))-1) = subdate(date(register_time),if(date_format(date(register_time),'%%w')=0,7,date_format(date(register_time),'%%w'))-1),m1.cid,null)) as period_rna1_counts \n",
    "        , count(DISTINCT if(subdate(date(min_try_deposit_time),if(date_format(date(min_try_deposit_time),'%%w')=0,7,date_format(date(min_try_deposit_time),'%%w'))-1) = subdate(date(register_time),if(date_format(date(register_time),'%%w')=0,7,date_format(date(register_time),'%%w'))-1),m1.cid,null)) as period_try_deposit_counts\n",
    "        , count(DISTINCT if(subdate(date(min_trade_all_time),if(date_format(date(min_trade_all_time),'%%w')=0,7,date_format(date(min_trade_all_time),'%%w'))-1) = subdate(date(register_time),if(date_format(date(register_time),'%%w')=0,7,date_format(date(register_time),'%%w'))-1),m1.cid,null)) as period_tot_counts\n",
    "        , count(DISTINCT if(subdate(date(min_deposit_time),if(date_format(date(min_deposit_time),'%%w')=0,7,date_format(date(min_deposit_time),'%%w'))-1) = subdate(date(register_time),if(date_format(date(register_time),'%%w')=0,7,date_format(date(register_time),'%%w'))-1),m1.cid,null)) as period_deposit_counts\n",
    "        , count(DISTINCT if(subdate(date(min_trade_time),if(date_format(date(min_trade_time),'%%w')=0,7,date_format(date(min_trade_time),'%%w'))-1) = subdate(date(register_time),if(date_format(date(register_time),'%%w')=0,7,date_format(date(register_time),'%%w'))-1),m1.cid,null)) as period_trade_counts \n",
    "    from retail.ba_customer m1 \n",
    "    where m1.register_time>=subdate(curdate(),if(date_format(curdate(),'%%w')=0,7,date_format(curdate(),'%%w'))-1) - interval '49' day \n",
    "    and m1.register_time<current_date\n",
    "    and m1.rna_area !='AMERICA'\n",
    "    group by 1,2,3,4,5,6\n",
    "    union all\n",
    "    select \n",
    "        'month' as type\n",
    "        , date_format(last_day(m1.register_time),'%%Y-%%m-%%d') as period\n",
    "        , market_source\n",
    "        , register_device_type\n",
    "        , m1.rna_area\n",
    "        , m1.rna_type\n",
    "        , count(DISTINCT m1.cid) as register_counts\n",
    "        , count(DISTINCT if(date_format(m1.min_rna1_submit_time,'%%Y-%%m')=date_format(m1.register_time,'%%Y-%%m'),m1.cid,null)) as period_try_rna1_counts\n",
    "        , count(DISTINCT if(date_format(m1.min_rna1_succ_time,'%%Y-%%m')=date_format(m1.register_time,'%%Y-%%m'),m1.cid,null)) as period_rna1_counts\n",
    "        , count(DISTINCT if(date_format(m1.min_try_deposit_time,'%%Y-%%m')=date_format(m1.register_time,'%%Y-%%m'),m1.cid,null)) as period_try_deposit_counts\n",
    "        , count(DISTINCT if(date_format(m1.min_trade_all_time,'%%Y-%%m')=date_format(m1.register_time,'%%Y-%%m'),m1.cid,null)) as period_tot_counts\n",
    "        , count(DISTINCT if(date_format(m1.min_deposit_time,'%%Y-%%m')=date_format(m1.register_time,'%%Y-%%m'),m1.cid,null)) as period_deposit_counts\n",
    "        , count(DISTINCT if(date_format(m1.min_trade_time,'%%Y-%%m')=date_format(m1.register_time,'%%Y-%%m'),m1.cid,null)) as period_trade_counts\n",
    "    from retail.ba_customer m1 \n",
    "    where m1.register_time>=date_format(current_date,'%%Y-%%m-01') - interval '7' month \n",
    "    and m1.register_time<current_date\n",
    "    and m1.rna_area !='AMERICA'\n",
    "    group by 1,2,3,4,5,6\n",
    "    order by 1,2 desc,3\n",
    "    \"\"\"\n",
    "    return sql\n",
    "\n",
    "## customer acquisition & conv_funnel\n",
    "df_conv_detail = data_overview_new3()\n",
    "# df_conv_detail"
   ]
  },
  {
   "cell_type": "code",
   "execution_count": null,
   "metadata": {},
   "outputs": [],
   "source": [
    "df_conv_detail[(df_conv_detail['period'] == '2022-01-10') & (df_conv_detail['market_source'] == 'Google_app')]"
   ]
  },
  {
   "cell_type": "code",
   "execution_count": null,
   "metadata": {},
   "outputs": [],
   "source": [
    "df_conv_detail_ov_week=df_conv_detail[df_conv_detail['type']=='week'].pivot_table(index=['period'],\n",
    "                                             values=['register_counts','period_rna1_counts','period_deposit_counts','period_trade_counts','period_tot_counts'],\n",
    "                                             aggfunc=[np.sum],\n",
    "                                             fill_value=0,\n",
    "                                             margins=True,\n",
    "                                             margins_name='TOTAL',\n",
    "                                             sort=True\n",
    "                                            ).sort_index(axis=0,ascending=False).sort_index(axis=1,ascending=False)\n",
    "df_conv_detail_ov_month=df_conv_detail[df_conv_detail['type']=='month'].pivot_table(index=['period'],\n",
    "                                             values=['register_counts','period_rna1_counts','period_deposit_counts','period_trade_counts','period_tot_counts'],\n",
    "                                             aggfunc=[np.sum],\n",
    "                                             fill_value=0,\n",
    "                                             margins=True,\n",
    "                                             margins_name='TOTAL',\n",
    "                                             sort=True\n",
    "                                            ).sort_index(axis=0,ascending=False).sort_index(axis=1,ascending=False)\n",
    "\n",
    "df_conv_detail_ov_week\n",
    "df_conv_detail_ov_month"
   ]
  },
  {
   "cell_type": "code",
   "execution_count": null,
   "metadata": {},
   "outputs": [],
   "source": [
    "# compute on rows & cols\n",
    "\n",
    "## modify the weekly data\n",
    "# df_conv_detail_ov_week.columns.names=['func','cols']\n",
    "df_conv_detail_ov_week=df_conv_detail_ov_week.xs('sum',axis=1)\n",
    "df_conv_detail_ov_week['a.reg2rna1_succ']=df_conv_detail_ov_week['period_rna1_counts']/df_conv_detail_ov_week['register_counts']\n",
    "df_conv_detail_ov_week['b.reg2depo_succ']=df_conv_detail_ov_week['period_deposit_counts']/df_conv_detail_ov_week['register_counts']\n",
    "df_conv_detail_ov_week['c.reg2trade_succ']=df_conv_detail_ov_week['period_trade_counts']/df_conv_detail_ov_week['register_counts']\n",
    "df_conv_detail_ov_week.drop(axis=1,columns=['period_rna1_counts','period_deposit_counts','period_trade_counts'],inplace=True)\n",
    "df_conv_detail_ov_week.loc[\"vsLastWeek\"]=df_conv_detail_ov_week.apply(lambda x: '%.2f%%' % ((x.loc[this_week]-x.loc[last_week])*100/x.loc[last_week]),axis=0)\n",
    "df_conv_detail_ov_week.iloc[0:8,2:5]=df_conv_detail_ov_week.iloc[0:8,2:5].applymap(lambda x: '%.2f%%' % (x*100))\n",
    "# ！！！make it to 9 if it's not Monday !!!\n",
    "# [['a.reg2rna1_succ','b.reg2depo_succ','c.reg2trade_succ']].iloc[0:9]\n",
    "df_conv_detail_ov_week=df_conv_detail_ov_week.T\n",
    "df_conv_detail_ov_week.insert(1,'vs.LastWeek',df_conv_detail_ov_week.pop('vsLastWeek'),allow_duplicates=False)\n",
    "\n",
    "# df['stock_money'] = df['fund_size'].astype(\n",
    "#     float) * df['stock_percent'].str.strip('%').astype(float) / 100\n",
    "# ).format(x, '.2%')"
   ]
  },
  {
   "cell_type": "code",
   "execution_count": null,
   "metadata": {},
   "outputs": [],
   "source": [
    "df_conv_detail_ov_week"
   ]
  },
  {
   "cell_type": "code",
   "execution_count": null,
   "metadata": {},
   "outputs": [],
   "source": [
    "## modify monthly data\n",
    "df_conv_detail_ov_month=df_conv_detail_ov_month.xs('sum',axis=1)\n",
    "df_conv_detail_ov_month['a.reg2rna1_succ']=df_conv_detail_ov_month['period_rna1_counts']/df_conv_detail_ov_month['register_counts']\n",
    "df_conv_detail_ov_month['b.reg2depo_succ']=df_conv_detail_ov_month['period_deposit_counts']/df_conv_detail_ov_month['register_counts']\n",
    "df_conv_detail_ov_month['c.reg2trade_succ']=df_conv_detail_ov_month['period_trade_counts']/df_conv_detail_ov_month['register_counts']\n",
    "df_conv_detail_ov_month.drop(axis=1,columns=['period_rna1_counts','period_deposit_counts','period_trade_counts'],inplace=True)\n",
    "df_conv_detail_ov_month.loc[\"vsLastMonth\"]=df_conv_detail_ov_month.apply(lambda x: '%.2f%%' % ((x.loc[this_month]-x.loc[last_month])*100/x.loc[last_month]),axis=0)\n",
    "df_conv_detail_ov_month.iloc[0:8,2:5]=df_conv_detail_ov_month.iloc[0:8,2:5].applymap(lambda x: '%.2f%%' % (x*100))\n",
    "# [['a.reg2rna1_succ','b.reg2depo_succ','c.reg2trade_succ']].iloc[0:9]\n",
    "df_conv_detail_ov_month=df_conv_detail_ov_month.T\n",
    "df_conv_detail_ov_month.insert(1,'vs.LastMonth',df_conv_detail_ov_month.pop('vsLastMonth'),allow_duplicates=False)"
   ]
  },
  {
   "cell_type": "code",
   "execution_count": null,
   "metadata": {},
   "outputs": [],
   "source": [
    "df_conv_detail_ov_month"
   ]
  },
  {
   "cell_type": "markdown",
   "metadata": {},
   "source": [
    "### first trade overview "
   ]
  },
  {
   "cell_type": "code",
   "execution_count": null,
   "metadata": {
    "code_folding": [
     1
    ],
    "editable": true,
    "scrolled": true,
    "slideshow": {
     "slide_type": ""
    },
    "tags": []
   },
   "outputs": [],
   "source": [
    "@db_util.sql_to_df('ofp_mysql')\n",
    "def data_overview_new4():\n",
    "    \"\"\"distinguish by trade_currency and market_source\"\"\"\n",
    "    sql = \"\"\"    \n",
    "    select \n",
    "        'week' as type\n",
    "        , cast(subdate(date(m1.order_end_time),if(date_format(date(m1.order_end_time),'%%w')=0,7,date_format(date(m1.order_end_time),'%%w'))-1) as char) as period\n",
    "        , worth_currency\n",
    "        , market_source\n",
    "        , count(DISTINCT m1.cid) as new_user_cnt\n",
    "    from retail.ba_dwp_first_trade_all m1 \n",
    "    left join retail.ba_customer m2 on m2.cid=m1.cid \n",
    "    where m1.order_end_time>=subdate(curdate(),if(date_format(curdate(),'%%w')=0,7,date_format(curdate(),'%%w'))-1) - interval '49' day \n",
    "    and m1.order_end_time<current_date\n",
    "    and m2.rna_area !='AMERICA'\n",
    "    group by 1,2,3,4\n",
    "    union all\n",
    "    select \n",
    "        'month' as type\n",
    "        , cast(date_format(last_day(m1.order_end_time),'%%Y-%%m-%%d') as char) as period\n",
    "        , worth_currency \n",
    "        , market_source\n",
    "        , count(DISTINCT m1.cid) as new_user_cnt\n",
    "    from retail.ba_dwp_first_trade_all m1 \n",
    "    left join retail.ba_customer m2 on m2.cid=m1.cid \n",
    "    where m1.order_end_time>=date_format(current_date,'%%Y-%%m-01') - interval '7' month \n",
    "    and m1.order_end_time<current_date\n",
    "    and m2.rna_area !='AMERICA'\n",
    "    group by 1,2,3,4\n",
    "    order by 1,2,3 desc,4\n",
    "    \"\"\"\n",
    "    return sql\n",
    "\n",
    "df_first_trade = data_overview_new4()\n",
    "\n",
    "df_first_trade_month = df_first_trade[(df_first_trade['type']=='month')|(df_first_trade['period'] == end_date)]\n",
    "df_first_trade_month = calc(df_first_trade_month,index = ['worth_currency','market_source']).drop('level_2',axis=1)\n",
    "\n",
    "df_first_trade_week = df_first_trade[(df_first_trade['type']=='week')&(df_first_trade['period'] != end_date)]\n",
    "df_first_trade_week = calc(df_first_trade_week,index = ['worth_currency','market_source']).drop('level_2',axis=1)\n",
    "\n",
    "df_first_trade"
   ]
  },
  {
   "cell_type": "code",
   "execution_count": null,
   "metadata": {},
   "outputs": [],
   "source": [
    "df_first_trade_month"
   ]
  },
  {
   "cell_type": "code",
   "execution_count": null,
   "metadata": {},
   "outputs": [],
   "source": [
    "df_first_trade_week"
   ]
  },
  {
   "cell_type": "code",
   "execution_count": null,
   "metadata": {},
   "outputs": [],
   "source": [
    "df_first_trade_month_ttl=df_first_trade_month.pivot_table(\n",
    "                                             index=['worth_currency'],\n",
    "#                                              values=all,\n",
    "                                             aggfunc=[np.sum],\n",
    "                                             fill_value=0,\n",
    "                                             margins=True,\n",
    "                                             margins_name='period_first_trade_all',\n",
    "                                             sort=True\n",
    "                                            ).sort_index(axis=1,ascending=False).xs('sum',axis=1)\n",
    "# .sort_index(axis=0,ascending=False)\n",
    "# df_conv_detail_ov_week=df_conv_detail_ov_week.xs('sum',axis=1)\n",
    "df_first_trade_month_ttl.drop(axis=0,index='CNY',inplace=True)\n",
    "df_first_trade_month_ttl['TOTAL'] = df_first_trade_month_ttl.apply(func=np.sum,axis=1)\n",
    "df_first_trade_month_ttl.insert(0,'TOTAL',df_first_trade_month_ttl.pop('TOTAL'),allow_duplicates=False)\n",
    "\n",
    "df_first_trade_week_ttl=df_first_trade_week.pivot_table(\n",
    "                                             index=['worth_currency'],\n",
    "                                             aggfunc=[np.sum],\n",
    "                                             fill_value=0,\n",
    "                                             margins=True,\n",
    "                                             margins_name='period_first_trade_all',\n",
    "                                             sort=True\n",
    "                                            ).sort_index(axis=1,ascending=False).xs('sum',axis=1)\n",
    "df_first_trade_week_ttl.drop(axis=0,index='CNY',inplace=True)\n",
    "df_first_trade_week_ttl['TOTAL'] = df_first_trade_week_ttl.apply(func=np.sum,axis=1)\n",
    "df_first_trade_week_ttl.insert(0,'TOTAL',df_first_trade_week_ttl.pop('TOTAL'),allow_duplicates=False)"
   ]
  },
  {
   "cell_type": "code",
   "execution_count": null,
   "metadata": {},
   "outputs": [],
   "source": [
    "df_first_trade_month_ttl"
   ]
  },
  {
   "cell_type": "code",
   "execution_count": null,
   "metadata": {},
   "outputs": [],
   "source": [
    "df_first_trade_week_ttl"
   ]
  },
  {
   "cell_type": "code",
   "execution_count": null,
   "metadata": {},
   "outputs": [],
   "source": [
    "df_first_trade_month_ttl[\"vsLastMonth\"]=df_first_trade_month_ttl.apply(lambda x: '%.2f%%' % ((x[this_month]-x[last_month])*100/x[last_month]),axis=1)\n",
    "df_first_trade_month_ttl.insert(0,'vs.LastMonth',df_first_trade_month_ttl.pop('vsLastMonth'),allow_duplicates=False)\n",
    "\n",
    "df_first_trade_week_ttl[\"vsLastWeek\"]=df_first_trade_week_ttl.apply(lambda x: '%.2f%%' % ((x[this_week]-x[last_week])*100/x[last_week]),axis=1)\n",
    "df_first_trade_week_ttl.insert(0,'vs.LastWeek',df_first_trade_week_ttl.pop('vsLastWeek'),allow_duplicates=False)\n",
    "# df_conv_detail_ov_week.loc['first_trade_counts'].iloc[:,1:] # =df_first_trade_month_ttl.iloc[0]\n",
    "\n",
    "df_conv_detail_ov_week=df_conv_detail_ov_week.append(df_first_trade_week_ttl,ignore_index=False)\n",
    "df_conv_detail_ov_month=df_conv_detail_ov_month.append(df_first_trade_month_ttl,ignore_index=False)#！！still need test！！change to false for no deleting the former names"
   ]
  },
  {
   "cell_type": "code",
   "execution_count": null,
   "metadata": {},
   "outputs": [],
   "source": [
    "df_conv_detail_ov_month"
   ]
  },
  {
   "cell_type": "code",
   "execution_count": null,
   "metadata": {},
   "outputs": [],
   "source": [
    "df_conv_detail_ov_week"
   ]
  },
  {
   "cell_type": "markdown",
   "metadata": {},
   "source": [
    "### channel conv detail"
   ]
  },
  {
   "cell_type": "code",
   "execution_count": null,
   "metadata": {
    "scrolled": true
   },
   "outputs": [],
   "source": [
    "df_channel_week=df_conv_detail[df_conv_detail['type']=='week'].pivot_table(index=['period','market_source'],\n",
    "                                             values=['register_counts','period_rna1_counts','period_deposit_counts','period_trade_counts','period_tot_counts','period_try_rna1_counts','period_try_deposit_counts'],\n",
    "                                             aggfunc=[np.sum],\n",
    "                                             fill_value=0,\n",
    "                                             margins=True,\n",
    "                                             margins_name='TOTAL',\n",
    "                                             sort=True\n",
    "                                            ).sort_index(axis=0,ascending=False).sort_index(axis=1,ascending=False)\n",
    "df_channel_week=df_channel_week.xs('sum',axis=1)\n",
    "df_channel_week=df_channel_week[df_channel_week['register_counts']>5]\n",
    "df_channel_week['a.reg2rna1_succ']=df_channel_week['period_rna1_counts']/df_channel_week['register_counts']\n",
    "df_channel_week['b.reg2depo_succ']=df_channel_week['period_deposit_counts']/df_channel_week['register_counts']\n",
    "df_channel_week['c.reg2trade_succ']=df_channel_week['period_trade_counts']/df_channel_week['register_counts']\n",
    "df_channel_week['d.reg2try_rna1(try/reg)']=df_channel_week['period_try_rna1_counts']/df_channel_week['register_counts']\n",
    "df_channel_week['e.rna_succ(succ/try)']=df_channel_week['period_rna1_counts']/df_channel_week['period_try_rna1_counts']\n",
    "df_channel_week['f.reg2try_depo(try/reg)']=df_channel_week['period_try_deposit_counts']/df_channel_week['register_counts']\n",
    "df_channel_week['g.depo_succ(succ/try)']=df_channel_week['period_deposit_counts']/df_channel_week['period_try_deposit_counts']\n",
    "df_channel_week.drop(axis=1,columns=['period_rna1_counts','period_deposit_counts','period_trade_counts','period_try_rna1_counts','period_try_deposit_counts'],inplace=True)\n",
    "df_channel_week"
   ]
  },
  {
   "cell_type": "code",
   "execution_count": null,
   "metadata": {
    "scrolled": true
   },
   "outputs": [],
   "source": [
    "df_channel_month=df_conv_detail[df_conv_detail['type']=='month'].pivot_table(index=['period','market_source'],\n",
    "                                             values=['register_counts','period_rna1_counts','period_deposit_counts','period_trade_counts','period_tot_counts','period_try_rna1_counts','period_try_deposit_counts'],\n",
    "                                             aggfunc=[np.sum],\n",
    "                                             fill_value=0,\n",
    "                                             margins=True,\n",
    "                                             margins_name='TOTAL',\n",
    "                                             sort=True\n",
    "                                            ).sort_index(axis=0,ascending=False).sort_index(axis=1,ascending=False)\n",
    "df_channel_month=df_channel_month.xs('sum',axis=1)\n",
    "df_channel_month=df_channel_month[df_channel_month['register_counts']>5]\n",
    "df_channel_month['a.reg2rna1_succ']=df_channel_month['period_rna1_counts']/df_channel_month['register_counts']\n",
    "df_channel_month['b.reg2depo_succ']=df_channel_month['period_deposit_counts']/df_channel_month['register_counts']\n",
    "df_channel_month['c.reg2trade_succ']=df_channel_month['period_trade_counts']/df_channel_month['register_counts']\n",
    "df_channel_month['d.reg2try_rna1(try/reg)']=df_channel_month['period_try_rna1_counts']/df_channel_month['register_counts']\n",
    "df_channel_month['e.rna_succ(succ/try)']=df_channel_month['period_rna1_counts']/df_channel_month['period_try_rna1_counts']\n",
    "df_channel_month['f.reg2try_depo(try/reg)']=df_channel_month['period_try_deposit_counts']/df_channel_month['register_counts']\n",
    "df_channel_month['g.depo_succ(succ/try)']=df_channel_month['period_deposit_counts']/df_channel_month['period_try_deposit_counts']\n",
    "df_channel_month.drop(axis=1,columns=['period_rna1_counts','period_deposit_counts','period_trade_counts','period_try_rna1_counts','period_try_deposit_counts'],inplace=True)\n",
    "df_channel_month"
   ]
  },
  {
   "cell_type": "markdown",
   "metadata": {},
   "source": [
    "## TRANSACTION\n",
    "### overview cnt&amt"
   ]
  },
  {
   "cell_type": "code",
   "execution_count": null,
   "metadata": {
    "code_folding": [
     1,
     4,
     47
    ]
   },
   "outputs": [],
   "source": [
    "# @db_util.sql_to_df('ofp_mysql')\n",
    "def data_trans_type_new3():\n",
    "    \"\"\"distinguish by trade_device\"\"\"\n",
    "    sql = \"\"\"    \n",
    "    select \n",
    "        'week' as type\n",
    "        , date_format(subdate(date(order_end_time),if(date_format(date(order_end_time),'%%w')=0,7,date_format(date(order_end_time),'%%w'))-1),'%%Y-%%m-%%d') as period\n",
    "        , worth_currency\n",
    "        , order_device_type\n",
    "        , count(DISTINCT if(record_type='DEPOSIT',order_id,null)) as depo_cnt\n",
    "        , count(DISTINCT if(record_type='WITHDRAW',order_id,null)) as withd_cnt\n",
    "        , count(DISTINCT if(record_type='COIN_IN',order_id,null)) as depo_times\n",
    "        , count(DISTINCT if(record_type='COIN_OUT',order_id,null)) as withd_times\n",
    "        , count(DISTINCT if(record_type in ('SELL','BUY'),order_id,null)) as tra_cnt\n",
    "        , count(DISTINCT if(order_type='Agent_Fiat_TX',order_id,null)) as agent_cnt\n",
    "        , count(DISTINCT if(order_type='Orderbook_Fiat_TX',order_id,null)) as distribution_cnt\n",
    "        , count(DISTINCT if(order_type='Crypto_TX',order_id,null)) as coupon\n",
    "    from retail.ba_succ_transaction\n",
    "    where is_otc != 'OTC' and worth_currency='CNY'\n",
    "    and order_end_time>=subdate(curdate(),if(date_format(curdate(),'%%w')=0,7,date_format(curdate(),'%%w'))-1) - interval '49' day and order_end_time<current_date \n",
    "    group by 1,2,3,4\n",
    "    union all\n",
    "    select \n",
    "        'month' as type\n",
    "        , date_format(order_end_time,'%%Y-%%m') as period\n",
    "        , worth_currency\n",
    "        , order_device_type\n",
    "        , count(DISTINCT if(record_type='DEPOSIT',order_id,null)) as depo_cnt\n",
    "        , count(DISTINCT if(record_type='WITHDRAW',order_id,null)) as withd_cnt\n",
    "        , count(DISTINCT if(record_type='COIN_IN',order_id,null)) as depo_times\n",
    "        , count(DISTINCT if(record_type='COIN_OUT',order_id,null)) as withd_times\n",
    "        , count(DISTINCT if(record_type in ('SELL','BUY'),order_id,null)) as tra_cnt\n",
    "        , count(DISTINCT if(order_type='Agent_Fiat_TX',order_id,null)) as agent_cnt\n",
    "        , count(DISTINCT if(order_type='Orderbook_Fiat_TX',order_id,null)) as distribution_cnt\n",
    "        , count(DISTINCT if(order_type='Crypto_TX',order_id,null)) as coupon\n",
    "    from retail.ba_succ_transaction\n",
    "    where is_otc != 'OTC' and worth_currency='CNY'\n",
    "    and order_end_time>=date_format(current_date,'%%Y-%%m-01') - interval '7' month \n",
    "    and order_end_time<current_date \n",
    "    group by 1,2,3,4\n",
    "    order by 1,2\n",
    "    \"\"\"\n",
    "    return sql\n",
    "\n",
    "# df_order_device = data_trans_type_new3()\n",
    "\n",
    "@db_util.sql_to_df('ofp_mysql')\n",
    "def data_trans_type_new4():\n",
    "    \"\"\"distinguish by trade or not\"\"\"\n",
    "    sql = \"\"\"    \n",
    "    select \n",
    "        'week' as type\n",
    "        , date_format(subdate(date(order_end_time),if(date_format(date(order_end_time),'%%w')=0,7,date_format(date(order_end_time),'%%w'))-1),'%%Y-%%m-%%d') as period\n",
    "        , is_otc\n",
    "        , worth_currency\n",
    "        , count(DISTINCT cid) as tx_customer_cnt\n",
    "        , sum(transaction_volume) as tx_amount\n",
    "    from retail.ba_succ_transaction\n",
    "    where order_end_time>=subdate(curdate(),if(date_format(curdate(),'%%w')=0,7,date_format(curdate(),'%%w'))-1) - interval '49' day \n",
    "    and order_end_time<current_date\n",
    "    and worth_currency='CNY'\n",
    "    group by 1,2,3,4\n",
    "    union all\n",
    "    select \n",
    "        'month' as type\n",
    "        , date_format(last_day(order_end_time),'%%Y-%%m-%%d') as period\n",
    "        , is_otc\n",
    "        , worth_currency\n",
    "        , count(DISTINCT cid) as tx_customer_cnt\n",
    "        , sum(transaction_volume) as tx_amount\n",
    "    from retail.ba_succ_transaction\n",
    "    where order_end_time>=date_format(curdate(),'%%Y-%%m-01') - interval '7' month \n",
    "    and order_end_time<current_date\n",
    "    and worth_currency='CNY'\n",
    "    group by 1,2,3,4\n",
    "    order by 1,2 desc\n",
    "    \"\"\"\n",
    "    return sql\n",
    "\n",
    "df_order_otc = data_trans_type_new4()\n",
    "\n",
    "df_order_otc\n",
    "\n",
    "df_order_otc_month = df_order_otc[(df_order_otc['type'] == 'month')] #  & (df_order_otc['period'] != current_month)\n",
    "\n",
    "df_order_otc_month = df_order_otc_month.pivot_table(index=['worth_currency','is_otc'],\n",
    "                                                    columns='period',\n",
    "                                                    values=['tx_customer_cnt','tx_amount'],\n",
    "                                                    aggfunc='sum').stack(0).sort_index(axis=1,ascending=False) # stack(0) change col.index to inner row.index\n",
    "df_order_otc_month = df_order_otc_month.reset_index()\n",
    "# drop(('CNY','OTC', 'tx_customer_cnt'),axis=0).\n",
    "df_order_otc_month = df_order_otc_month.sort_values(['level_2','worth_currency'],ascending=[False,False])\n",
    "\n",
    "df_order_otc_week = df_order_otc[(df_order_otc['type'] == 'week') | (df_order_otc['period'] == end_date)]\n",
    "df_order_otc_week = df_order_otc_week.pivot_table(index=['worth_currency','is_otc'],columns='period',\n",
    "                                                  values=['tx_customer_cnt','tx_amount'],\n",
    "                                                  aggfunc='sum').stack(0).sort_index(axis=1,ascending=False)\n",
    "\n",
    "df_order_otc_week = df_order_otc_week.reset_index().sort_values(['level_2','worth_currency'],ascending=[False,False])\n",
    "\n",
    "# df_order_otc"
   ]
  },
  {
   "cell_type": "code",
   "execution_count": null,
   "metadata": {},
   "outputs": [],
   "source": [
    "df_order_otc_month"
   ]
  },
  {
   "cell_type": "code",
   "execution_count": null,
   "metadata": {},
   "outputs": [],
   "source": [
    "df_order_otc_week"
   ]
  },
  {
   "cell_type": "markdown",
   "metadata": {},
   "source": [
    "### trans type"
   ]
  },
  {
   "cell_type": "code",
   "execution_count": null,
   "metadata": {
    "code_folding": [
     1
    ]
   },
   "outputs": [],
   "source": [
    "@db_util.sql_to_df('ofp_mysql')\n",
    "def data_trans_type_new1():\n",
    "    \"\"\"distinguish by trade_type\"\"\"\n",
    "    sql = \"\"\"    \n",
    "    select type,period,worth_currency,ifnull(trans_type,'total')trans_type,tx_case_cnt,tx_customer_cnt,tx_amount\n",
    "    from \n",
    "    (\n",
    "        select \n",
    "            'week' as type\n",
    "            , date_format(subdate(date(order_end_time),if(date_format(date(order_end_time),'%%w')=0,7,date_format(date(order_end_time),'%%w'))-1),'%%Y-%%m-%%d') as period\n",
    "            , worth_currency\n",
    "            , case \n",
    "                when is_otc ='OTC' then 'OTC'\n",
    "                when is_otc != 'OTC' and sub_order_type='api' then concat(order_type,'_',sub_order_type)\n",
    "                when is_otc != 'OTC' and (sub_order_type !='api' or sub_order_type is null) then order_type \n",
    "            end as trans_type\n",
    "            , count(DISTINCT order_id) as tx_case_cnt\n",
    "            , count(DISTINCT cid) as tx_customer_cnt\n",
    "            , sum(transaction_volume) as tx_amount\n",
    "        from retail.ba_succ_transaction\n",
    "        where order_end_time>=subdate(curdate(),if(date_format(curdate(),'%%w')=0,7,date_format(curdate(),'%%w'))-1) - interval '49' day \n",
    "        and order_end_time<current_date and record_type in ('SELL','BUY')\n",
    "        and worth_currency='CNY'\n",
    "        group by 1,2,3,4\n",
    "        union all\n",
    "        select \n",
    "            'week' as type\n",
    "            , date_format(subdate(date(order_end_time),if(date_format(date(order_end_time),'%%w')=0,7,date_format(date(order_end_time),'%%w'))-1),'%%Y-%%m-%%d') as period\n",
    "            , worth_currency\n",
    "            , 'total' as trans_type\n",
    "            , count(DISTINCT order_id) as tx_case_cnt\n",
    "            , count(DISTINCT cid) as tx_customer_cnt\n",
    "            , sum(transaction_volume) as tx_amount\n",
    "        from retail.ba_succ_transaction\n",
    "        where order_end_time>=subdate(curdate(),if(date_format(curdate(),'%%w')=0,7,date_format(curdate(),'%%w'))-1) - interval '49' day \n",
    "        and order_end_time<current_date and record_type in ('SELL','BUY')\n",
    "        and worth_currency='CNY'\n",
    "        group by 1,2,3,4\n",
    "        union all\n",
    "        select \n",
    "            'month' as type\n",
    "            , date_format(last_day(order_end_time),'%%Y-%%m-%%d') as period\n",
    "            , worth_currency\n",
    "            , case \n",
    "                when is_otc ='OTC' then 'OTC'\n",
    "                when is_otc != 'OTC' and sub_order_type='api' then concat(order_type,'_',sub_order_type)\n",
    "                when is_otc != 'OTC' and (sub_order_type !='api' or sub_order_type is null) then order_type \n",
    "            end as trans_type\n",
    "            , count(DISTINCT order_id) as tx_case_cnt\n",
    "            , count(DISTINCT cid) as tx_customer_cnt\n",
    "            , sum(transaction_volume) as tx_amount\n",
    "        from retail.ba_succ_transaction\n",
    "        where order_end_time>=date_format(curdate(),'%%Y-%%m-01') - interval '7' month \n",
    "        and order_end_time<current_date and record_type in ('SELL','BUY')\n",
    "        and worth_currency='CNY'\n",
    "        group by 1,2,3,4\n",
    "        union all\n",
    "        select \n",
    "            'month' as type\n",
    "            , date_format(last_day(order_end_time),'%%Y-%%m-%%d') as period\n",
    "            , worth_currency\n",
    "            , 'total'as trans_type\n",
    "            , count(DISTINCT order_id) as tx_case_cnt\n",
    "            , count(DISTINCT cid) as tx_customer_cnt\n",
    "            , sum(transaction_volume) as tx_amount\n",
    "        from retail.ba_succ_transaction\n",
    "        where order_end_time>=date_format(curdate(),'%%Y-%%m-01') - interval '7' month \n",
    "        and order_end_time<current_date and record_type in ('SELL','BUY')\n",
    "        and worth_currency='CNY'\n",
    "        group by 1,2,3,4\n",
    "    )a \n",
    "    where period is not null and worth_currency is not null\n",
    "    order by 1,3,2 desc ,4\n",
    "    \"\"\"\n",
    "    return sql\n",
    "\n",
    "# 按交易类型\n",
    "df_trans_type = data_trans_type_new1()\n",
    "\n",
    "# df_trans_type"
   ]
  },
  {
   "cell_type": "code",
   "execution_count": null,
   "metadata": {},
   "outputs": [],
   "source": [
    "# rearrange rows & cols of rawdata and compute vs.LastWeek/Month\n",
    "df_trans_type_week=df_trans_type[(df_trans_type['type']=='week')|(df_trans_type['period']==end_date)].pivot_table(\n",
    "                                             index=['trans_type','period'],\n",
    "                                             values=['tx_customer_cnt','tx_amount'],\n",
    "                                             fill_value=0,\n",
    "                                             sort=True\n",
    "                                            ).unstack(1).stack(0).swaplevel().sort_index(axis=0,ascending=False).sort_index(axis=1,ascending=False)\n",
    "\n",
    "tx_amt_pct_week=df_trans_type_week.apply(lambda x: (x.loc['tx_amount']*100)/x.loc['tx_amount','total'])\n",
    "tx_amt_pct_week.index=pd.MultiIndex.from_product([['tx_amt_pct'],\n",
    "                        ['total', 'OrderBook_Fiat_TX_api', 'OrderBook_Fiat_TX', 'Crypto_TX_api','Crypto_TX', 'Agent_Fiat_TX']])\n",
    "df_trans_type_week=df_trans_type_week.append(tx_amt_pct_week,verify_integrity=True,ignore_index=False)\n",
    "\n",
    "avg_tx_amt_peruser_week=df_trans_type_week.apply(lambda x: (x.loc['tx_amount']/x.loc['tx_customer_cnt']))\n",
    "avg_tx_amt_peruser_week.index=pd.MultiIndex.from_product([['avg_tx_amt_peruser'],\n",
    "                        ['total', 'OrderBook_Fiat_TX_api', 'OrderBook_Fiat_TX', 'Crypto_TX_api','Crypto_TX', 'Agent_Fiat_TX']])\n",
    "df_trans_type_week=df_trans_type_week.append(avg_tx_amt_peruser_week,verify_integrity=True,ignore_index=False)\n",
    "\n",
    "df_trans_type_week['vsLastWeek']=df_trans_type_week.apply(lambda x: '%.2f%%' % ((x[this_week]-x[last_week])*100/x[last_week]),axis=1)\n",
    "df_trans_type_week.iloc[12:18,:-1]=tx_amt_pct_week.applymap(lambda x: '%.2f%%' % x)\n",
    "# df_trans_type_week.iloc[18:,:-1]=avg_tx_amt_peruser_week.applymap(lambda x: '%.2f%%' % x)\n",
    "# ！！multiple index & slice rows and cols：.loc['trade_amt_pct'].iloc[:,:-1]\n",
    "df_trans_type_week.insert(0,'vs.LastWeek',df_trans_type_week.pop('vsLastWeek'),allow_duplicates=False)\n",
    "\n",
    "\n",
    "\n",
    "\n",
    "df_trans_type_month=df_trans_type[(df_trans_type['type']=='month')].pivot_table(\n",
    "                                             index=['trans_type','period'],\n",
    "                                             values=['tx_customer_cnt','tx_amount'],\n",
    "                                             fill_value=0,\n",
    "                                             sort=True\n",
    "                                            ).unstack(1).stack(0).swaplevel().sort_index(axis=0,ascending=False).sort_index(axis=1,ascending=False)\n",
    "tx_amt_pct_month=df_trans_type_month.apply(lambda x: (x.loc['tx_amount']*100)/x.loc['tx_amount','total'])\n",
    "# trade_amt_pct_month=trade_amt_pct_month.applymap(lambda x: '%.2f%%' % x)\n",
    "tx_amt_pct_month.index=pd.MultiIndex.from_product([['tx_amt_pct'],\n",
    "                        ['total', 'OrderBook_Fiat_TX_api', 'OrderBook_Fiat_TX', 'Crypto_TX_api',\n",
    "       'Crypto_TX', 'Agent_Fiat_TX']])\n",
    "df_trans_type_month=df_trans_type_month.append(tx_amt_pct_month,verify_integrity=True,ignore_index=False)\n",
    "\n",
    "avg_tx_amt_peruser_month=df_trans_type_month.apply(lambda x: (x.loc['tx_amount']/x.loc['tx_customer_cnt']))\n",
    "avg_tx_amt_peruser_month.index=pd.MultiIndex.from_product([['avg_tx_amt_peruser'],\n",
    "                        ['total', 'OrderBook_Fiat_TX_api', 'OrderBook_Fiat_TX', 'Crypto_TX_api',\n",
    "       'Crypto_TX', 'Agent_Fiat_TX']])\n",
    "df_trans_type_month=df_trans_type_month.append(avg_tx_amt_peruser_month,verify_integrity=True,ignore_index=False)\n",
    "\n",
    "# only can do it when it's int/float: compite vslastweek and str() and then add \"%\" to that part, move vslastweek columns in the end\n",
    "df_trans_type_month['vsLastMonth']=df_trans_type_month.apply(lambda x: '%.2f%%' % ((x[this_month]-x[last_month])*100/x[last_month]),axis=1)\n",
    "df_trans_type_month.iloc[12:18,:-1]=tx_amt_pct_month.applymap(lambda x: '%.2f%%' % x)\n",
    "# df_trans_type_month.iloc[18:,:-1]=avg_tx_amt_peruser_month.applymap(lambda x: '%.2f%%' % x)\n",
    "df_trans_type_month.insert(0,'vs.LastMonth',df_trans_type_month.pop('vsLastMonth'),allow_duplicates=False)"
   ]
  },
  {
   "cell_type": "code",
   "execution_count": null,
   "metadata": {},
   "outputs": [],
   "source": [
    "df_trans_type_week"
   ]
  },
  {
   "cell_type": "code",
   "execution_count": null,
   "metadata": {},
   "outputs": [],
   "source": [
    "df_trans_type_month"
   ]
  },
  {
   "cell_type": "markdown",
   "metadata": {},
   "source": [
    "### trans symbol"
   ]
  },
  {
   "cell_type": "code",
   "execution_count": null,
   "metadata": {
    "code_folding": [
     1
    ]
   },
   "outputs": [],
   "source": [
    "@db_util.sql_to_df('ofp_mysql')\n",
    "def data_trans_type_new2():\n",
    "    \"\"\"distinguish by trade_currency\"\"\"\n",
    "    sql = \"\"\"    \n",
    "    select \n",
    "        'week' as type\n",
    "        , date_format(subdate(date(order_end_time),if(date_format(date(order_end_time),'%%w')=0,7,date_format(date(order_end_time),'%%w'))-1),'%%Y-%%m-%%d') as period\n",
    "        -- , order_type\n",
    "        , if(symbol like '%%CNY%%','CNY','NON_CNY') as symbol\n",
    "        , symbol as subsymbol\n",
    "        , count(DISTINCT order_id) as case_cnt\n",
    "        , sum(transaction_volume) as amount\n",
    "    from retail.ba_succ_transaction\n",
    "    where record_type in ('SELL','BUY') and is_otc != 'OTC' \n",
    "    and order_end_time>=subdate(curdate(),if(date_format(curdate(),'%%w')=0,7,date_format(curdate(),'%%w'))-1) - interval '49' day \n",
    "    and order_end_time<current_date \n",
    "    and worth_currency='CNY'\n",
    "    group by 1,2,3,4\n",
    "    union all\n",
    "    select\n",
    "        'month' as type\n",
    "        , date_format(last_day(order_end_time),'%%Y-%%m-%%d') as period\n",
    "        -- , order_type\n",
    "        , if(symbol like '%%CNY%%','CNY','NON_CNY') as symbol\n",
    "        , symbol as subsymbol\n",
    "        , count(DISTINCT order_id) as case_cnt\n",
    "        , sum(transaction_volume) as amount\n",
    "    from retail.ba_succ_transaction\n",
    "    where record_type in ('SELL','BUY') and is_otc != 'OTC' \n",
    "    and order_end_time>=date_format(curdate(),'%%Y-%%m-01') - interval '7' month \n",
    "    and order_end_time<date_format(curdate(),'%%Y-%%m-01')\n",
    "    and worth_currency='CNY'\n",
    "    group by 1,2,3,4\n",
    "    order by 1,2 desc,6 desc\n",
    "    \"\"\"\n",
    "    return sql\n",
    "\n",
    "\n",
    "## 按买卖币对，待写出：每个月只取交易额前五的币对 SQL\n",
    "df_symbol = data_trans_type_new2()\n",
    "\n",
    "# df_symbol"
   ]
  },
  {
   "cell_type": "code",
   "execution_count": null,
   "metadata": {},
   "outputs": [],
   "source": [
    "df_symbol_temp=pd.DataFrame(df_symbol.groupby(['period']).sum())\n",
    "# df_symbol_temp2=pd.DataFrame(df_symbol.groupby(['period']).head(3).set_index('period'))\n",
    "df_symbol_temp2=pd.DataFrame(df_symbol.groupby(['period']).apply(lambda x: x.sort_values('amount', ascending=False).head(3))).drop('period',axis=1)\n",
    "df_symbol_temp2=df_symbol_temp2.join(df_symbol_temp,on='period',how='left',rsuffix='_ttl')\n",
    "# df_symbol_temp2\n",
    "# df_symbol_week_top=pd.DataFrame(df_symbol_temp2[df_symbol_temp2['type']=='week'].groupby(['period','subsymbol']))\n",
    "df_symbol_week_top=df_symbol_temp2[df_symbol_temp2['type']=='week'].pivot_table(\n",
    "#     values=['amount','amt_pct','case_cnt','case_pct'],\n",
    "    index=['period','subsymbol'],\n",
    "    aggfunc=np.sum,\n",
    "    sort=True).sort_index(axis=0,ascending=False)\n",
    "df_symbol_week_top['amt_pct']=df_symbol_week_top.apply(lambda x: '%.2f%%' % ((x['amount']*100)/x['amount_ttl']),axis=1)\n",
    "df_symbol_week_top['case_pct']=df_symbol_week_top.apply(lambda x: '%.2f%%' % ((x['case_cnt']*100)/x['case_cnt_ttl']),axis=1)\n",
    "df_symbol_week_top.drop(columns=['amount_ttl','case_cnt_ttl'],inplace=True)\n",
    "# df_symbol_week_top.sort_values(by=['amount'],ascending=True)\n",
    "\n",
    "# df_symbol['subsymbol'].groupby(df_symbol['period'],axis=0).['subsymbol'].rank(method='first',ascending=True))\n",
    "df_symbol_month_top=df_symbol_temp2[df_symbol_temp2['type']=='month'].pivot_table(\n",
    "    index=['period','subsymbol'],\n",
    "    aggfunc=np.sum,\n",
    "    sort=True).sort_index(axis=0,ascending=False)\n",
    "df_symbol_month_top['amt_pct']=df_symbol_month_top.apply(lambda x: '%.2f%%' % ((x['amount']*100)/x['amount_ttl']),axis=1)\n",
    "df_symbol_month_top['case_pct']=df_symbol_month_top.apply(lambda x: '%.2f%%' % ((x['case_cnt']*100)/x['case_cnt_ttl']),axis=1)\n",
    "df_symbol_month_top.drop(columns=['amount_ttl','case_cnt_ttl'],inplace=True)\n",
    "# df_symbol_month_top.sort_values(by=['amount'],ascending=True)"
   ]
  },
  {
   "cell_type": "code",
   "execution_count": null,
   "metadata": {
    "scrolled": true
   },
   "outputs": [],
   "source": [
    "df_symbol_week_top"
   ]
  },
  {
   "cell_type": "code",
   "execution_count": null,
   "metadata": {
    "scrolled": true
   },
   "outputs": [],
   "source": [
    "df_symbol_month_top"
   ]
  },
  {
   "cell_type": "markdown",
   "metadata": {},
   "source": [
    "## REAL_NAME AUTHENTICATION"
   ]
  },
  {
   "cell_type": "code",
   "execution_count": null,
   "metadata": {
    "code_folding": [
     2,
     34
    ]
   },
   "outputs": [],
   "source": [
    "\n",
    "@db_util.sql_to_df('ofp_mysql')\n",
    "def data_rna2():\n",
    "    \"\"\"rna in different devices\"\"\"\n",
    "    sql = \"\"\"    \n",
    "    select \n",
    "        'week' as type,\n",
    "        date_format(subdate(date(m1.created_at),if(date_format(date(m1.created_at),'%%w')=0,7,date_format(date(m1.created_at),'%%w'))-1),'%%Y-%%m-%%d') as period,\n",
    "        if(m1.source_mark='undefined','web',m1.source_mark) as source_mark,\n",
    "        count(DISTINCT m1.id) as total,\n",
    "        count(DISTINCT if(status = 'SUCCESSFUL',m1.id,null)) as suc\n",
    "    from retail.ofp_rna_audit_record m1\n",
    "    left join retail.ofp_customer_ext m2 on m2.cid = m1.cid\n",
    "    where m1.created_at>=subdate(curdate(),if(date_format(curdate(),'%%w')=0,7,date_format(curdate(),'%%w'))-1) - interval '49' day and m1.created_at<current_date\n",
    "    and m2.source <> 'TEST' and m1.rna_level=1 and rna_area='CHINA' and rna_type='INDIVIDUAL'\n",
    "    group by 1,2,3\n",
    "    union all\n",
    "    select \n",
    "        'month' as type,\n",
    "        date_format(m1.created_at,'%%Y-%%m') as period,\n",
    "        if(m1.source_mark='undefined','web',m1.source_mark) as source_mark,\n",
    "        count(DISTINCT m1.id) as total,\n",
    "        count(DISTINCT if(status = 'SUCCESSFUL',m1.id,null)) as suc\n",
    "    from retail.ofp_rna_audit_record m1\n",
    "    left join retail.ofp_customer_ext m2 on m2.cid = m1.cid\n",
    "    where m1.created_at>=date_format(current_date,'%%Y-%%m-01') - interval '7' month and m1.created_at<current_date\n",
    "    and m2.source <> 'TEST' and m1.rna_level=1 and rna_area='CHINA' and rna_type='INDIVIDUAL'\n",
    "    group by 1,2,3\n",
    "    order by 3,2,1\n",
    "\n",
    "    \"\"\"\n",
    "    return sql\n",
    "\n",
    "@db_util.sql_to_df('ofp_mysql')\n",
    "def data_rna3():\n",
    "    \"\"\"rna in different markets\"\"\"\n",
    "    sql = \"\"\"    \n",
    "    select \n",
    "        'week' as type,\n",
    "        date_format(subdate(date(m1.created_at),if(date_format(date(m1.created_at),'%%w')=0,7,date_format(date(m1.created_at),'%%w'))-1),'%%Y-%%m-%%d') as period,\n",
    "        market_source,\n",
    "        count(DISTINCT m1.id) as total,\n",
    "        count(DISTINCT if(status = 'SUCCESSFUL',m1.id,null)) as suc\n",
    "    from retail.ofp_rna_audit_record m1\n",
    "    left join retail.ba_customer m2 on m2.cid = m1.cid\n",
    "    where m1.created_at>=subdate(curdate(),if(date_format(curdate(),'%%w')=0,7,date_format(curdate(),'%%w'))-1) - interval '49' day and m1.created_at<current_date\n",
    "    and m1.rna_level=1 and m1.rna_area='CHINA' and m1.rna_type='INDIVIDUAL'\n",
    "    group by 1,2,3\n",
    "    union all\n",
    "    select \n",
    "        'month' as type,\n",
    "        date_format(m1.created_at,'%%Y-%%m') as period,\n",
    "        market_source,\n",
    "        count(DISTINCT m1.id) as total,\n",
    "        count(DISTINCT if(status = 'SUCCESSFUL',m1.id,null)) as suc\n",
    "    from retail.ofp_rna_audit_record m1\n",
    "    left join retail.ba_customer m2 on m2.cid = m1.cid\n",
    "    where m1.created_at>=date_format(current_date,'%%Y-%%m-01') - interval '7' month and m1.created_at<current_date\n",
    "    and m1.rna_level=1 and m1.rna_area='CHINA' and m1.rna_type='INDIVIDUAL'\n",
    "    group by 1,2,3\n",
    "    order by 3,2,1\n",
    "\n",
    "    \"\"\"\n",
    "    return sql"
   ]
  },
  {
   "cell_type": "code",
   "execution_count": null,
   "metadata": {},
   "outputs": [],
   "source": [
    "df_rna_device = data_rna2()"
   ]
  },
  {
   "cell_type": "code",
   "execution_count": null,
   "metadata": {},
   "outputs": [],
   "source": [
    "df_rna_market = data_rna3()"
   ]
  },
  {
   "cell_type": "code",
   "execution_count": null,
   "metadata": {
    "code_folding": [
     1
    ],
    "jupyter": {
     "source_hidden": true
    }
   },
   "outputs": [],
   "source": [
    "@db_util.sql_to_df('ofp_mysql')\n",
    "def data_rna1():\n",
    "    \"\"\"rna succ_rate and timecost\"\"\"\n",
    "    sql = \"\"\"    \n",
    "    select \n",
    "        'week' as type,\n",
    "        date_format(subdate(date(m1.created_at),if(date_format(date(m1.created_at),'%%w')=0,7,date_format(date(m1.created_at),'%%w'))-1),'%%Y-%%m-%%d') as period,\n",
    "        m1.rna_level,\n",
    "        m1.rna_area,\n",
    "        m1.rna_type,\n",
    "        -- m1.auditor,\n",
    "        case when m1.auditor='Ewally' then 'Ewally'\n",
    "             when m1.auditor='IDWall' then 'IDWall'\n",
    "             else 'normal'\n",
    "        end as auditor_tag,\n",
    "        count(DISTINCT m1.id) as total,\n",
    "        count(DISTINCT m1.cid) as user,\n",
    "        count(DISTINCT if(status = 'SUCCESSFUL',m1.id,null)) as suc,\n",
    "        count(DISTINCT if(status = 'SUCCESSFUL',m1.cid,null)) as suc_cnt,\n",
    "        count(DISTINCT m3.cid) as trade_all,\n",
    "        count(DISTINCT m3.trade_cid) as trade,\n",
    "        count(DISTINCT if(status = 'FAILED',m1.id,null)) as fail,\n",
    "        count(DISTINCT if(status = 'FAILED',m1.cid,null)) as fail_cnt,\n",
    "        count(DISTINCT if(status in ('PENDING', 'AUDITING'),m1.id,null)) as pending,\n",
    "        sum(if(status in ('SUCCESSFUL','FAILED'),TIMESTAMPDIFF(minute,m1.created_at,m1.audited_at),0)) as total_deal_min\n",
    "    from retail.ofp_rna_audit_record m1\n",
    "    left join retail.ofp_customer_ext m2 on m2.cid = m1.cid\n",
    "    left join (select cid,if(record_type in ('SELL','BUY'),cid,null) as trade_cid from retail.ba_succ_transaction where is_otc !='OTC' group by 1)m3 on m3.cid=m1.cid\n",
    "    where m1.created_at>=subdate(curdate(),if(date_format(curdate(),'%%w')=0,7,date_format(curdate(),'%%w'))-1) - interval '42' day and m1.created_at<current_date\n",
    "    and m2.source <> 'TEST' and m1.rna_area !='AMERICA'\n",
    "    and m1.status !='CANCELED'\n",
    "    group by 1,2,3,4,5,6\n",
    "    union all\n",
    "    select \n",
    "        'month' as type,\n",
    "        date_format(m1.created_at,'%%Y-%%m') as period,\n",
    "        m1.rna_level,\n",
    "        m1.rna_area,\n",
    "        m1.rna_type,\n",
    "        -- m1.auditor,\n",
    "        case when m1.auditor='Ewally' then 'Ewally'\n",
    "             when m1.auditor='IDWall' then 'IDWall'dwd_\n",
    "             else 'normal'\n",
    "        end as auditor_tag,\n",
    "        count(DISTINCT m1.id) as total,\n",
    "        count(DISTINCT m1.cid) as user,\n",
    "        count(DISTINCT if(status = 'SUCCESSFUL',m1.id,null)) as suc,\n",
    "        count(DISTINCT if(status = 'SUCCESSFUL',m1.cid,null)) as suc_cnt,\n",
    "        count(DISTINCT m3.cid) as trade_all,\n",
    "        count(DISTINCT m3.trade_cid) as trade,\n",
    "        count(DISTINCT if(status = 'FAILED',m1.id,null)) as fail,\n",
    "        count(DISTINCT if(status = 'FAILED',m1.cid,null)) as fail_cnt,\n",
    "        count(DISTINCT if(status in ('PENDING', 'AUDITING'),m1.id,null)) as pending,\n",
    "        sum(if(status in ('SUCCESSFUL','FAILED'),TIMESTAMPDIFF(minute,m1.created_at,m1.audited_at),0)) as total_deal_min\n",
    "    from retail.ofp_rna_audit_record m1\n",
    "    left join retail.ofp_customer_ext m2 on m2.cid = m1.cid\n",
    "    left join (select cid,if(record_type in ('SELL','BUY'),cid,null) as trade_cid from retail.ba_succ_transaction where is_otc !='OTC' group by 1)m3 on m3.cid=m1.cid\n",
    "    where m2.source <> 'TEST' and m1.rna_area !='AMERICA'\n",
    "    and m1.status !='CANCELED'\n",
    "    and m1.created_at>=date_format(curdate(),'%%Y-%%m-01') - interval '7' month \n",
    "    and m1.created_at<date_format(curdate(),'%%Y-%%m-01') \n",
    "    group by 1,2,3,4,5,6\n",
    "    order by 1,3,5,6,2 desc\n",
    "    \"\"\"\n",
    "    return sql\n",
    "\n",
    "# rna audit_succ_rate & timecost\n",
    "df_rna = data_rna1()\n",
    "df_rna[df_rna['auditor_tag']=='Ewally']=df_rna[df_rna['auditor_tag']=='Ewally'].replace(to_replace=1,value=2)\n",
    "df_rna"
   ]
  },
  {
   "cell_type": "markdown",
   "metadata": {},
   "source": [
    "### rna succ rete"
   ]
  },
  {
   "cell_type": "code",
   "execution_count": null,
   "metadata": {},
   "outputs": [],
   "source": [
    "df_rna_succ_week=df_rna[df_rna['type']=='week'].pivot_table(index=['period','rna_level','rna_type'],\n",
    "                                                            values=['total','suc','pending'],\n",
    "                                                            aggfunc=np.sum,\n",
    "                                                            fill_value=0)\n",
    "df_rna_succ_week['succ_rate']=df_rna_succ_week['suc']/(df_rna_succ_week['total']-df_rna_succ_week['pending'])\n",
    "df_rna_succ_week.drop(columns=['suc','pending','total'],inplace=True)\n",
    "df_rna_succ_week=df_rna_succ_week.xs('succ_rate',axis=1).unstack(0).fillna(0).sort_index(axis=1,ascending=False)\n",
    "df_rna_succ_week"
   ]
  },
  {
   "cell_type": "code",
   "execution_count": null,
   "metadata": {},
   "outputs": [],
   "source": [
    "df_rna_succ_month=df_rna[df_rna['type']=='month'].pivot_table(index=['period','rna_level','rna_type'],\n",
    "                                                            values=['total','suc','pending'],\n",
    "                                                            aggfunc=np.sum,\n",
    "                                                            fill_value=0)\n",
    "df_rna_succ_month['succ_rate']=df_rna_succ_month['suc']/(df_rna_succ_month['total']-df_rna_succ_month['pending'])\n",
    "df_rna_succ_month.drop(columns=['suc','pending','total'],inplace=True)\n",
    "df_rna_succ_month=df_rna_succ_month.xs('succ_rate',axis=1).unstack(0).fillna('-').sort_index(axis=1,ascending=False)\n",
    "df_rna_succ_month"
   ]
  },
  {
   "cell_type": "markdown",
   "metadata": {},
   "source": [
    "### rna overview"
   ]
  },
  {
   "cell_type": "code",
   "execution_count": null,
   "metadata": {
    "scrolled": true
   },
   "outputs": [],
   "source": [
    "#compute the succ_rate/closed_rate/unclosed_cnt of Audit-ISV distinguished by rna_level\n",
    "df_rna_month=df_rna[(df_rna['type']=='month') & (df_rna['rna_type']=='INDIVIDUAL')].pivot_table(index=['rna_level','auditor_tag','period'],aggfunc=np.sum,fill_value=0)\n",
    "#     sort=True,'rna_level',\n",
    "# .sort_index(axis=1,ascending=False).xs('sum',axis=1)\n",
    "df_rna_month['calc_case_cnt']=df_rna_month['total']-df_rna_month['pending']\n",
    "# df_rna_month['succ_rate']=df_rna_month.apply(lambda x: '%.2f%%' % ((x['suc']*100)/x['calc_case_cnt']),axis=1)\n",
    "df_rna_month['succ_rate']=df_rna_month['suc']/df_rna_month['calc_case_cnt']\n",
    "# df_rna_month['succ_rate_ofuser']=df_rna_month.apply(lambda x: '%.2f%%' % ((x['suc_cnt']*100)/x['user']),axis=1)\n",
    "df_rna_month['succ_rate_ofuser']=df_rna_month['suc_cnt']/df_rna_month['user']\n",
    "df_rna_month['avg_case_peruser']=round(df_rna_month['total']/df_rna_month['user'],2)\n",
    "df_rna_month['avg_deal_min']=round(df_rna_month['total_deal_min']/(df_rna_month['suc']+df_rna_month['fail']),2)\n",
    "df_rna_month.drop(axis=1,columns=['fail','fail_cnt','suc', 'suc_cnt','total','total_deal_min'],inplace=True)\n",
    "df_rna_month=df_rna_month.sort_index(axis=1,ascending=True)\n",
    "df_rna_month"
   ]
  },
  {
   "cell_type": "code",
   "execution_count": null,
   "metadata": {
    "scrolled": true
   },
   "outputs": [],
   "source": [
    "df_rna_week=df_rna[(df_rna['type']=='week') & (df_rna['rna_type']=='INDIVIDUAL')].pivot_table(index=['rna_level','auditor_tag','period'],aggfunc=np.sum,fill_value=0)\n",
    "#     sort=True,'rna_level',\n",
    "# .sort_index(axis=1,ascending=False).xs('sum',axis=1)\n",
    "df_rna_week['calc_case_cnt']=df_rna_week['total']-df_rna_week['pending']\n",
    "# df_rna_week['succ_rate']=df_rna_week.apply(lambda x: '%.2f%%' % ((x['suc']*100)/x['calc_case_cnt']),axis=1)\n",
    "df_rna_week['succ_rate']=df_rna_week['suc']/df_rna_week['calc_case_cnt']\n",
    "# df_rna_week['succ_rate_ofuser']=df_rna_week.apply(lambda x: '%.2f%%' % ((x['suc_cnt']*100)/x['user']),axis=1)\n",
    "df_rna_week['succ_rate_ofuser']=df_rna_week['suc_cnt']/df_rna_week['user']\n",
    "df_rna_week['avg_case_peruser']=round(df_rna_week['total']/df_rna_week['user'],2)\n",
    "df_rna_week['avg_deal_min']=round(df_rna_week['total_deal_min']/(df_rna_week['suc']+df_rna_week['fail']),2)\n",
    "df_rna_week=df_rna_week.drop(axis=1,columns=['fail','fail_cnt','suc', 'suc_cnt','total','total_deal_min'])\n",
    "df_rna_week=df_rna_week.sort_index(axis=1,ascending=True)\n",
    "df_rna_week"
   ]
  },
  {
   "cell_type": "markdown",
   "metadata": {},
   "source": [
    "## DEPOSIT & WITHDRAW"
   ]
  },
  {
   "cell_type": "code",
   "execution_count": null,
   "metadata": {
    "code_folding": [
     1
    ]
   },
   "outputs": [],
   "source": [
    "@db_util.sql_to_df('ofp_mysql')\n",
    "def data_deposit1():\n",
    "    \"\"\"succ_rate in first depo & withd\"\"\"\n",
    "    sql = \"\"\"    \n",
    "    select\n",
    "        'week' as type\n",
    "        , date_format(subdate(date(created_at),if(date_format(date(created_at),'%%w')=0,7,date_format(date(created_at),'%%w'))-1),'%%Y-%%m-%%d') as period\n",
    "        , record_type\n",
    "        , balance_code\n",
    "        , if(rnk=1,'first','not_first') as \"rnk\"\n",
    "        -- , bank_name\n",
    "        , bank_code\n",
    "        , count(DISTINCT id) as \"case\"\n",
    "        , count(DISTINCT if(record_status='SUCCESS',id,null)) as \"succ\"\n",
    "        , count(DISTINCT if(record_status='FAIL',id,null)) as \"fail\"\n",
    "        , count(DISTINCT if(record_status in ('NEDD_ADUIT','PAYED'),id,null)) as \"pending\"\n",
    "        , sum(if(record_status in ('SUCCESS','FAIL'),TIMESTAMPDIFF(hour,created_at,finished_at),0)) as deal_hour\n",
    "        , max(amount) max_amt\n",
    "        , sum(amount) as total_amt\n",
    "        , max(if(record_status='SUCCESS',amount,null)) succ_max_amt\n",
    "        , sum(if(record_status='SUCCESS',amount,0)) as succ_amt\n",
    "        , count(DISTINCT if(record_status='SUCCESS',cid,null)) as \"succ_user\"\n",
    "     from\n",
    "    (\n",
    "        select a.*,row_number() over (partition by cid,record_type order by created_at) as rnk\n",
    "        from\n",
    "        (\n",
    "            select DISTINCT m1.id,m1.cid,\n",
    "            if(m1.finished_at<m1.created_at,m1.finished_at,m1.created_at) created_at,\n",
    "            m1.finished_at,m1.record_type,m1.record_status,-- m1.bank_name,\n",
    "            concat(\n",
    "            case\n",
    "              when m1.record_note like '%%ewally%%' then 'ewally'\n",
    "              when m1.record_note in ('transferbalance-out','transferbalance-in') then 'internal_transfer'\n",
    "              when m1.record_type='DEPOSIT' then m1.bank_code\n",
    "              when m1.record_type='WITHDRAW' then ifnull(m1.pre_id,'manual')\n",
    "            end,\n",
    "            case when bank_id is null then '' else '_PLURAL' end ) bank_code\n",
    "            ,m1.balance_code,m1.amount\n",
    "            from retail.ofp_legal_record m1\n",
    "            join retail.ofp_customer_ext m2 on m1.cid=m2.cid\n",
    "            where m2.source != 'TEST' and m1.record_note != 'OTC' and m1.record_type in ('DEPOSIT','WITHDRAW')\n",
    "            and m1.balance_code='CNY'\n",
    "        )a order by 2,5,3\n",
    "    )m1\n",
    "    where created_at>=subdate(curdate(),if(date_format(curdate(),'%%w')=0,7,date_format(curdate(),'%%w'))-1) - interval '49' day and created_at<current_date\n",
    "    group by 1,2,3,4,5,6\n",
    "    \n",
    "    union all\n",
    "    \n",
    "    select \n",
    "        'month' as type\n",
    "        , date_format(created_at,'%%Y-%%m') as period\n",
    "        , record_type\n",
    "        , balance_code\n",
    "        , if(rnk=1,'first','not_first') as \"rnk\"\n",
    "        -- , bank_name\n",
    "        , bank_code\n",
    "        , count(DISTINCT id) as \"case\"\n",
    "        , count(DISTINCT if(record_status='SUCCESS',id,null)) as \"succ\"\n",
    "        , count(DISTINCT if(record_status='FAIL',id,null)) as \"fail\"\n",
    "        , count(DISTINCT if(record_status in ('NEDD_ADUIT','PAYED'),id,null)) as \"pending\"\n",
    "        , sum(if(record_status in ('SUCCESS','FAIL'),TIMESTAMPDIFF(hour,created_at,finished_at),0)) as deal_hour\n",
    "        , max(amount) max_amt\n",
    "        , sum(amount) as total_amt\n",
    "        , max(if(record_status='SUCCESS',amount,null)) succ_max_amt\n",
    "        , sum(if(record_status='SUCCESS',amount,0)) as succ_amt\n",
    "        , count(DISTINCT if(record_status='SUCCESS',cid,null)) as \"succ_user\"\n",
    "    from\n",
    "    (\n",
    "        select a.*,row_number() over (partition by cid,record_type order by created_at) as rnk\n",
    "        from \n",
    "        (\n",
    "            select DISTINCT m1.id,m1.cid,\n",
    "            if(m1.finished_at<m1.created_at,m1.finished_at,m1.created_at) created_at,\n",
    "            m1.finished_at,m1.record_type,m1.record_status,-- m1.bank_name,\n",
    "            concat(\n",
    "            case \n",
    "              when m1.record_note like '%%ewally%%' then 'ewally' \n",
    "              when m1.record_note in ('transferbalance-out','transferbalance-in') then 'internal_transfer' \n",
    "              when m1.record_type='DEPOSIT' then m1.bank_code \n",
    "              when m1.record_type='WITHDRAW' then ifnull(m1.pre_id,'manual')\n",
    "            end,\n",
    "            case when bank_id is null then '' else '_PLURAL' end ) bank_code\n",
    "            ,m1.balance_code,m1.amount\n",
    "            from retail.ofp_legal_record m1 \n",
    "            join retail.ofp_customer_ext m2 on m1.cid=m2.cid\n",
    "            where m2.source != 'TEST' and m1.record_note != 'OTC' and m1.record_type in ('DEPOSIT','WITHDRAW') \n",
    "            and m1.balance_code='CNY'\n",
    "        )a order by 2,5,3\n",
    "    )m1 \n",
    "    where created_at>=date_format(curdate(),'%%Y-%%m-01') - interval '6' month \n",
    "    and created_at<date_format(curdate(),'%%Y-%%m-01')\n",
    "    group by 1,2,3,4,5,6\n",
    "    order by 1,2 desc,3\n",
    "    \"\"\"\n",
    "    return sql\n",
    "\n",
    "df_deposit = data_deposit1()\n",
    "# df_deposit"
   ]
  },
  {
   "cell_type": "code",
   "execution_count": null,
   "metadata": {
    "scrolled": true
   },
   "outputs": [],
   "source": [
    "df_deposit_week=df_deposit[(df_deposit['type']=='week') & (df_deposit['bank_code'] != 'manual')].pivot_table(\n",
    "    index=['record_type','bank_code','period'],\n",
    "    values=['case','pending','deal_hour','succ','fail','total_amt','succ_amt','succ_user'],\n",
    "    aggfunc=np.sum,\n",
    "    margins=True,\n",
    "    margins_name='TOTAL'\n",
    ")\n",
    "df_deposit_week['calc_case']=df_deposit_week['case']-df_deposit_week['pending']\n",
    "df_deposit_week['calc_succ_rate']=df_deposit_week['succ']/df_deposit_week['calc_case']\n",
    "# df_deposit_week.apply(lambda x: '%.2f%%' % ((x['succ']*100)/x['calc_case']),axis=1)\n",
    "df_deposit_week['avg_amt_succ_case']=round(df_deposit_week['succ_amt']/df_deposit_week['succ'],2)\n",
    "df_deposit_week['avg_deal_hour']=df_deposit_week['deal_hour']/(df_deposit_week['succ']+df_deposit_week['fail'])\n",
    "df_deposit_week['amt_succ_rate']=df_deposit_week.apply(lambda x: '%.2f%%' % ((x['succ_amt']*100)/x['total_amt']),axis=1)\n",
    "df_deposit_week['avg_amt_succ_user']=round(df_deposit_week['succ_amt']/df_deposit_week['succ_user'],2)\n",
    "df_deposit_week['avg_case_succ_user']=round(df_deposit_week['calc_case']/df_deposit_week['succ_user'],2)\n",
    "df_deposit_week['succ_amt']=round(df_deposit_week['succ_amt'],2)\n",
    "df_deposit_week.drop(axis=1,columns=['deal_hour', 'fail','succ','total_amt','case'],inplace=True)\n",
    "df_deposit_week"
   ]
  },
  {
   "cell_type": "code",
   "execution_count": null,
   "metadata": {
    "scrolled": true
   },
   "outputs": [],
   "source": [
    "df_deposit_month=df_deposit[(df_deposit['type']=='month') & ((df_deposit['bank_code']=='auto_PLURAL')|(df_deposit['bank_code']=='ewally')|(df_deposit['bank_code']=='manual_PLURAL'))].pivot_table(\n",
    "    index=['record_type','bank_code','period'],\n",
    "    values=['case','pending','deal_hour','succ','fail','total_amt','succ_amt','succ_user'],\n",
    "    aggfunc=np.sum,\n",
    "    margins=True,\n",
    "    margins_name='TOTAL'\n",
    ")\n",
    "df_deposit_month['calc_case']=df_deposit_month['case']-df_deposit_month['pending']\n",
    "df_deposit_month['calc_succ_rate']=df_deposit_month['succ']/df_deposit_month['calc_case']\n",
    "# df_deposit_month.apply(lambda x: '%.2f%%' % ((x['succ']*100)/x['calc_case']),axis=1)\n",
    "df_deposit_month['avg_amt_succ_case']=round(df_deposit_month['succ_amt']/df_deposit_month['succ'],2)\n",
    "df_deposit_month['avg_deal_hour']=df_deposit_month['deal_hour']/(df_deposit_month['succ']+df_deposit_month['fail'])\n",
    "df_deposit_month['amt_succ_rate']=df_deposit_month.apply(lambda x: '%.2f%%' % ((x['succ_amt']*100)/x['total_amt']),axis=1)\n",
    "df_deposit_month['avg_amt_succ_user']=round(df_deposit_month['succ_amt']/df_deposit_month['succ_user'],2)\n",
    "df_deposit_month['avg_case_succ_user']=round(df_deposit_month['calc_case']/df_deposit_month['succ_user'],2)\n",
    "df_deposit_month['succ_amt']=round(df_deposit_month['succ_amt'],2)\n",
    "df_deposit_month.drop(axis=1,columns=['deal_hour', 'fail','succ','total_amt','case'],inplace=True)\n",
    "df_deposit_month\n",
    "\n",
    "# file_loader = FileSystemLoader('/Users/PycharmProjects/common/templates/html')\n",
    "#     jinja_env = Environment(loader=file_loader)\n",
    "#     template = jinja_env.get_template(\"df_table_elem.html\")\n",
    "#     res = template.render(df=df_deposit_month, table_id=\"table1\", cust_class=\"ui celled table\")"
   ]
  },
  {
   "cell_type": "code",
   "execution_count": null,
   "metadata": {
    "code_folding": [
     0
    ],
    "scrolled": true
   },
   "outputs": [],
   "source": [
    "# try to color the df\n",
    "df_deposit_month = df_deposit_month.sortlevel(0,axis=1)\n",
    "df_deposit_month.style.bar(subset=df_deposit_month.loc[0:5,'succ_amt'],axis=0,color=['#d65f5f', '#5fba7d'],align='mid')\n",
    "def show(df):\n",
    "    return df.style.background_gradient(cmap='gray_r',axis=1)\n",
    "\n",
    "def showlow(col):\n",
    "    c = col == col.min()\n",
    "    return ['background-color:red' if v else '' for v in c]\n",
    "df_deposit_month.style.apply(showlow)\n",
    "df_deposit_month.style.background_gradient(cmap='gray_r',axis=1,subset=pd.IndexSlice[:5,[''])\n",
    "df_deposit_month.style.background_gradient()\n",
    "df_deposit_month.iloc[:6,1]"
   ]
  },
  {
   "cell_type": "markdown",
   "metadata": {},
   "source": [
    "## MONTHLY GOALS & PENDING"
   ]
  },
  {
   "cell_type": "code",
   "execution_count": null,
   "metadata": {
    "code_folding": []
   },
   "outputs": [],
   "source": [
    "@db_util.sql_to_df('ofp_mysql')\n",
    "def data_p_and_l():\n",
    "    \"\"\"goal of each month\"\"\"\n",
    "    sql = \"\"\"    \n",
    "    select distinct period,type,attr,value\n",
    "    from retail.ba_goal_actual \n",
    "    where rna_area !='AMERICA' and period<=date_format(current_date,'%%Y-%%m-01')\n",
    "    \"\"\"\n",
    "    return sql\n",
    "\n",
    "result = data_p_and_l()\n",
    "result = result.pivot_table(index = ['type','attr'],columns='period').stack(0).reset_index().fillna(0)\n",
    "monthly_result = result.drop(['type','level_2'],axis=1)"
   ]
  },
  {
   "cell_type": "markdown",
   "metadata": {
    "editable": true,
    "slideshow": {
     "slide_type": ""
    },
    "tags": []
   },
   "source": [
    "# __CONVERT DFs TO HTML__\n",
    "---\n",
    "## READ DATA FROM DF"
   ]
  },
  {
   "cell_type": "code",
   "execution_count": null,
   "metadata": {
    "code_folding": []
   },
   "outputs": [],
   "source": [
    "from jinja2 import Template, FileSystemLoader, Environment\n",
    "from sources.common.utils import cos_util\n",
    "file_loader = FileSystemLoader('/Users/PycharmProjects/common/templates/html')  # change this to your absolute path\n",
    "jinja_env = Environment(loader=file_loader)\n",
    "template = jinja_env.get_template(\"df_table_elem.html\")\n",
    "\n",
    "\n",
    "today = str(dt.date.today())\n",
    "# int((datetime(2015, 10, 30, 0, 0, 0) - datetime(1970, 1, 1, 8, 0, 0)).total_seconds())\n",
    "this_week_end_date=str(dt.date.today()+relativedelta(weeks=-1,weekday=calendar.SUNDAY))\n",
    "last_week_end_date=str(dt.date.today()+relativedelta(weeks=-2,weekday=calendar.SUNDAY))\n",
    "three_weeks_ago=str(dt.date.today()+relativedelta(weeks=-3,weekday=calendar.MONDAY)) # 如果是周一改成-3\n",
    "three_weeks_ago_end_date=str(dt.date.today()+relativedelta(weeks=-3,weekday=calendar.SUNDAY))\n",
    "four_weeks_ago=str(dt.date.today()+relativedelta(weeks=-4,weekday=calendar.MONDAY)) # 如果是周一改成-4\n",
    "four_weeks_ago_end_date=str(dt.date.today()+relativedelta(weeks=-4,weekday=calendar.SUNDAY))\n",
    "\n",
    "grafana_timestamp_from = int((pd.to_datetime(dt.date.today())+relativedelta(weeks=-4,weekday=calendar.MONDAY)).timestamp() * 1000)\n",
    "# ！！change to -4,+2419199 if it's Monday, +pd.Timedelta(days=-1)\n",
    "grafana_timerange = \"from=%d&to=%d\" % (grafana_timestamp_from, grafana_timestamp_from + 86400 * 28 *1000 - 1)\n",
    "# grafana_timerange = 'from=1632700800000&to=1635119999000'"
   ]
  },
  {
   "cell_type": "code",
   "execution_count": null,
   "metadata": {},
   "outputs": [],
   "source": [
    "# three_weeks_ago=str(dt.date.today()+relativedelta(weeks=-3,weekday=calendar.MONDAY))\n",
    "# three_weeks_ago_end_date=str(dt.date.today()+relativedelta(weeks=-3,weekday=calendar.SUNDAY))\n",
    "# four_weeks_ago=str(dt.date.today()+relativedelta(weeks=-4,weekday=calendar.MONDAY))\n",
    "# four_weeks_ago_end_date=str(dt.date.today()+relativedelta(weeks=-4,weekday=calendar.SUNDAY))\n",
    "# print(three_weeks_ago,three_weeks_ago_end_date,four_weeks_ago,four_weeks_ago_end_date)"
   ]
  },
  {
   "cell_type": "markdown",
   "metadata": {},
   "source": [
    "## BEAUTIFY"
   ]
  },
  {
   "cell_type": "code",
   "execution_count": null,
   "metadata": {},
   "outputs": [],
   "source": [
    "# highligt when mouse hovering\n",
    "from IPython.display import HTML\n",
    "def hover(hover_color=\"#ffffcc\"):\n",
    "    return dict(selector=\"tr:hover\",\n",
    "                props=[(\"background-color\", \"%s\" % hover_color)])\n",
    "hover_style = [hover(),\n",
    "        dict(selector=\"th\", props=[(\"font-size\", \"100%\"),(\"text-align\", \"center\")]),\n",
    "        dict(selector=\"caption\", props=[(\"caption-side\", \"bottom\")])]\n",
    "# html = (df.style.set_table_styles(hover_style).set_caption(\"Hover to highlight.\"))\n",
    "# html\n"
   ]
  },
  {
   "cell_type": "code",
   "execution_count": null,
   "metadata": {},
   "outputs": [],
   "source": [
    "# df_transaction_week.pd.IndexSlice[:,2:]"
   ]
  },
  {
   "cell_type": "code",
   "execution_count": null,
   "metadata": {},
   "outputs": [],
   "source": [
    "# list(df_deposit_week.columns[1:])"
   ]
  },
  {
   "cell_type": "code",
   "execution_count": null,
   "metadata": {},
   "outputs": [],
   "source": [
    "# list(df_channel_week.index)"
   ]
  },
  {
   "cell_type": "code",
   "execution_count": null,
   "metadata": {},
   "outputs": [],
   "source": [
    "def poorneg(val):\n",
    "    color='green' if val >0 else 'red'\n",
    "    return 'color:{}'.format(color)"
   ]
  },
  {
   "cell_type": "code",
   "execution_count": null,
   "metadata": {},
   "outputs": [],
   "source": [
    "# set all the df into the right place\n",
    "# .background_gradient(cmap=sns.light_palette(\"green\", as_cmap=True),subset=df_deposit_week.columns[2])\n",
    "# .highlight_min().highlight_max()\n",
    "# .hide_index()\n",
    "# .background_gradient()\n",
    "# df_first_trade_week\n",
    "# pd.IndexSlice[0:5,['succ_amt']]\n",
    "# .iloc[0:6,2]\n",
    "# formatter={'calc_succ_rate':\"{:.0f}\",'amt_succ_rate':\"{:.0f}\"},\n",
    "table_attributes='class=\"ui celled structured table very compact\" border=\"1\"'\n",
    "table_attributes_1='class=\"ui celled structured collapsing table very compact\" border=\"1\"'\n",
    "\n",
    "res1 = df_transaction_week.style.format(na_rep=\"-\",precision=2,thousands=',',decimal='.') \\\n",
    ".set_table_styles(hover_style) \\\n",
    ".to_html(table_attributes=table_attributes)\n",
    "res2 = df_transaction_month.style.format(na_rep=\"-\",precision=2,thousands=',',decimal='.') \\\n",
    ".set_table_styles(hover_style) \\\n",
    ".to_html(table_attributes=table_attributes)\n",
    "# .background_gradient(cmap=sns.<span class=\"mark\">diverging_palette</span>(150, 10, s=80, l=55,as_cmap=True),subset=pd.IndexSlice[(slice[1:]),2:]) \\\n",
    "\n",
    "res3 = df_balance_week.style.format(na_rep=\"-\",precision=2,thousands=',',decimal='.') \\\n",
    ".set_table_styles(hover_style).to_html(table_attributes= table_attributes)\n",
    "res4 = df_balance_month.style.format(na_rep=\"-\",precision=2,thousands=',',decimal='.') \\\n",
    ".set_table_styles(hover_style).to_html(table_attributes= table_attributes)\n",
    "# ,subset=pd.IndexSlice[:,1:]；.applymap(poorneg) \\\n",
    "res5 = df_conv_detail_ov_week.style.format(na_rep=\"-\",precision=2,thousands=',',decimal='.').set_table_styles(hover_style).to_html(table_attributes= table_attributes)\n",
    "res6 = df_conv_detail_ov_month.style.format(na_rep=\"-\",precision=2,thousands=',',decimal='.').set_table_styles(hover_style).to_html(table_attributes= table_attributes)\n",
    "\n",
    "res7 = df_order_otc_week.style.format(na_rep=\"-\",precision=2,thousands=',',decimal='.').set_table_styles(hover_style).to_html(table_attributes= table_attributes)\n",
    "res8 = df_order_otc_month.style.format(na_rep=\"-\",precision=2,thousands=',',decimal='.').set_table_styles(hover_style).to_html(table_attributes= table_attributes)\n",
    "\n",
    "res9 = df_trans_type_week.style.format(na_rep=\"-\",precision=2,thousands=',',decimal='.').set_table_styles(hover_style).to_html(table_attributes= table_attributes)\n",
    "res10 = df_trans_type_month.style.format(na_rep=\"-\",precision=2,thousands=',',decimal='.').set_table_styles(hover_style).to_html(table_attributes= table_attributes)\n",
    "\n",
    "res11 = df_symbol_week_top.style.format(na_rep=\"-\",precision=2,thousands=',',decimal='.').set_table_styles(hover_style).to_html(table_attributes= table_attributes_1)\n",
    "res12 = df_symbol_month_top.style.format(na_rep=\"-\",precision=2,thousands=',',decimal='.').set_table_styles(hover_style).to_html(table_attributes= table_attributes_1)\n",
    "\n",
    "res13 = df_rna_week.style \\\n",
    ".background_gradient(cmap=sns.diverging_palette(10,150,s=70, l=60,as_cmap=True),subset=pd.IndexSlice[(1,'IDWall',slice(None)), ['succ_rate','succ_rate_ofuser','user']]) \\\n",
    ".background_gradient(cmap=sns.diverging_palette(10,150,s=70, l=60,as_cmap=True),subset=pd.IndexSlice[(2,'Ewally',slice(None)), ['succ_rate','succ_rate_ofuser','user']]) \\\n",
    ".format({'succ_rate_ofuser':\"{:.2%}\",'succ_rate':\"{:.2%}\"}) \\\n",
    ".format(na_rep=\"-\",precision=2,thousands=',',decimal='.') \\\n",
    ".set_table_styles(hover_style) \\\n",
    ".to_html(table_attributes= table_attributes_1)\n",
    "res14 = df_rna_month.style \\\n",
    ".background_gradient(cmap=sns.diverging_palette(10,150,s=70, l=60,as_cmap=True),subset=pd.IndexSlice[(1,'IDWall',slice(None)), ['succ_rate','succ_rate_ofuser','user']]) \\\n",
    ".background_gradient(cmap=sns.diverging_palette(10,150,s=70, l=60,as_cmap=True),subset=pd.IndexSlice[(2,'Ewally',slice(None)), ['succ_rate','succ_rate_ofuser','user']]) \\\n",
    ".format({'succ_rate_ofuser':\"{:.2%}\",'succ_rate':\"{:.2%}\"}) \\\n",
    ".format(na_rep=\"-\",precision=2,thousands=',',decimal='.') \\\n",
    ".set_table_styles(hover_style) \\\n",
    ".to_html(table_attributes= table_attributes_1)\n",
    "\n",
    "\n",
    "res15 = df_deposit_week.style \\\n",
    ".background_gradient(cmap=sns.diverging_palette(10,150,s=70, l=60,as_cmap=True),subset=pd.IndexSlice[('DEPOSIT','auto_PLURAL',slice(None)), ['succ_amt',\"calc_case\",'avg_amt_succ_case','avg_amt_succ_user','avg_case_succ_user']]) \\\n",
    ".background_gradient(cmap=sns.diverging_palette(10,150,s=70, l=60,as_cmap=True),subset=pd.IndexSlice[(['WITHDRAW'],'auto_PLURAL',slice(None)), ['succ_amt',\"calc_case\",'avg_amt_succ_case','avg_amt_succ_user','avg_case_succ_user','calc_succ_rate']]) \\\n",
    ".format({'calc_succ_rate':\"{:.2%}\"}).format(na_rep=\"-\",precision=2,thousands=',',decimal='.') \\\n",
    ".set_table_styles(hover_style) \\\n",
    ".to_html(table_attributes= table_attributes)\n",
    "res16 = df_deposit_month.style \\\n",
    ".background_gradient(cmap=sns.diverging_palette(10,150,s=70, l=60,as_cmap=True),subset=pd.IndexSlice[('DEPOSIT','auto_PLURAL',slice(None)), ['succ_amt',\"calc_case\",'avg_amt_succ_case','avg_amt_succ_user','avg_case_succ_user']]) \\\n",
    ".background_gradient(cmap=sns.diverging_palette(10,150,s=70, l=60,as_cmap=True),subset=pd.IndexSlice[('WITHDRAW','auto_PLURAL',slice(None)), ['succ_amt',\"calc_case\",'avg_amt_succ_case','avg_amt_succ_user','avg_case_succ_user','calc_succ_rate']]) \\\n",
    ".format({'calc_succ_rate':\"{:.2%}\"}).format(na_rep=\"-\",precision=2,thousands=',',decimal='.') \\\n",
    ".set_table_styles(hover_style) \\\n",
    ".to_html(table_attributes= table_attributes)\n",
    "\n",
    "res17 = df_channel_week.style.format(na_rep=\"-\",thousands=',',decimal='.').format({'a.reg2rna1_succ':\"{:.2%}\",\n",
    "                                      'b.reg2depo_succ':\"{:.2%}\",\n",
    "                                      'c.reg2trade_succ':\"{:.2%}\",\n",
    "                                      'd.reg2try_rna1(try/reg)':\"{:.2%}\",\n",
    "                                      'e.rna_succ(succ/try)':\"{:.2%}\",\n",
    "                                      'f.reg2try_depo(try/reg)':\"{:.2%}\",\n",
    "                                      'g.depo_succ(succ/try)':\"{:.2%}\"\n",
    "                                     }).set_table_styles(hover_style).to_html(table_attributes= table_attributes)\n",
    "res18 = df_channel_month.style.format(na_rep=\"-\",thousands=',',decimal='.').format({'a.reg2rna1_succ':\"{:.2%}\",\n",
    "                                      'b.reg2depo_succ':\"{:.2%}\",\n",
    "                                      'c.reg2trade_succ':\"{:.2%}\",\n",
    "                                      'd.reg2try_rna1(try/reg)':\"{:.2%}\",\n",
    "                                      'e.rna_succ(succ/try)':\"{:.2%}\",\n",
    "                                      'f.reg2try_depo(try/reg)':\"{:.2%}\",\n",
    "                                      'g.depo_succ(succ/try)':\"{:.2%}\"\n",
    "                                     }).set_table_styles(hover_style).to_html(table_attributes=table_attributes)\n",
    "\n",
    "res19 = df_rna_succ_week.style.format(na_rep=\"-\",thousands=',',decimal='.').format(\"{:.2%}\").set_table_styles(hover_style).to_html(table_attributes= table_attributes_1)\n",
    "res20 = df_rna_succ_month.style.format(na_rep=\"-\",thousands=',',decimal='.').format(\"{:.2%}\").set_table_styles(hover_style).to_html(table_attributes= table_attributes_1)\n",
    "# ,\"avg_amt_succ_case\" manual_PLURAL pd.IndexSlice[pd.IndexSlice[:,2],:]\n",
    "# use slicing of this rule to part \n",
    "# df_deposit_week.style.background_gradient(cmap=sns.light_palette(\"green\", as_cmap=True),\\\n",
    "#                      subset=pd.IndexSlice[('DEPOSIT','ewally',slice(None)), ['succ_amt',\"avg_amt_succ_case\"]])\n",
    "# ['a.reg2rna1_succ','b.reg2depo_succ','c.reg2trade_succ','d.reg2try_rna1(try/reg)','e.rna_succ(succ/try)','f.reg2try_depo(try/reg)','g.depo_succ(succ/try)']\n",
    "\n",
    "# end with </div><i class=\"fa fa-lightbulb-o \"></i>"
   ]
  },
  {
   "cell_type": "markdown",
   "metadata": {},
   "source": [
    "## EMBED TEMPLATE\n",
    "_pass parameters_"
   ]
  },
  {
   "cell_type": "code",
   "execution_count": null,
   "metadata": {},
   "outputs": [],
   "source": [
    "template = jinja_env.get_template(\"weekly_report.html\")\n",
    "res = template.render(\n",
    "    table_html1=res1, \n",
    "    table_html2=res2,\n",
    "    table_html3=res3,\n",
    "    table_html4=res4,\n",
    "    table_html5=res5,\n",
    "    table_html6=res6,\n",
    "    table_html7=res7,\n",
    "    table_html8=res8,\n",
    "    table_html9=res9,\n",
    "    table_html10=res10,\n",
    "    table_html11=res11,\n",
    "    table_html12=res12,\n",
    "    table_html13=res13,\n",
    "    table_html14=res14,\n",
    "    table_html15=res15,\n",
    "    table_html16=res16,\n",
    "    table_html17=res17,\n",
    "    table_html18=res18,\n",
    "    table_html19=res19,\n",
    "    table_html20=res20,\n",
    "    \n",
    "    today=today,\n",
    "    this_week=this_week,\n",
    "    last_week=last_week,\n",
    "    this_month=this_month,\n",
    "    last_month=last_month,\n",
    "    last_day=last_day,\n",
    "    first_day=first_day,\n",
    "    this_week_end_date=this_week_end_date,\n",
    "    last_week_end_date=last_week_end_date,\n",
    "    grafana_timerange=grafana_timerange,\n",
    "    three_weeks_ago=three_weeks_ago,\n",
    "    three_weeks_ago_end_date=three_weeks_ago_end_date,\n",
    "    four_weeks_ago=four_weeks_ago,\n",
    "    four_weeks_ago_end_date=four_weeks_ago_end_date\n",
    ")"
   ]
  },
  {
   "cell_type": "markdown",
   "metadata": {},
   "source": [
    "# __UPLOAD TO SERVER__\n",
    "---\n",
    "_start from TencentCloud personal server and then move to company's AWS server_"
   ]
  },
  {
   "cell_type": "code",
   "execution_count": null,
   "metadata": {},
   "outputs": [],
   "source": [
    "# relative date = last week date = this week variable in this script\n",
    "# url, cos_resp = cos_util.put_object(\"/prod/weekly_report/%s.html\" % this_week, res)\n",
    "url = report_util.push(\"weekly_report/%s.html\" % this_week, res)\n",
    "print(url)\n",
    "from sources.common.utils import notify_util\n",
    "notify_util.send(\"personal-dingbangchu\", \"请阅上周周报。\", url=url)\n",
    "# notify_util.send(\"bi-report\", \"请阅上周周报。\", url=url)"
   ]
  },
  {
   "cell_type": "markdown",
   "metadata": {},
   "source": [
    "# __AUTO SCREENSHOT__\n",
    "---\n",
    "- _for static png/pdf_\n",
    "- _for international collegues with unstable network or temporary authority issues_\n",
    "- _**unrelease function: in test stage**_\n"
   ]
  },
  {
   "cell_type": "code",
   "execution_count": null,
   "metadata": {},
   "outputs": [],
   "source": [
    "import asyncio\n",
    "from pyppeteer import launch\n",
    "\n",
    "async def screenshot():\n",
    "    browser = await launch({'headless': False})\n",
    "    page = await browser.newPage()\n",
    "    await page.setViewport({\"width\": 1920, \"height\": 1080, 'deviceScaleFactor': 2})\n",
    "\n",
    "    await page.goto(url='https://bi.cos.ap-beijing.myqcloud.com/prod/weekly_report/2023-06-01.html', options={\"timeout\": 90000})\n",
    "\n",
    "    await page.evaluate(\"\"\"{window.scrollBy(0, document.body.scrollHeight);}\"\"\")\n",
    "    await page.waitFor(10000)\n",
    "    await page.screenshot({'path': 'example.jpg', 'type': 'jpeg', 'quality': 100, 'fullPage': True})\n",
    "    await browser.close()\n",
    "\n",
    "if __name__ == '__main__':\n",
    "    asyncio.get_event_loop().run_until_complete(screenshot())"
   ]
  },
  {
   "cell_type": "code",
   "execution_count": null,
   "metadata": {},
   "outputs": [],
   "source": [
    "url, cos_resp = cos_util.put_object(\"/prod/weekly_report/2023-06-01.html\", res)\n",
    "print(url)"
   ]
  },
  {
   "cell_type": "markdown",
   "metadata": {
    "editable": true,
    "slideshow": {
     "slide_type": ""
    },
    "tags": []
   },
   "source": [
    "# __SAVE TO A EXCEL ATTACHMENT__\n",
    "---\n",
    "- _for archive in kownlegde repository_\n",
    "- _for reproduce_\n",
    "- _for more friendly format fot marketing/non-tech department_\n",
    "- _unrelease function: in test stage_"
   ]
  },
  {
   "cell_type": "code",
   "execution_count": null,
   "metadata": {
    "code_folding": [
     0
    ]
   },
   "outputs": [],
   "source": [
    "writer = pd.ExcelWriter('./ofp_weekly_report_{date}.xlsx'.format(date=today.strftime('%Y%m%d')), engine='openpyxl')\n",
    "\n",
    "def output_exl(dfs,sheet_name,k):\n",
    "    i = 0\n",
    "    for df in dfs:\n",
    "        df.to_excel(excel_writer=writer, sheet_name=sheet_name,startrow=i,index=False,freeze_panes=(0,1))\n",
    "        row = len(df.index)\n",
    "        i += row + 4 \n",
    "    ws = writer.sheets[sheet_name]\n",
    "    for j in range(len(dfs[k].columns)):\n",
    "        if j == 0:\n",
    "            ws.column_dimensions[ascii_uppercase[j]].width = 30\n",
    "        else:\n",
    "            ws.column_dimensions[ascii_uppercase[j]].width = 20\n",
    "\n",
    "output_exl(dfs = [df_transaction_week,df_balance_week,df_first_trade_week,df_order_otc_week],sheet_name = '周概览',k=1)\n",
    "output_exl(dfs = [df_transaction_month,df_balance_month,df_first_trade_month,df_order_otc_month],sheet_name = '月概览',k=1)\n",
    "\n",
    "output_exl(dfs = [df_trans_type],sheet_name = '交易类型',k=0)\n",
    "output_exl(dfs = [df_symbol],sheet_name = '交易币对',k=0)\n",
    "\n",
    "# output_exl(dfs = [df_order_device],sheet_name = '下单时终端',k=0)\n",
    "output_exl(dfs = [df_deposit],sheet_name = '存款',k=0)\n",
    "output_exl(dfs = [df_conv_detail],sheet_name = '获客转化漏斗',k=0)\n",
    "output_exl(dfs = [df_rna],sheet_name = 'rna',k=0)\n",
    "output_exl(dfs = [monthly_result],sheet_name = '各月月度盈亏目标',k=0)\n",
    "\n",
    "writer.save()\n",
    "print('check file: ./ofp_weekly_report_{date}.xlsx'.format(date=today.strftime('%Y%m%d')))"
   ]
  },
  {
   "cell_type": "code",
   "execution_count": null,
   "metadata": {},
   "outputs": [],
   "source": [
    "#UTC time：2020-04-24 07:18:07.677000+00:00\n",
    "#output：20200424151807\n",
    "n_time = datetime.datetime.strptime('2023-10-27 15:30:00.000000+00:00','%Y-%m-%d %H:%M:%S.%f+00:00')  \n",
    "utctime = datetime.datetime(n_time.year,n_time.month,n_time.day,n_time.hour,n_time.minute,n_time.second,tzinfo=timezone('UTC'))\n",
    "lt = utctime.astimezone(timezone('Asia/Shanghai'))\n",
    "llt = lt.strftime(\"%Y%m%d%H%M%S\")\n",
    "print(llt)"
   ]
  }
 ],
 "metadata": {
  "kernelspec": {
   "display_name": "Python 3 (ipykernel)",
   "language": "python",
   "name": "python3"
  },
  "language_info": {
   "codemirror_mode": {
    "name": "ipython",
    "version": 3
   },
   "file_extension": ".py",
   "mimetype": "text/x-python",
   "name": "python",
   "nbconvert_exporter": "python",
   "pygments_lexer": "ipython3",
   "version": "3.11.5"
  },
  "toc": {
   "base_numbering": 1,
   "nav_menu": {},
   "number_sections": true,
   "sideBar": true,
   "skip_h1_title": false,
   "title_cell": "Table of Contents",
   "title_sidebar": "Contents",
   "toc_cell": false,
   "toc_position": {
    "height": "608px",
    "left": "74px",
    "top": "110px",
    "width": "218.264px"
   },
   "toc_section_display": true,
   "toc_window_display": true
  },
  "widgets": {
   "application/vnd.jupyter.widget-state+json": {
    "state": {},
    "version_major": 2,
    "version_minor": 0
   }
  }
 },
 "nbformat": 4,
 "nbformat_minor": 4
}

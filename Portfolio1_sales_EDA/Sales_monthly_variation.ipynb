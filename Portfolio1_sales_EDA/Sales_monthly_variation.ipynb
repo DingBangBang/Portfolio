{
 "cells": [
  {
   "cell_type": "markdown",
   "id": "5ad86d3c-c65d-41a4-a79b-964590ce9f9d",
   "metadata": {
    "tags": []
   },
   "source": [
    "# __The GROW Model from Alimama__\n",
    "\n",
    "- Gain: GMV increment from new customers\n",
    "\n",
    "    _G = buy_user_thisyear - buy_user_lastyear) * Average_purchase_frequency * Average_price_\n",
    "- Retain:\n",
    "\n",
    "    _R = \n",
    "- Boost:\n",
    "\n",
    "    _B = \n",
    "- Widen:\n",
    "\n",
    "    _W = "
   ]
  },
  {
   "cell_type": "code",
   "execution_count": null,
   "id": "e7711bb1-92ec-4b03-a7b2-fc1c9c30b3b9",
   "metadata": {},
   "outputs": [],
   "source": []
  },
  {
   "cell_type": "code",
   "execution_count": null,
   "id": "fb9b9820-5fca-434c-8b23-bb3ec57056dd",
   "metadata": {},
   "outputs": [],
   "source": []
  }
 ],
 "metadata": {
  "kernelspec": {
   "display_name": "Python 3 (ipykernel)",
   "language": "python",
   "name": "python3"
  },
  "language_info": {
   "codemirror_mode": {
    "name": "ipython",
    "version": 3
   },
   "file_extension": ".py",
   "mimetype": "text/x-python",
   "name": "python",
   "nbconvert_exporter": "python",
   "pygments_lexer": "ipython3",
   "version": "3.11.5"
  },
  "widgets": {
   "application/vnd.jupyter.widget-state+json": {
    "state": {},
    "version_major": 2,
    "version_minor": 0
   }
  }
 },
 "nbformat": 4,
 "nbformat_minor": 5
}

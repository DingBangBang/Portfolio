{
 "cells": [
  {
   "cell_type": "markdown",
   "id": "778f926c-a1f8-40d9-b56f-dc00b3f239e7",
   "metadata": {},
   "source": [
    "# This is for:\n",
    "**pretesting ka distribution in new version to avoid big problems.**"
   ]
  },
  {
   "cell_type": "code",
   "execution_count": null,
   "id": "8f5a2600",
   "metadata": {},
   "outputs": [],
   "source": [
    "# -*- coding=utf-8 -*-\n",
    "# __author = 'bonnieting'__\n",
    "\n",
    "# basic:\n",
    "import datetime as dt\n",
    "import os, sys\n",
    "import pandas as pd\n",
    "import numpy as np\n",
    "import plotly as ply\n",
    "import matplotlib.pyplot as plt\n",
    "import seaborn as sns\n",
    "from scipy.stats import norm\n",
    "import statistics as stat\n",
    "import warnings\n",
    "warnings.filterwarnings('ignore')\n",
    "import colorlover as cl\n",
    "import copy\n",
    "\n",
    "# time:\n",
    "from dateutil.relativedelta import relativedelta\n",
    "from datalab_lib.common import common_func, data_util, const, common_plot, common_htmlTable\n",
    "import re\n",
    "import calendar\n",
    "from dateutil.parser import parse\n",
    "\n",
    "# visual:\n",
    "from plotly.offline import init_notebook_mode\n",
    "import plotly.offline as py\n",
    "init_notebook_mode(connected=True)\n",
    "import plotly.graph_objects as go\n",
    "import plotly.figure_factory as ff\n",
    "from IPython.display import Markdown, display, HTML\n",
    "ply.offline.init_notebook_mode(connected=True)\n",
    "from IPython.core.interactiveshell import InteractiveShell\n",
    "InteractiveShell.ast_node_interactivity = \"all\"\n",
    "\n",
    "# pre_defined:\n",
    "today = dt.datetime.today()\n",
    "current_month = today.strftime('%Y-%m')\n",
    "start_date = (today.date() - relativedelta(days=7)).strftime('%Y-%m-%d')\n",
    "\n",
    "day = calendar.monthrange(today.year,today.month)[1]\n",
    "end_date = dt.datetime(today.year ,today.month,day).strftime('%Y-%m-%d')"
   ]
  },
  {
   "cell_type": "markdown",
   "id": "8f19f848",
   "metadata": {},
   "source": [
    "# get data from db\n",
    "- _data_util.db_source is a method i wrote myself in the common folder to facilitate querying from databse_"
   ]
  },
  {
   "cell_type": "code",
   "execution_count": null,
   "id": "2b58371e",
   "metadata": {},
   "outputs": [],
   "source": [
    "# query tran_volume and balance_snap in last 30 days of a fixed day in period\n",
    "@data_util.db_source(db='retailbi')\n",
    "def data_ka1(period):\n",
    "    sql = \"\"\"\n",
    "    select '{period}' as stat_date,\n",
    "            cid,'last_30d_trade_val' as tag,\n",
    "            sum(transaction_volume) amt\n",
    "    from retail_db.ba_succ_transaction\n",
    "    where order_end_dt>='{period}' - interval '30' day and order_end_dt<'{period}'\n",
    "          and record_type in ('BUY') and worth_coin='CNY'\n",
    "    group by 1,2,3 \n",
    "    \n",
    "    union all \n",
    "    \n",
    "    select m1.period as stat_date,cid,'total_auc' as tag,\n",
    "           sum(balance_value * ifnull(price,1)) balance_val\n",
    "    from retail_db.ba_user_balance_monthly_snap m1\n",
    "    left join retail_db.dim_exchange_rate m2 \n",
    "         on m1.balance_code=m2.digital_code \n",
    "            and m2.legal_code='CNY' \n",
    "            and m2.settle_date=m1.period \n",
    "    where period = '{period}' \n",
    "          and m1.balance_value>0 \n",
    "          and rna_area != 'CHINA' \n",
    "          and m1.balance_code != 'CNY'\n",
    "    group by 1,2,3\n",
    "    \"\"\".format(period = period)\n",
    "    return sql\n",
    "\n",
    "\n",
    "@data_util.db_source(db='retailbi')\n",
    "def data_ka2(update=False):\n",
    "    sql = \"\"\"    \n",
    "    select m2.cid,level as note,expired_at\n",
    "    from retail.retail_customer m1 \n",
    "    join retail.retail_ka_info m2 on m1.id=m2.cid \n",
    "    where is_robot=0 and expired_at>current_date\n",
    "    \"\"\"\n",
    "    return sql"
   ]
  },
  {
   "cell_type": "code",
   "execution_count": null,
   "id": "3643b5a7-1f34-43da-800e-2b6d22202c34",
   "metadata": {},
   "outputs": [],
   "source": [
    "# query user_val of each period on the fixed date\n",
    "@data_util.db_source(db='retail_db')\n",
    "def data_trade1(date):\n",
    "    sql = \"\"\"    \n",
    "    select\n",
    "    \tperiod,\n",
    "    \tm1.cid,\n",
    "    \tround(sum(balance_value * ifnull(price,1)),2) as balance_val,\n",
    "    \tm3.trade_val,\n",
    "    \tm3.order_cnt\n",
    "    from retail.ba_user_balance m1\n",
    "    left join retail.exchange_rate m2 on m1.good_code=m2.product_code and m2.legal_code='CNY' and m2.settle_date=current_date\n",
    "    left join (\n",
    "    \tselect cid,sum(transaction_volume) as trade_val,count(distinct order_id) as order_cnt\n",
    "    \tfrom retail.ba_succ_transaction force index(idx_record_type_cost_coin_order_end_dt)\n",
    "    \twhere rna_area='CHINA' and order_end_dt<'{date}' and record_type in ('SELL','BUY')\n",
    "    \tgroup by 1\n",
    "    \thaving trade_val>0\n",
    "    )m3 on m1.cid=m3.cid\n",
    "    where period='{data}'\n",
    "          and rna_area='CHINA'\n",
    "    group by 1,2\n",
    "    order by 3 desc;\n",
    "    \"\"\".format(date=date)\n",
    "    return sql"
   ]
  },
  {
   "cell_type": "markdown",
   "id": "ade5f4fc-ad05-4f4f-99ad-d6b0e52a05e7",
   "metadata": {},
   "source": [
    "# predefine function\n",
    "- _there is discription of each function before one_"
   ]
  },
  {
   "cell_type": "code",
   "execution_count": null,
   "id": "5a904c55-fc46-4552-84d4-439ae886b0e2",
   "metadata": {},
   "outputs": [],
   "source": [
    "# grade every ka with last_30d_trade_val and total_auc\n",
    "# last_30d_trade_val(in CNY)\n",
    "# total_auc = available + frozen + finance (in CNY)\n",
    "def sample(date,i):\n",
    "    df1 = data_ka1(date)\n",
    "    df11 = df1.pivot_table(index=['cid'],columns='tag',values='amt',fill_value=0).reset_index()\n",
    "    df11['stat_date'] = config['period'].unique()[i]\n",
    "    df11['score'] = df11['last_30d_trade_val'] + df11['total_auc'] * 30\n",
    "    df11['cid'] = df11['cid'].astype('str')\n",
    "    \n",
    "    return df11"
   ]
  },
  {
   "cell_type": "code",
   "execution_count": null,
   "id": "2eb77d0f-8d58-4e1a-9b37-93c373f28111",
   "metadata": {},
   "outputs": [],
   "source": [
    "# distinct ka with note by score above\n",
    "def calc_ka_score(df):\n",
    "    conditions = [\n",
    "        df['score'] >= 5000000, # ka3 PREMIUM\n",
    "        (df['score'] >= 300000) & (df['score'] < 5000000), # ka2 REGULAR\n",
    "        (df['score'] >= 30000) & (df['score'] < 300000), # ka1 BASIC\n",
    "    ]\n",
    "\n",
    "    values = ['ka3', 'ka2', 'ka1']\n",
    "\n",
    "    df['note'] = np.select(conditions, values, default='ka0') # common users\n",
    "\n",
    "    df = df.pivot_table(index='note',values='cid',aggfunc=lambda x: len(x.unique())).reset_index()\n",
    "    df['pct'] = df['cid'] / df['cid'].sum()\n",
    "    df['ka_pct'] = df['cid'] / df[df['note'] != 'ka0']['cid'].sum()\n",
    "    \n",
    "    return df"
   ]
  },
  {
   "cell_type": "code",
   "execution_count": null,
   "id": "f02db25e-c35d-4e0f-80ff-517eba3f7289",
   "metadata": {},
   "outputs": [],
   "source": [
    "#see how times ka_rank changed\n",
    "def ka_rank_change(df):\n",
    "    conditions = [\n",
    "        df['note_before'] > df['note_after'], # downgrade\n",
    "        df['note_before'] < df['note_after'], # upgrade\n",
    "    ]\n",
    "\n",
    "    values = ['downgrade', 'upgrade']\n",
    "\n",
    "    df['change_note'] = np.select(conditions, values, default='no_change')\n",
    "\n",
    "    df = df.pivot_table(index=['change_note'],\n",
    "                        values='cid',\n",
    "                        aggfunc=lambda x: len(x.unique())\n",
    "                       ).reset_index()\n",
    "    df['pct'] = df['cid'] / df['cid'].sum()\n",
    "    \n",
    "    return df"
   ]
  },
  {
   "cell_type": "code",
   "execution_count": null,
   "id": "182f5d77-cc15-42b4-b308-cb1fc19c3cee",
   "metadata": {},
   "outputs": [],
   "source": [
    "#output the boxplot of each ka segment to see distribution of balance\n",
    "def output_boxplot(df, downbound, upbound):\n",
    "        df=df[downbound:upbound][:]\n",
    "        df.head()\n",
    "        df[['balance_val']].describe().style.format('{:.2f}')\n",
    "        color = dict(boxes='DarkRed', whiskers='DarkGreen',medians='Red', caps='Red')\n",
    "        pic = df[['balance_val']].plot(kind='box',title='balance Value Distribution of {}'.format(str('%.2f'%i)+'%'),color=color,sym='r+',figsize=(20,2),vert=False)\n",
    "        i += 1\n",
    "    return pic"
   ]
  },
  {
   "cell_type": "markdown",
   "id": "59e17381",
   "metadata": {},
   "source": [
    "# ka count dustribution\n",
    "- _in new hierarchy rules_\n",
    "- _**pick ten timenodes as samples to see if the ka distribution in new version in each duration meets our expectation**_\n",
    "- _ka_all_cnt == 40,000_"
   ]
  },
  {
   "cell_type": "code",
   "execution_count": null,
   "id": "4bad110a",
   "metadata": {},
   "outputs": [],
   "source": [
    "config = pd.DataFrame({'period': ['2023-07-31','2023-07-24','2023-07-17','2023-07-10','2023-07-03',\n",
    "                                  '2023-06-26','2023-06-19','2023-06-12','2023-06-05','2023-05-29']}, \n",
    "                      columns = ['period']) \n",
    "dfs = []\n",
    "for i in range(len(config)):\n",
    "    df = sample(config['period'].unique()[i],config.index[i])\n",
    "    dfs.append(df)"
   ]
  },
  {
   "cell_type": "code",
   "execution_count": null,
   "id": "742ef32c",
   "metadata": {},
   "outputs": [],
   "source": [
    "for df in dfs:\n",
    "    \n",
    "    df_result = calc_ka_score(df)\n",
    "    date = df['stat_date'].unique()\n",
    "    ka_result = df_result.sort_values('cid',ascending=False)\n",
    "    \n",
    "    print(date,'\\n','ka_group_pct','\\n',ka_result,'\\n\\n')"
   ]
  },
  {
   "cell_type": "markdown",
   "id": "588cf955-a999-4a9a-98ba-60ed1e61fda8",
   "metadata": {},
   "source": [
    "# ka balance funnel\n",
    "- _the higher level a customer has, the more balance he has, following the Pareto Principle(80/20 Rule)_"
   ]
  },
  {
   "cell_type": "code",
   "execution_count": null,
   "id": "cf57bc3d-efba-4880-9ae4-e3766b6160d5",
   "metadata": {},
   "outputs": [],
   "source": [
    "df = data_trade1(today)\n",
    "df.head()\n",
    "df[['balance_val']].describe().style.format('{:.2f}')\n",
    "TTL_user=df[['cid']].count()\n",
    "TTL_user"
   ]
  },
  {
   "cell_type": "code",
   "execution_count": null,
   "id": "78801b8c-874a-4adf-a3ed-0656c08b4db9",
   "metadata": {},
   "outputs": [],
   "source": [
    "bound_list = [0, 0.015, 0.1, 0.3, 0.6, 0.95, 1]\n",
    "for i in bound_list:\n",
    "    downbound = user_cnt*i, upbound = user_cnt*(i+1)\n",
    "    plot = output_boxplot(df, downbound, upbound)\n",
    "    plot.show()"
   ]
  },
  {
   "cell_type": "code",
   "execution_count": null,
   "id": "58f1e510-2dea-4b24-8e84-5f9246f69a2b",
   "metadata": {},
   "outputs": [],
   "source": [
    "label=['1.5%''10%','30%','60%','95%','100%']\n",
    "value=[9067,63463,54397,36264,15413,2719]\n",
    "\n",
    "trace = go.Funnel(\n",
    "    y = label,\n",
    "    x = value,\n",
    "    textinfo = \"value + percent initial\",\n",
    "    marker=dict(color=[\"deepskyblue\", \"lightsalmon\", \"tan\", \"teal\", \"silver\", \"yellow\"]),\n",
    "    connector = {\"line\": {\"color\": \"royalblue\", \"dash\": \"solid\", \"width\": 3}}\n",
    ")\n",
    "    \n",
    "data =[trace]\n",
    "\n",
    "fig = go.Figure(data)\n",
    "fig.show()\n",
    "\n",
    "df11=pd.DataFrame({'label':label,'value':value,'pct':(value/TTL_user)})\n",
    "df11.add({})\n",
    "df11.head()"
   ]
  },
  {
   "cell_type": "markdown",
   "id": "72d84d7e",
   "metadata": {},
   "source": [
    "# ka reshuffle times\n",
    "- _upgrade or downgrade times to see if the hirarchy is stable enough_"
   ]
  },
  {
   "cell_type": "code",
   "execution_count": null,
   "id": "0e6b9940",
   "metadata": {},
   "outputs": [],
   "source": [
    "for i in range(1,len(dfs)):\n",
    "\n",
    "    df_left = dfs[i-1].join(dfs[i].set_index('cid'),on='cid',lsuffix='_after',rsuffix='_before',how='left')\n",
    "    df_left['note_before'] = df_left['note_before'].fillna('ka0')\n",
    "\n",
    "\n",
    "    df_right = dfs[i-1].join(dfs[i].set_index('cid'),on='cid',lsuffix='_after',rsuffix='_before',how='right')\n",
    "    df_right['note_after'] = df_right['note_after'].fillna('ka0')\n",
    "\n",
    "    df_change = df_left.append(df_right).drop_duplicates()\n",
    "\n",
    "    df_change = ka_rank_change(df_change)\n",
    "\n",
    "    date = dfs[i-1]['stat_date'].unique()\n",
    "\n",
    "    print(date,'\\n','ka_change_pct','\\n',df_change,'\\n\\n')"
   ]
  },
  {
   "cell_type": "markdown",
   "id": "ed2ce6cc",
   "metadata": {},
   "source": [
    "# new _VS_ old hierarchy\n",
    "- _**predict from data if there will be evident problems after releasing a new version ka rules**_\n",
    "- _compare in reshuffle times_\n",
    "- _compare in count distribution_\n",
    "- _compare in balance distribution_"
   ]
  },
  {
   "cell_type": "code",
   "execution_count": null,
   "id": "6159cb6f",
   "metadata": {},
   "outputs": [],
   "source": [
    "new = dfs[0][['cid','score','note']]\n",
    "\n",
    "current = data_ka2()\n",
    "current = current.replace({'BASICS':'ka1','PREMIUM':'ka3','REGULAR':'ka2'})\n",
    "current['cid'] = current['cid'].astype('str')\n",
    "\n",
    "\n",
    "df_left = new.join(current.set_index('cid'),on='cid',lsuffix='_after',rsuffix='_before',how='left')\n",
    "df_left['note_before'] = df_left['note_before'].fillna('ka0')\n",
    "\n",
    "\n",
    "df_right = new.join(current.set_index('cid'),on='cid',lsuffix='_after',rsuffix='_before',how='right')\n",
    "df_right['note_after'] = df_right['note_after'].fillna('ka0')\n",
    "\n",
    "df_change = df_left.append(df_right).drop_duplicates()\n",
    "\n",
    "ka_rank_change(df_change)"
   ]
  },
  {
   "cell_type": "code",
   "execution_count": null,
   "id": "60b4a235",
   "metadata": {},
   "outputs": [],
   "source": [
    "df_change.pivot_table(index='note_after',\n",
    "                      columns='note_before',\n",
    "                      values='cid',\n",
    "                      aggfunc=lambda x: len(x.unique()),\n",
    "                      margins=True)"
   ]
  },
  {
   "cell_type": "code",
   "execution_count": null,
   "id": "13afd0be",
   "metadata": {},
   "outputs": [],
   "source": [
    "ka_20230601 = current.copy()"
   ]
  },
  {
   "cell_type": "code",
   "execution_count": null,
   "id": "3f254bfb",
   "metadata": {
    "editable": true,
    "slideshow": {
     "slide_type": ""
    },
    "tags": []
   },
   "outputs": [],
   "source": [
    "ka_20230602 = data_ka2()\n",
    "\n",
    "ka_20230602 = ka_20230602.replace({'BASICS':'ka1','PREMIUM':'ka3','REGULAR':'ka2'})\n",
    "ka_20230602['cid'] = ka_20230602['cid'].astype('str')\n",
    "\n",
    "\n",
    "df_left = ka_20230602.join(ka_20230601.set_index('cid'),on='cid',lsuffix='_after',rsuffix='_before',how='left')\n",
    "df_left['note_before'] = df_left['note_before'].fillna('ka0')\n",
    "\n",
    "\n",
    "df_right = ka_20230602.join(ka_20230601.set_index('cid'),on='cid',lsuffix='_after',rsuffix='_before',how='right')\n",
    "df_right['note_after'] = df_right['note_after'].fillna('ka0')\n",
    "\n",
    "df_change = df_left.append(df_right).drop_duplicates()\n",
    "\n",
    "ka_rank_change(df_change)"
   ]
  },
  {
   "cell_type": "code",
   "execution_count": null,
   "id": "e62ee026",
   "metadata": {},
   "outputs": [],
   "source": [
    "df_change.pivot_table(index='note_after',\n",
    "                      columns='note_before',\n",
    "                      values='cid',\n",
    "                      aggfunc=lambda x: len(x.unique()),\n",
    "                      margins=True)"
   ]
  },
  {
   "cell_type": "code",
   "execution_count": null,
   "id": "70803c9c",
   "metadata": {},
   "outputs": [],
   "source": [
    "ka_20230601.pivot_table(index='note',\n",
    "                      values='cid',\n",
    "                      aggfunc=lambda x: len(x.unique()),\n",
    "                      margins=True).T"
   ]
  },
  {
   "cell_type": "code",
   "execution_count": null,
   "id": "a4209acf",
   "metadata": {},
   "outputs": [],
   "source": [
    "ka_20230602.pivot_table(index='note',\n",
    "                      values='cid',\n",
    "                      aggfunc=lambda x: len(x.unique()),\n",
    "                      margins=True).T"
   ]
  },
  {
   "cell_type": "code",
   "execution_count": null,
   "id": "a6b1f0ea",
   "metadata": {},
   "outputs": [],
   "source": [
    "common_func.hide_code()"
   ]
  }
 ],
 "metadata": {
  "kernelspec": {
   "display_name": "Python 3 (ipykernel)",
   "language": "python",
   "name": "python3"
  },
  "language_info": {
   "codemirror_mode": {
    "name": "ipython",
    "version": 3
   },
   "file_extension": ".py",
   "mimetype": "text/x-python",
   "name": "python",
   "nbconvert_exporter": "python",
   "pygments_lexer": "ipython3",
   "version": "3.11.5"
  },
  "toc": {
   "base_numbering": 1,
   "nav_menu": {},
   "number_sections": true,
   "sideBar": true,
   "skip_h1_title": false,
   "title_cell": "Table of Contents",
   "title_sidebar": "Contents",
   "toc_cell": false,
   "toc_position": {},
   "toc_section_display": true,
   "toc_window_display": true
  }
 },
 "nbformat": 4,
 "nbformat_minor": 5
}

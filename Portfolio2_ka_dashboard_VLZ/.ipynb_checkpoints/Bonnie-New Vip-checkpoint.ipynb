{
 "cells": [
  {
   "cell_type": "code",
   "execution_count": 1,
   "metadata": {},
   "outputs": [
    {
     "data": {
      "text/html": [
       "        <script type=\"text/javascript\">\n",
       "        window.PlotlyConfig = {MathJaxConfig: 'local'};\n",
       "        if (window.MathJax) {MathJax.Hub.Config({SVG: {font: \"STIX-Web\"}});}\n",
       "        if (typeof require !== 'undefined') {\n",
       "        require.undef(\"plotly\");\n",
       "        requirejs.config({\n",
       "            paths: {\n",
       "                'plotly': ['https://cdn.plot.ly/plotly-latest.min']\n",
       "            }\n",
       "        });\n",
       "        require(['plotly'], function(Plotly) {\n",
       "            window._Plotly = Plotly;\n",
       "        });\n",
       "        }\n",
       "        </script>\n",
       "        "
      ]
     },
     "metadata": {},
     "output_type": "display_data"
    },
    {
     "data": {
      "text/html": [
       "        <script type=\"text/javascript\">\n",
       "        window.PlotlyConfig = {MathJaxConfig: 'local'};\n",
       "        if (window.MathJax) {MathJax.Hub.Config({SVG: {font: \"STIX-Web\"}});}\n",
       "        if (typeof require !== 'undefined') {\n",
       "        require.undef(\"plotly\");\n",
       "        requirejs.config({\n",
       "            paths: {\n",
       "                'plotly': ['https://cdn.plot.ly/plotly-latest.min']\n",
       "            }\n",
       "        });\n",
       "        require(['plotly'], function(Plotly) {\n",
       "            window._Plotly = Plotly;\n",
       "        });\n",
       "        }\n",
       "        </script>\n",
       "        "
      ]
     },
     "metadata": {},
     "output_type": "display_data"
    }
   ],
   "source": [
    "# -*- coding=utf-8 -*-\n",
    "# __author = 'chentingting'__\n",
    "\n",
    "import datetime as dt\n",
    "import os, sys\n",
    "sys.path.append('/Users/abakus/PycharmProjects/bacc_datalab')\n",
    "import pandas as pd\n",
    "import numpy as np\n",
    "import plotly as ply\n",
    "import matplotlib.pyplot as plt\n",
    "# import seaborn as sns\n",
    "# import scipy.stats as stats\n",
    "import statistics as stat\n",
    "from IPython.core.interactiveshell import InteractiveShell\n",
    "InteractiveShell.ast_node_interactivity = \"all\"\n",
    "# from termcolor import colored\n",
    "\n",
    "\n",
    "ply.offline.init_notebook_mode(connected=True)\n",
    "\n",
    "from dateutil.relativedelta import relativedelta\n",
    "from datalab_lib.common import common_func, data_util, const, common_plot, common_htmlTable\n",
    "import re\n",
    "import calendar\n",
    "\n",
    "import warnings\n",
    "warnings.filterwarnings('ignore')\n",
    "#把不必要的提示錯誤關掉\n",
    "import copy\n",
    "from plotly.offline import init_notebook_mode\n",
    "import plotly.offline as py\n",
    "init_notebook_mode(connected=True)\n",
    "import plotly.graph_objects as go\n",
    "from IPython.display import Markdown, display, HTML\n",
    "from dateutil.parser import parse\n",
    "\n",
    "\n",
    "today = '2021-07-16' # dt.datetime.today().date()"
   ]
  },
  {
   "cell_type": "markdown",
   "metadata": {},
   "source": [
    "## 一、所有用户及其资产"
   ]
  },
  {
   "cell_type": "code",
   "execution_count": 2,
   "metadata": {},
   "outputs": [],
   "source": [
    "@data_util.db_source(db='novadaxbi')\n",
    "def data_balance1(date):\n",
    "    \"\"\"资产总额\"\"\"\n",
    "    sql = \"\"\"    \n",
    "select -- count(distinct cid),count(id)\n",
    "\tperiod,\n",
    "\tcid,\n",
    "\tround(sum(asset_value * ifnull(price,1)),2) as asset_val\n",
    "from bacc_nova.ba_dwp_user_asset m1\n",
    "left join bacc_nova.dim_exchange_rate m2 on m1.asset_code=m2.digital_code and m2.legal_code='BRL' and m2.settle_date=current_date\n",
    "where period='{date}'\n",
    "and kyc_area='BRAZIL'\n",
    "group by 1,2\n",
    "order by 3 desc;\n",
    "    \"\"\".format(date=date)\n",
    "    return sql"
   ]
  },
  {
   "cell_type": "code",
   "execution_count": 3,
   "metadata": {},
   "outputs": [
    {
     "data": {
      "text/html": [
       "<div>\n",
       "<style scoped>\n",
       "    .dataframe tbody tr th:only-of-type {\n",
       "        vertical-align: middle;\n",
       "    }\n",
       "\n",
       "    .dataframe tbody tr th {\n",
       "        vertical-align: top;\n",
       "    }\n",
       "\n",
       "    .dataframe thead th {\n",
       "        text-align: right;\n",
       "    }\n",
       "</style>\n",
       "<table border=\"1\" class=\"dataframe\">\n",
       "  <thead>\n",
       "    <tr style=\"text-align: right;\">\n",
       "      <th></th>\n",
       "      <th>period</th>\n",
       "      <th>cid</th>\n",
       "      <th>asset_val</th>\n",
       "    </tr>\n",
       "  </thead>\n",
       "  <tbody>\n",
       "    <tr>\n",
       "      <td>0</td>\n",
       "      <td>2021-07-16</td>\n",
       "      <td>696791573777625088</td>\n",
       "      <td>3299701.82</td>\n",
       "    </tr>\n",
       "    <tr>\n",
       "      <td>1</td>\n",
       "      <td>2021-07-16</td>\n",
       "      <td>700465416513798144</td>\n",
       "      <td>3174232.81</td>\n",
       "    </tr>\n",
       "    <tr>\n",
       "      <td>2</td>\n",
       "      <td>2021-07-16</td>\n",
       "      <td>669344296003964928</td>\n",
       "      <td>1738783.71</td>\n",
       "    </tr>\n",
       "    <tr>\n",
       "      <td>3</td>\n",
       "      <td>2021-07-16</td>\n",
       "      <td>712903724464349184</td>\n",
       "      <td>1447380.05</td>\n",
       "    </tr>\n",
       "    <tr>\n",
       "      <td>4</td>\n",
       "      <td>2021-07-16</td>\n",
       "      <td>620825213856129024</td>\n",
       "      <td>1415673.22</td>\n",
       "    </tr>\n",
       "  </tbody>\n",
       "</table>\n",
       "</div>"
      ],
      "text/plain": [
       "       period                 cid   asset_val\n",
       "0  2021-07-16  696791573777625088  3299701.82\n",
       "1  2021-07-16  700465416513798144  3174232.81\n",
       "2  2021-07-16  669344296003964928  1738783.71\n",
       "3  2021-07-16  712903724464349184  1447380.05\n",
       "4  2021-07-16  620825213856129024  1415673.22"
      ]
     },
     "execution_count": 3,
     "metadata": {},
     "output_type": "execute_result"
    },
    {
     "data": {
      "text/html": [
       "<style  type=\"text/css\" >\n",
       "</style><table id=\"T_2132f63a_e619_11eb_a45c_38f9d35397bb\" ><thead>    <tr>        <th class=\"blank level0\" ></th>        <th class=\"col_heading level0 col0\" >asset_val</th>    </tr></thead><tbody>\n",
       "                <tr>\n",
       "                        <th id=\"T_2132f63a_e619_11eb_a45c_38f9d35397bblevel0_row0\" class=\"row_heading level0 row0\" >count</th>\n",
       "                        <td id=\"T_2132f63a_e619_11eb_a45c_38f9d35397bbrow0_col0\" class=\"data row0 col0\" >181323.00</td>\n",
       "            </tr>\n",
       "            <tr>\n",
       "                        <th id=\"T_2132f63a_e619_11eb_a45c_38f9d35397bblevel0_row1\" class=\"row_heading level0 row1\" >mean</th>\n",
       "                        <td id=\"T_2132f63a_e619_11eb_a45c_38f9d35397bbrow1_col0\" class=\"data row1 col0\" >1707.16</td>\n",
       "            </tr>\n",
       "            <tr>\n",
       "                        <th id=\"T_2132f63a_e619_11eb_a45c_38f9d35397bblevel0_row2\" class=\"row_heading level0 row2\" >std</th>\n",
       "                        <td id=\"T_2132f63a_e619_11eb_a45c_38f9d35397bbrow2_col0\" class=\"data row2 col0\" >17548.92</td>\n",
       "            </tr>\n",
       "            <tr>\n",
       "                        <th id=\"T_2132f63a_e619_11eb_a45c_38f9d35397bblevel0_row3\" class=\"row_heading level0 row3\" >min</th>\n",
       "                        <td id=\"T_2132f63a_e619_11eb_a45c_38f9d35397bbrow3_col0\" class=\"data row3 col0\" >0.00</td>\n",
       "            </tr>\n",
       "            <tr>\n",
       "                        <th id=\"T_2132f63a_e619_11eb_a45c_38f9d35397bblevel0_row4\" class=\"row_heading level0 row4\" >25%</th>\n",
       "                        <td id=\"T_2132f63a_e619_11eb_a45c_38f9d35397bbrow4_col0\" class=\"data row4 col0\" >4.89</td>\n",
       "            </tr>\n",
       "            <tr>\n",
       "                        <th id=\"T_2132f63a_e619_11eb_a45c_38f9d35397bblevel0_row5\" class=\"row_heading level0 row5\" >50%</th>\n",
       "                        <td id=\"T_2132f63a_e619_11eb_a45c_38f9d35397bbrow5_col0\" class=\"data row5 col0\" >50.09</td>\n",
       "            </tr>\n",
       "            <tr>\n",
       "                        <th id=\"T_2132f63a_e619_11eb_a45c_38f9d35397bblevel0_row6\" class=\"row_heading level0 row6\" >75%</th>\n",
       "                        <td id=\"T_2132f63a_e619_11eb_a45c_38f9d35397bbrow6_col0\" class=\"data row6 col0\" >448.64</td>\n",
       "            </tr>\n",
       "            <tr>\n",
       "                        <th id=\"T_2132f63a_e619_11eb_a45c_38f9d35397bblevel0_row7\" class=\"row_heading level0 row7\" >max</th>\n",
       "                        <td id=\"T_2132f63a_e619_11eb_a45c_38f9d35397bbrow7_col0\" class=\"data row7 col0\" >3299701.82</td>\n",
       "            </tr>\n",
       "    </tbody></table>"
      ],
      "text/plain": [
       "<pandas.io.formats.style.Styler at 0x7fe48ec90e10>"
      ]
     },
     "execution_count": 3,
     "metadata": {},
     "output_type": "execute_result"
    },
    {
     "data": {
      "text/plain": [
       "cid    181323\n",
       "dtype: int64"
      ]
     },
     "execution_count": 3,
     "metadata": {},
     "output_type": "execute_result"
    }
   ],
   "source": [
    "df = data_balance1(today)\n",
    "df.head()\n",
    "df[['asset_val']].describe().style.format('{:.2f}')\n",
    "TTL_user=df[['cid']].count()\n",
    "TTL_user"
   ]
  },
  {
   "cell_type": "markdown",
   "metadata": {},
   "source": [
    "## 二、前1.5%用户分析\n",
    "* 总量为2719个用户\n",
    "* 最低资产总额为2w(19948.78)\n",
    "* 平均资产额为6.3w\n",
    "* 头部用户中有25%的用户资产额在5.8w以上"
   ]
  },
  {
   "cell_type": "code",
   "execution_count": 4,
   "metadata": {},
   "outputs": [
    {
     "data": {
      "text/html": [
       "<div>\n",
       "<style scoped>\n",
       "    .dataframe tbody tr th:only-of-type {\n",
       "        vertical-align: middle;\n",
       "    }\n",
       "\n",
       "    .dataframe tbody tr th {\n",
       "        vertical-align: top;\n",
       "    }\n",
       "\n",
       "    .dataframe thead th {\n",
       "        text-align: right;\n",
       "    }\n",
       "</style>\n",
       "<table border=\"1\" class=\"dataframe\">\n",
       "  <thead>\n",
       "    <tr style=\"text-align: right;\">\n",
       "      <th></th>\n",
       "      <th>period</th>\n",
       "      <th>cid</th>\n",
       "      <th>asset_val</th>\n",
       "    </tr>\n",
       "  </thead>\n",
       "  <tbody>\n",
       "    <tr>\n",
       "      <td>0</td>\n",
       "      <td>2021-07-16</td>\n",
       "      <td>696791573777625088</td>\n",
       "      <td>3299701.82</td>\n",
       "    </tr>\n",
       "    <tr>\n",
       "      <td>1</td>\n",
       "      <td>2021-07-16</td>\n",
       "      <td>700465416513798144</td>\n",
       "      <td>3174232.81</td>\n",
       "    </tr>\n",
       "    <tr>\n",
       "      <td>2</td>\n",
       "      <td>2021-07-16</td>\n",
       "      <td>669344296003964928</td>\n",
       "      <td>1738783.71</td>\n",
       "    </tr>\n",
       "    <tr>\n",
       "      <td>3</td>\n",
       "      <td>2021-07-16</td>\n",
       "      <td>712903724464349184</td>\n",
       "      <td>1447380.05</td>\n",
       "    </tr>\n",
       "    <tr>\n",
       "      <td>4</td>\n",
       "      <td>2021-07-16</td>\n",
       "      <td>620825213856129024</td>\n",
       "      <td>1415673.22</td>\n",
       "    </tr>\n",
       "  </tbody>\n",
       "</table>\n",
       "</div>"
      ],
      "text/plain": [
       "       period                 cid   asset_val\n",
       "0  2021-07-16  696791573777625088  3299701.82\n",
       "1  2021-07-16  700465416513798144  3174232.81\n",
       "2  2021-07-16  669344296003964928  1738783.71\n",
       "3  2021-07-16  712903724464349184  1447380.05\n",
       "4  2021-07-16  620825213856129024  1415673.22"
      ]
     },
     "execution_count": 4,
     "metadata": {},
     "output_type": "execute_result"
    },
    {
     "data": {
      "text/html": [
       "<style  type=\"text/css\" >\n",
       "</style><table id=\"T_2142909c_e619_11eb_9c18_38f9d35397bb\" ><thead>    <tr>        <th class=\"blank level0\" ></th>        <th class=\"col_heading level0 col0\" >asset_val</th>    </tr></thead><tbody>\n",
       "                <tr>\n",
       "                        <th id=\"T_2142909c_e619_11eb_9c18_38f9d35397bblevel0_row0\" class=\"row_heading level0 row0\" >count</th>\n",
       "                        <td id=\"T_2142909c_e619_11eb_9c18_38f9d35397bbrow0_col0\" class=\"data row0 col0\" >2719.00</td>\n",
       "            </tr>\n",
       "            <tr>\n",
       "                        <th id=\"T_2142909c_e619_11eb_9c18_38f9d35397bblevel0_row1\" class=\"row_heading level0 row1\" >mean</th>\n",
       "                        <td id=\"T_2142909c_e619_11eb_9c18_38f9d35397bbrow1_col0\" class=\"data row1 col0\" >62668.00</td>\n",
       "            </tr>\n",
       "            <tr>\n",
       "                        <th id=\"T_2142909c_e619_11eb_9c18_38f9d35397bblevel0_row2\" class=\"row_heading level0 row2\" >std</th>\n",
       "                        <td id=\"T_2142909c_e619_11eb_9c18_38f9d35397bbrow2_col0\" class=\"data row2 col0\" >128293.16</td>\n",
       "            </tr>\n",
       "            <tr>\n",
       "                        <th id=\"T_2142909c_e619_11eb_9c18_38f9d35397bblevel0_row3\" class=\"row_heading level0 row3\" >min</th>\n",
       "                        <td id=\"T_2142909c_e619_11eb_9c18_38f9d35397bbrow3_col0\" class=\"data row3 col0\" >19948.78</td>\n",
       "            </tr>\n",
       "            <tr>\n",
       "                        <th id=\"T_2142909c_e619_11eb_9c18_38f9d35397bblevel0_row4\" class=\"row_heading level0 row4\" >25%</th>\n",
       "                        <td id=\"T_2142909c_e619_11eb_9c18_38f9d35397bbrow4_col0\" class=\"data row4 col0\" >25533.92</td>\n",
       "            </tr>\n",
       "            <tr>\n",
       "                        <th id=\"T_2142909c_e619_11eb_9c18_38f9d35397bblevel0_row5\" class=\"row_heading level0 row5\" >50%</th>\n",
       "                        <td id=\"T_2142909c_e619_11eb_9c18_38f9d35397bbrow5_col0\" class=\"data row5 col0\" >35965.20</td>\n",
       "            </tr>\n",
       "            <tr>\n",
       "                        <th id=\"T_2142909c_e619_11eb_9c18_38f9d35397bblevel0_row6\" class=\"row_heading level0 row6\" >75%</th>\n",
       "                        <td id=\"T_2142909c_e619_11eb_9c18_38f9d35397bbrow6_col0\" class=\"data row6 col0\" >58235.83</td>\n",
       "            </tr>\n",
       "            <tr>\n",
       "                        <th id=\"T_2142909c_e619_11eb_9c18_38f9d35397bblevel0_row7\" class=\"row_heading level0 row7\" >max</th>\n",
       "                        <td id=\"T_2142909c_e619_11eb_9c18_38f9d35397bbrow7_col0\" class=\"data row7 col0\" >3299701.82</td>\n",
       "            </tr>\n",
       "    </tbody></table>"
      ],
      "text/plain": [
       "<pandas.io.formats.style.Styler at 0x7fe4940cd2b0>"
      ]
     },
     "execution_count": 4,
     "metadata": {},
     "output_type": "execute_result"
    },
    {
     "data": {
      "text/plain": [
       "<matplotlib.axes._subplots.AxesSubplot at 0x7fe4940e67b8>"
      ]
     },
     "execution_count": 4,
     "metadata": {},
     "output_type": "execute_result"
    },
    {
     "data": {
      "image/png": "[encoded data removed]",
      "text/plain": [
       "<Figure size 1440x144 with 1 Axes>"
      ]
     },
     "metadata": {
      "needs_background": "light"
     },
     "output_type": "display_data"
    }
   ],
   "source": [
    "df1=df[0:int(TTL_user*0.015)][:]\n",
    "df1.head()\n",
    "df1[['asset_val']].describe().style.format('{:.2f}')\n",
    "color = dict(boxes='DarkRed', whiskers='DarkGreen',medians='Red', caps='Red')\n",
    " \n",
    "df1[['asset_val']].plot(kind='box',title='Asset Value Distribution of 1.5%',color=color,sym='r+',figsize=(20,2),vert=False)\n",
    "\n",
    "# fig.savefig('p2.png') "
   ]
  },
  {
   "cell_type": "markdown",
   "metadata": {},
   "source": [
    "## 三、1.5%-10%用户分析\n",
    "* 总量为15413个用户\n",
    "* 最低资产总额为2500\n",
    "* 平均资产额为6500\n",
    "* 头部用户中有25%的用户资产额在8500以上"
   ]
  },
  {
   "cell_type": "code",
   "execution_count": 5,
   "metadata": {},
   "outputs": [
    {
     "data": {
      "text/html": [
       "<div>\n",
       "<style scoped>\n",
       "    .dataframe tbody tr th:only-of-type {\n",
       "        vertical-align: middle;\n",
       "    }\n",
       "\n",
       "    .dataframe tbody tr th {\n",
       "        vertical-align: top;\n",
       "    }\n",
       "\n",
       "    .dataframe thead th {\n",
       "        text-align: right;\n",
       "    }\n",
       "</style>\n",
       "<table border=\"1\" class=\"dataframe\">\n",
       "  <thead>\n",
       "    <tr style=\"text-align: right;\">\n",
       "      <th></th>\n",
       "      <th>period</th>\n",
       "      <th>cid</th>\n",
       "      <th>asset_val</th>\n",
       "    </tr>\n",
       "  </thead>\n",
       "  <tbody>\n",
       "    <tr>\n",
       "      <td>2719</td>\n",
       "      <td>2021-07-16</td>\n",
       "      <td>806901022956994560</td>\n",
       "      <td>19929.44</td>\n",
       "    </tr>\n",
       "    <tr>\n",
       "      <td>2720</td>\n",
       "      <td>2021-07-16</td>\n",
       "      <td>737970854045949952</td>\n",
       "      <td>19926.78</td>\n",
       "    </tr>\n",
       "    <tr>\n",
       "      <td>2721</td>\n",
       "      <td>2021-07-16</td>\n",
       "      <td>845216891281608704</td>\n",
       "      <td>19920.12</td>\n",
       "    </tr>\n",
       "    <tr>\n",
       "      <td>2722</td>\n",
       "      <td>2021-07-16</td>\n",
       "      <td>796656334584950784</td>\n",
       "      <td>19918.71</td>\n",
       "    </tr>\n",
       "    <tr>\n",
       "      <td>2723</td>\n",
       "      <td>2021-07-16</td>\n",
       "      <td>684649746031194112</td>\n",
       "      <td>19915.19</td>\n",
       "    </tr>\n",
       "  </tbody>\n",
       "</table>\n",
       "</div>"
      ],
      "text/plain": [
       "          period                 cid  asset_val\n",
       "2719  2021-07-16  806901022956994560   19929.44\n",
       "2720  2021-07-16  737970854045949952   19926.78\n",
       "2721  2021-07-16  845216891281608704   19920.12\n",
       "2722  2021-07-16  796656334584950784   19918.71\n",
       "2723  2021-07-16  684649746031194112   19915.19"
      ]
     },
     "execution_count": 5,
     "metadata": {},
     "output_type": "execute_result"
    },
    {
     "data": {
      "text/html": [
       "<style  type=\"text/css\" >\n",
       "</style><table id=\"T_217b8622_e619_11eb_8e83_38f9d35397bb\" ><thead>    <tr>        <th class=\"blank level0\" ></th>        <th class=\"col_heading level0 col0\" >asset_val</th>    </tr></thead><tbody>\n",
       "                <tr>\n",
       "                        <th id=\"T_217b8622_e619_11eb_8e83_38f9d35397bblevel0_row0\" class=\"row_heading level0 row0\" >count</th>\n",
       "                        <td id=\"T_217b8622_e619_11eb_8e83_38f9d35397bbrow0_col0\" class=\"data row0 col0\" >15413.00</td>\n",
       "            </tr>\n",
       "            <tr>\n",
       "                        <th id=\"T_217b8622_e619_11eb_8e83_38f9d35397bblevel0_row1\" class=\"row_heading level0 row1\" >mean</th>\n",
       "                        <td id=\"T_217b8622_e619_11eb_8e83_38f9d35397bbrow1_col0\" class=\"data row1 col0\" >6482.24</td>\n",
       "            </tr>\n",
       "            <tr>\n",
       "                        <th id=\"T_217b8622_e619_11eb_8e83_38f9d35397bblevel0_row2\" class=\"row_heading level0 row2\" >std</th>\n",
       "                        <td id=\"T_217b8622_e619_11eb_8e83_38f9d35397bbrow2_col0\" class=\"data row2 col0\" >4134.44</td>\n",
       "            </tr>\n",
       "            <tr>\n",
       "                        <th id=\"T_217b8622_e619_11eb_8e83_38f9d35397bblevel0_row3\" class=\"row_heading level0 row3\" >min</th>\n",
       "                        <td id=\"T_217b8622_e619_11eb_8e83_38f9d35397bbrow3_col0\" class=\"data row3 col0\" >2461.84</td>\n",
       "            </tr>\n",
       "            <tr>\n",
       "                        <th id=\"T_217b8622_e619_11eb_8e83_38f9d35397bblevel0_row4\" class=\"row_heading level0 row4\" >25%</th>\n",
       "                        <td id=\"T_217b8622_e619_11eb_8e83_38f9d35397bbrow4_col0\" class=\"data row4 col0\" >3345.81</td>\n",
       "            </tr>\n",
       "            <tr>\n",
       "                        <th id=\"T_217b8622_e619_11eb_8e83_38f9d35397bblevel0_row5\" class=\"row_heading level0 row5\" >50%</th>\n",
       "                        <td id=\"T_217b8622_e619_11eb_8e83_38f9d35397bbrow5_col0\" class=\"data row5 col0\" >4919.83</td>\n",
       "            </tr>\n",
       "            <tr>\n",
       "                        <th id=\"T_217b8622_e619_11eb_8e83_38f9d35397bblevel0_row6\" class=\"row_heading level0 row6\" >75%</th>\n",
       "                        <td id=\"T_217b8622_e619_11eb_8e83_38f9d35397bbrow6_col0\" class=\"data row6 col0\" >8316.19</td>\n",
       "            </tr>\n",
       "            <tr>\n",
       "                        <th id=\"T_217b8622_e619_11eb_8e83_38f9d35397bblevel0_row7\" class=\"row_heading level0 row7\" >max</th>\n",
       "                        <td id=\"T_217b8622_e619_11eb_8e83_38f9d35397bbrow7_col0\" class=\"data row7 col0\" >19929.44</td>\n",
       "            </tr>\n",
       "    </tbody></table>"
      ],
      "text/plain": [
       "<pandas.io.formats.style.Styler at 0x7fe493efd4a8>"
      ]
     },
     "execution_count": 5,
     "metadata": {},
     "output_type": "execute_result"
    },
    {
     "data": {
      "text/plain": [
       "<matplotlib.axes._subplots.AxesSubplot at 0x7fe494197588>"
      ]
     },
     "execution_count": 5,
     "metadata": {},
     "output_type": "execute_result"
    },
    {
     "data": {
      "image/png": "[encoded data removed]",
      "text/plain": [
       "<Figure size 1440x144 with 1 Axes>"
      ]
     },
     "metadata": {
      "needs_background": "light"
     },
     "output_type": "display_data"
    }
   ],
   "source": [
    "df2=df[int(TTL_user*0.015):int(TTL_user*0.1)][:]\n",
    "df2.head()\n",
    "df2[['asset_val']].describe().style.format('{:.2f}')\n",
    "color = dict(boxes='DarkRed', whiskers='DarkGreen',medians='Red', caps='Red')\n",
    "df2[['asset_val']].plot(kind='box',title='Asset Value Distribution of 10%',color=color,sym='r+',figsize=(20,2),vert=False)"
   ]
  },
  {
   "cell_type": "markdown",
   "metadata": {},
   "source": [
    "## 四、10%-30%用户分析\n",
    "* 总量为36264个用户\n",
    "* 最低资产总额为275\n",
    "* 平均资产额为925\n",
    "* 头部用户中有25%的用户资产额在1300以上"
   ]
  },
  {
   "cell_type": "code",
   "execution_count": 6,
   "metadata": {},
   "outputs": [
    {
     "data": {
      "text/html": [
       "<div>\n",
       "<style scoped>\n",
       "    .dataframe tbody tr th:only-of-type {\n",
       "        vertical-align: middle;\n",
       "    }\n",
       "\n",
       "    .dataframe tbody tr th {\n",
       "        vertical-align: top;\n",
       "    }\n",
       "\n",
       "    .dataframe thead th {\n",
       "        text-align: right;\n",
       "    }\n",
       "</style>\n",
       "<table border=\"1\" class=\"dataframe\">\n",
       "  <thead>\n",
       "    <tr style=\"text-align: right;\">\n",
       "      <th></th>\n",
       "      <th>period</th>\n",
       "      <th>cid</th>\n",
       "      <th>asset_val</th>\n",
       "    </tr>\n",
       "  </thead>\n",
       "  <tbody>\n",
       "    <tr>\n",
       "      <td>18132</td>\n",
       "      <td>2021-07-16</td>\n",
       "      <td>841166088451411968</td>\n",
       "      <td>2461.76</td>\n",
       "    </tr>\n",
       "    <tr>\n",
       "      <td>18133</td>\n",
       "      <td>2021-07-16</td>\n",
       "      <td>826926493471870976</td>\n",
       "      <td>2461.42</td>\n",
       "    </tr>\n",
       "    <tr>\n",
       "      <td>18134</td>\n",
       "      <td>2021-07-16</td>\n",
       "      <td>768747221607796736</td>\n",
       "      <td>2461.28</td>\n",
       "    </tr>\n",
       "    <tr>\n",
       "      <td>18135</td>\n",
       "      <td>2021-07-16</td>\n",
       "      <td>780334319590723584</td>\n",
       "      <td>2461.26</td>\n",
       "    </tr>\n",
       "    <tr>\n",
       "      <td>18136</td>\n",
       "      <td>2021-07-16</td>\n",
       "      <td>772672750115364864</td>\n",
       "      <td>2461.03</td>\n",
       "    </tr>\n",
       "  </tbody>\n",
       "</table>\n",
       "</div>"
      ],
      "text/plain": [
       "           period                 cid  asset_val\n",
       "18132  2021-07-16  841166088451411968    2461.76\n",
       "18133  2021-07-16  826926493471870976    2461.42\n",
       "18134  2021-07-16  768747221607796736    2461.28\n",
       "18135  2021-07-16  780334319590723584    2461.26\n",
       "18136  2021-07-16  772672750115364864    2461.03"
      ]
     },
     "execution_count": 6,
     "metadata": {},
     "output_type": "execute_result"
    },
    {
     "data": {
      "text/html": [
       "<style  type=\"text/css\" >\n",
       "</style><table id=\"T_21a31480_e619_11eb_938a_38f9d35397bb\" ><thead>    <tr>        <th class=\"blank level0\" ></th>        <th class=\"col_heading level0 col0\" >asset_val</th>    </tr></thead><tbody>\n",
       "                <tr>\n",
       "                        <th id=\"T_21a31480_e619_11eb_938a_38f9d35397bblevel0_row0\" class=\"row_heading level0 row0\" >count</th>\n",
       "                        <td id=\"T_21a31480_e619_11eb_938a_38f9d35397bbrow0_col0\" class=\"data row0 col0\" >36264.00</td>\n",
       "            </tr>\n",
       "            <tr>\n",
       "                        <th id=\"T_21a31480_e619_11eb_938a_38f9d35397bblevel0_row1\" class=\"row_heading level0 row1\" >mean</th>\n",
       "                        <td id=\"T_21a31480_e619_11eb_938a_38f9d35397bbrow1_col0\" class=\"data row1 col0\" >924.84</td>\n",
       "            </tr>\n",
       "            <tr>\n",
       "                        <th id=\"T_21a31480_e619_11eb_938a_38f9d35397bblevel0_row2\" class=\"row_heading level0 row2\" >std</th>\n",
       "                        <td id=\"T_21a31480_e619_11eb_938a_38f9d35397bbrow2_col0\" class=\"data row2 col0\" >578.51</td>\n",
       "            </tr>\n",
       "            <tr>\n",
       "                        <th id=\"T_21a31480_e619_11eb_938a_38f9d35397bblevel0_row3\" class=\"row_heading level0 row3\" >min</th>\n",
       "                        <td id=\"T_21a31480_e619_11eb_938a_38f9d35397bbrow3_col0\" class=\"data row3 col0\" >274.37</td>\n",
       "            </tr>\n",
       "            <tr>\n",
       "                        <th id=\"T_21a31480_e619_11eb_938a_38f9d35397bblevel0_row4\" class=\"row_heading level0 row4\" >25%</th>\n",
       "                        <td id=\"T_21a31480_e619_11eb_938a_38f9d35397bbrow4_col0\" class=\"data row4 col0\" >448.66</td>\n",
       "            </tr>\n",
       "            <tr>\n",
       "                        <th id=\"T_21a31480_e619_11eb_938a_38f9d35397bblevel0_row5\" class=\"row_heading level0 row5\" >50%</th>\n",
       "                        <td id=\"T_21a31480_e619_11eb_938a_38f9d35397bbrow5_col0\" class=\"data row5 col0\" >740.07</td>\n",
       "            </tr>\n",
       "            <tr>\n",
       "                        <th id=\"T_21a31480_e619_11eb_938a_38f9d35397bblevel0_row6\" class=\"row_heading level0 row6\" >75%</th>\n",
       "                        <td id=\"T_21a31480_e619_11eb_938a_38f9d35397bbrow6_col0\" class=\"data row6 col0\" >1279.81</td>\n",
       "            </tr>\n",
       "            <tr>\n",
       "                        <th id=\"T_21a31480_e619_11eb_938a_38f9d35397bblevel0_row7\" class=\"row_heading level0 row7\" >max</th>\n",
       "                        <td id=\"T_21a31480_e619_11eb_938a_38f9d35397bbrow7_col0\" class=\"data row7 col0\" >2461.76</td>\n",
       "            </tr>\n",
       "    </tbody></table>"
      ],
      "text/plain": [
       "<pandas.io.formats.style.Styler at 0x7fe4941750f0>"
      ]
     },
     "execution_count": 6,
     "metadata": {},
     "output_type": "execute_result"
    },
    {
     "data": {
      "text/plain": [
       "<matplotlib.axes._subplots.AxesSubplot at 0x7fe494218470>"
      ]
     },
     "execution_count": 6,
     "metadata": {},
     "output_type": "execute_result"
    },
    {
     "data": {
      "image/png": "[encoded data removed]",
      "text/plain": [
       "<Figure size 1440x144 with 1 Axes>"
      ]
     },
     "metadata": {
      "needs_background": "light"
     },
     "output_type": "display_data"
    }
   ],
   "source": [
    "df3=df[int(TTL_user*0.1):int(TTL_user*0.3)][:]\n",
    "df3.head()\n",
    "df3[['asset_val']].describe().style.format('{:.2f}')\n",
    "color = dict(boxes='DarkRed', whiskers='DarkGreen',medians='Red', caps='Red')\n",
    "df3[['asset_val']].plot(kind='box',title='Asset Value Distribution of 30%',color=color,sym='r+',figsize=(20,2),vert=False)"
   ]
  },
  {
   "cell_type": "markdown",
   "metadata": {},
   "source": [
    "## 五、30%-60%用户分析\n",
    "* 总量为54397个用户\n",
    "* 最低资产总额为23\n",
    "* 平均资产额为97\n",
    "* 头部用户中有25%的用户资产额在140以上"
   ]
  },
  {
   "cell_type": "code",
   "execution_count": 7,
   "metadata": {},
   "outputs": [
    {
     "data": {
      "text/html": [
       "<div>\n",
       "<style scoped>\n",
       "    .dataframe tbody tr th:only-of-type {\n",
       "        vertical-align: middle;\n",
       "    }\n",
       "\n",
       "    .dataframe tbody tr th {\n",
       "        vertical-align: top;\n",
       "    }\n",
       "\n",
       "    .dataframe thead th {\n",
       "        text-align: right;\n",
       "    }\n",
       "</style>\n",
       "<table border=\"1\" class=\"dataframe\">\n",
       "  <thead>\n",
       "    <tr style=\"text-align: right;\">\n",
       "      <th></th>\n",
       "      <th>period</th>\n",
       "      <th>cid</th>\n",
       "      <th>asset_val</th>\n",
       "    </tr>\n",
       "  </thead>\n",
       "  <tbody>\n",
       "    <tr>\n",
       "      <td>54396</td>\n",
       "      <td>2021-07-16</td>\n",
       "      <td>839278896963670016</td>\n",
       "      <td>274.36</td>\n",
       "    </tr>\n",
       "    <tr>\n",
       "      <td>54397</td>\n",
       "      <td>2021-07-16</td>\n",
       "      <td>815751487803113472</td>\n",
       "      <td>274.30</td>\n",
       "    </tr>\n",
       "    <tr>\n",
       "      <td>54398</td>\n",
       "      <td>2021-07-16</td>\n",
       "      <td>725664215930511360</td>\n",
       "      <td>274.30</td>\n",
       "    </tr>\n",
       "    <tr>\n",
       "      <td>54399</td>\n",
       "      <td>2021-07-16</td>\n",
       "      <td>758631417407086592</td>\n",
       "      <td>274.29</td>\n",
       "    </tr>\n",
       "    <tr>\n",
       "      <td>54400</td>\n",
       "      <td>2021-07-16</td>\n",
       "      <td>821971862983553024</td>\n",
       "      <td>274.29</td>\n",
       "    </tr>\n",
       "  </tbody>\n",
       "</table>\n",
       "</div>"
      ],
      "text/plain": [
       "           period                 cid  asset_val\n",
       "54396  2021-07-16  839278896963670016     274.36\n",
       "54397  2021-07-16  815751487803113472     274.30\n",
       "54398  2021-07-16  725664215930511360     274.30\n",
       "54399  2021-07-16  758631417407086592     274.29\n",
       "54400  2021-07-16  821971862983553024     274.29"
      ]
     },
     "execution_count": 7,
     "metadata": {},
     "output_type": "execute_result"
    },
    {
     "data": {
      "text/html": [
       "<style  type=\"text/css\" >\n",
       "</style><table id=\"T_21c0bdd2_e619_11eb_b13e_38f9d35397bb\" ><thead>    <tr>        <th class=\"blank level0\" ></th>        <th class=\"col_heading level0 col0\" >asset_val</th>    </tr></thead><tbody>\n",
       "                <tr>\n",
       "                        <th id=\"T_21c0bdd2_e619_11eb_b13e_38f9d35397bblevel0_row0\" class=\"row_heading level0 row0\" >count</th>\n",
       "                        <td id=\"T_21c0bdd2_e619_11eb_b13e_38f9d35397bbrow0_col0\" class=\"data row0 col0\" >54397.00</td>\n",
       "            </tr>\n",
       "            <tr>\n",
       "                        <th id=\"T_21c0bdd2_e619_11eb_b13e_38f9d35397bblevel0_row1\" class=\"row_heading level0 row1\" >mean</th>\n",
       "                        <td id=\"T_21c0bdd2_e619_11eb_b13e_38f9d35397bbrow1_col0\" class=\"data row1 col0\" >96.52</td>\n",
       "            </tr>\n",
       "            <tr>\n",
       "                        <th id=\"T_21c0bdd2_e619_11eb_b13e_38f9d35397bblevel0_row2\" class=\"row_heading level0 row2\" >std</th>\n",
       "                        <td id=\"T_21c0bdd2_e619_11eb_b13e_38f9d35397bbrow2_col0\" class=\"data row2 col0\" >67.14</td>\n",
       "            </tr>\n",
       "            <tr>\n",
       "                        <th id=\"T_21c0bdd2_e619_11eb_b13e_38f9d35397bblevel0_row3\" class=\"row_heading level0 row3\" >min</th>\n",
       "                        <td id=\"T_21c0bdd2_e619_11eb_b13e_38f9d35397bbrow3_col0\" class=\"data row3 col0\" >23.31</td>\n",
       "            </tr>\n",
       "            <tr>\n",
       "                        <th id=\"T_21c0bdd2_e619_11eb_b13e_38f9d35397bblevel0_row4\" class=\"row_heading level0 row4\" >25%</th>\n",
       "                        <td id=\"T_21c0bdd2_e619_11eb_b13e_38f9d35397bbrow4_col0\" class=\"data row4 col0\" >42.68</td>\n",
       "            </tr>\n",
       "            <tr>\n",
       "                        <th id=\"T_21c0bdd2_e619_11eb_b13e_38f9d35397bblevel0_row5\" class=\"row_heading level0 row5\" >50%</th>\n",
       "                        <td id=\"T_21c0bdd2_e619_11eb_b13e_38f9d35397bbrow5_col0\" class=\"data row5 col0\" >73.74</td>\n",
       "            </tr>\n",
       "            <tr>\n",
       "                        <th id=\"T_21c0bdd2_e619_11eb_b13e_38f9d35397bblevel0_row6\" class=\"row_heading level0 row6\" >75%</th>\n",
       "                        <td id=\"T_21c0bdd2_e619_11eb_b13e_38f9d35397bbrow6_col0\" class=\"data row6 col0\" >137.36</td>\n",
       "            </tr>\n",
       "            <tr>\n",
       "                        <th id=\"T_21c0bdd2_e619_11eb_b13e_38f9d35397bblevel0_row7\" class=\"row_heading level0 row7\" >max</th>\n",
       "                        <td id=\"T_21c0bdd2_e619_11eb_b13e_38f9d35397bbrow7_col0\" class=\"data row7 col0\" >274.36</td>\n",
       "            </tr>\n",
       "    </tbody></table>"
      ],
      "text/plain": [
       "<pandas.io.formats.style.Styler at 0x7fe494115cf8>"
      ]
     },
     "execution_count": 7,
     "metadata": {},
     "output_type": "execute_result"
    },
    {
     "data": {
      "text/plain": [
       "<matplotlib.axes._subplots.AxesSubplot at 0x7fe4942f33c8>"
      ]
     },
     "execution_count": 7,
     "metadata": {},
     "output_type": "execute_result"
    },
    {
     "data": {
      "image/png": "[encoded data removed]",
      "text/plain": [
       "<Figure size 1440x144 with 1 Axes>"
      ]
     },
     "metadata": {
      "needs_background": "light"
     },
     "output_type": "display_data"
    }
   ],
   "source": [
    "df4=df[int(TTL_user*0.3):int(TTL_user*0.6)][:]\n",
    "df4.head()\n",
    "df4[['asset_val']].describe().style.format('{:.2f}')\n",
    "color = dict(boxes='DarkRed', whiskers='DarkGreen',medians='Red', caps='Red')\n",
    "df4[['asset_val']].plot(kind='box',title='Asset Value Distribution of 60%',color=color,sym='r+',figsize=(20,2),vert=False)"
   ]
  },
  {
   "cell_type": "markdown",
   "metadata": {},
   "source": [
    "## 六、60%-95%用户分析\n",
    "* 总量为63463个用户\n",
    "* 最低资产总额为0\n",
    "* 平均资产额为7\n",
    "* 头部用户中有25%的用户资产额在16以上"
   ]
  },
  {
   "cell_type": "code",
   "execution_count": 8,
   "metadata": {},
   "outputs": [
    {
     "data": {
      "text/html": [
       "<div>\n",
       "<style scoped>\n",
       "    .dataframe tbody tr th:only-of-type {\n",
       "        vertical-align: middle;\n",
       "    }\n",
       "\n",
       "    .dataframe tbody tr th {\n",
       "        vertical-align: top;\n",
       "    }\n",
       "\n",
       "    .dataframe thead th {\n",
       "        text-align: right;\n",
       "    }\n",
       "</style>\n",
       "<table border=\"1\" class=\"dataframe\">\n",
       "  <thead>\n",
       "    <tr style=\"text-align: right;\">\n",
       "      <th></th>\n",
       "      <th>period</th>\n",
       "      <th>cid</th>\n",
       "      <th>asset_val</th>\n",
       "    </tr>\n",
       "  </thead>\n",
       "  <tbody>\n",
       "    <tr>\n",
       "      <td>108793</td>\n",
       "      <td>2021-07-16</td>\n",
       "      <td>810435779955281920</td>\n",
       "      <td>23.31</td>\n",
       "    </tr>\n",
       "    <tr>\n",
       "      <td>108794</td>\n",
       "      <td>2021-07-16</td>\n",
       "      <td>802674763293003776</td>\n",
       "      <td>23.30</td>\n",
       "    </tr>\n",
       "    <tr>\n",
       "      <td>108795</td>\n",
       "      <td>2021-07-16</td>\n",
       "      <td>813718143699525632</td>\n",
       "      <td>23.30</td>\n",
       "    </tr>\n",
       "    <tr>\n",
       "      <td>108796</td>\n",
       "      <td>2021-07-16</td>\n",
       "      <td>856887983515668480</td>\n",
       "      <td>23.30</td>\n",
       "    </tr>\n",
       "    <tr>\n",
       "      <td>108797</td>\n",
       "      <td>2021-07-16</td>\n",
       "      <td>832074945168154624</td>\n",
       "      <td>23.30</td>\n",
       "    </tr>\n",
       "  </tbody>\n",
       "</table>\n",
       "</div>"
      ],
      "text/plain": [
       "            period                 cid  asset_val\n",
       "108793  2021-07-16  810435779955281920      23.31\n",
       "108794  2021-07-16  802674763293003776      23.30\n",
       "108795  2021-07-16  813718143699525632      23.30\n",
       "108796  2021-07-16  856887983515668480      23.30\n",
       "108797  2021-07-16  832074945168154624      23.30"
      ]
     },
     "execution_count": 8,
     "metadata": {},
     "output_type": "execute_result"
    },
    {
     "data": {
      "text/html": [
       "<style  type=\"text/css\" >\n",
       "</style><table id=\"T_21de42f8_e619_11eb_8fb8_38f9d35397bb\" ><thead>    <tr>        <th class=\"blank level0\" ></th>        <th class=\"col_heading level0 col0\" >asset_val</th>    </tr></thead><tbody>\n",
       "                <tr>\n",
       "                        <th id=\"T_21de42f8_e619_11eb_8fb8_38f9d35397bblevel0_row0\" class=\"row_heading level0 row0\" >count</th>\n",
       "                        <td id=\"T_21de42f8_e619_11eb_8fb8_38f9d35397bbrow0_col0\" class=\"data row0 col0\" >63463.00</td>\n",
       "            </tr>\n",
       "            <tr>\n",
       "                        <th id=\"T_21de42f8_e619_11eb_8fb8_38f9d35397bblevel0_row1\" class=\"row_heading level0 row1\" >mean</th>\n",
       "                        <td id=\"T_21de42f8_e619_11eb_8fb8_38f9d35397bbrow1_col0\" class=\"data row1 col0\" >7.15</td>\n",
       "            </tr>\n",
       "            <tr>\n",
       "                        <th id=\"T_21de42f8_e619_11eb_8fb8_38f9d35397bblevel0_row2\" class=\"row_heading level0 row2\" >std</th>\n",
       "                        <td id=\"T_21de42f8_e619_11eb_8fb8_38f9d35397bbrow2_col0\" class=\"data row2 col0\" >7.28</td>\n",
       "            </tr>\n",
       "            <tr>\n",
       "                        <th id=\"T_21de42f8_e619_11eb_8fb8_38f9d35397bblevel0_row3\" class=\"row_heading level0 row3\" >min</th>\n",
       "                        <td id=\"T_21de42f8_e619_11eb_8fb8_38f9d35397bbrow3_col0\" class=\"data row3 col0\" >0.02</td>\n",
       "            </tr>\n",
       "            <tr>\n",
       "                        <th id=\"T_21de42f8_e619_11eb_8fb8_38f9d35397bblevel0_row4\" class=\"row_heading level0 row4\" >25%</th>\n",
       "                        <td id=\"T_21de42f8_e619_11eb_8fb8_38f9d35397bbrow4_col0\" class=\"data row4 col0\" >0.65</td>\n",
       "            </tr>\n",
       "            <tr>\n",
       "                        <th id=\"T_21de42f8_e619_11eb_8fb8_38f9d35397bblevel0_row5\" class=\"row_heading level0 row5\" >50%</th>\n",
       "                        <td id=\"T_21de42f8_e619_11eb_8fb8_38f9d35397bbrow5_col0\" class=\"data row5 col0\" >4.30</td>\n",
       "            </tr>\n",
       "            <tr>\n",
       "                        <th id=\"T_21de42f8_e619_11eb_8fb8_38f9d35397bblevel0_row6\" class=\"row_heading level0 row6\" >75%</th>\n",
       "                        <td id=\"T_21de42f8_e619_11eb_8fb8_38f9d35397bbrow6_col0\" class=\"data row6 col0\" >16.14</td>\n",
       "            </tr>\n",
       "            <tr>\n",
       "                        <th id=\"T_21de42f8_e619_11eb_8fb8_38f9d35397bblevel0_row7\" class=\"row_heading level0 row7\" >max</th>\n",
       "                        <td id=\"T_21de42f8_e619_11eb_8fb8_38f9d35397bbrow7_col0\" class=\"data row7 col0\" >23.31</td>\n",
       "            </tr>\n",
       "    </tbody></table>"
      ],
      "text/plain": [
       "<pandas.io.formats.style.Styler at 0x7fe494005f28>"
      ]
     },
     "execution_count": 8,
     "metadata": {},
     "output_type": "execute_result"
    },
    {
     "data": {
      "text/plain": [
       "<matplotlib.axes._subplots.AxesSubplot at 0x7fe494358240>"
      ]
     },
     "execution_count": 8,
     "metadata": {},
     "output_type": "execute_result"
    },
    {
     "data": {
      "image/png": "[encoded data removed]",
      "text/plain": [
       "<Figure size 1440x144 with 1 Axes>"
      ]
     },
     "metadata": {
      "needs_background": "light"
     },
     "output_type": "display_data"
    }
   ],
   "source": [
    "df5=df[int(TTL_user*0.6):int(TTL_user*0.95)][:]\n",
    "df5.head()\n",
    "df5[['asset_val']].describe().style.format('{:.2f}')\n",
    "color = dict(boxes='DarkRed', whiskers='DarkGreen',medians='Red', caps='Red')\n",
    "df5[['asset_val']].plot(kind='box',title='Asset Value Distribution of 95%',color=color,sym='r+',figsize=(20,2),vert=False)"
   ]
  },
  {
   "cell_type": "markdown",
   "metadata": {},
   "source": [
    "## 七、后5%用户分析\n",
    "* 总量为9067个用户\n",
    "* 全部为0"
   ]
  },
  {
   "cell_type": "code",
   "execution_count": 9,
   "metadata": {},
   "outputs": [
    {
     "data": {
      "text/html": [
       "<div>\n",
       "<style scoped>\n",
       "    .dataframe tbody tr th:only-of-type {\n",
       "        vertical-align: middle;\n",
       "    }\n",
       "\n",
       "    .dataframe tbody tr th {\n",
       "        vertical-align: top;\n",
       "    }\n",
       "\n",
       "    .dataframe thead th {\n",
       "        text-align: right;\n",
       "    }\n",
       "</style>\n",
       "<table border=\"1\" class=\"dataframe\">\n",
       "  <thead>\n",
       "    <tr style=\"text-align: right;\">\n",
       "      <th></th>\n",
       "      <th>period</th>\n",
       "      <th>cid</th>\n",
       "      <th>asset_val</th>\n",
       "    </tr>\n",
       "  </thead>\n",
       "  <tbody>\n",
       "    <tr>\n",
       "      <td>172256</td>\n",
       "      <td>2021-07-16</td>\n",
       "      <td>842280088438341632</td>\n",
       "      <td>0.02</td>\n",
       "    </tr>\n",
       "    <tr>\n",
       "      <td>172257</td>\n",
       "      <td>2021-07-16</td>\n",
       "      <td>833202837302312960</td>\n",
       "      <td>0.02</td>\n",
       "    </tr>\n",
       "    <tr>\n",
       "      <td>172258</td>\n",
       "      <td>2021-07-16</td>\n",
       "      <td>833204037066174464</td>\n",
       "      <td>0.02</td>\n",
       "    </tr>\n",
       "    <tr>\n",
       "      <td>172259</td>\n",
       "      <td>2021-07-16</td>\n",
       "      <td>624049883795427328</td>\n",
       "      <td>0.02</td>\n",
       "    </tr>\n",
       "    <tr>\n",
       "      <td>172260</td>\n",
       "      <td>2021-07-16</td>\n",
       "      <td>830386968515850240</td>\n",
       "      <td>0.02</td>\n",
       "    </tr>\n",
       "  </tbody>\n",
       "</table>\n",
       "</div>"
      ],
      "text/plain": [
       "            period                 cid  asset_val\n",
       "172256  2021-07-16  842280088438341632       0.02\n",
       "172257  2021-07-16  833202837302312960       0.02\n",
       "172258  2021-07-16  833204037066174464       0.02\n",
       "172259  2021-07-16  624049883795427328       0.02\n",
       "172260  2021-07-16  830386968515850240       0.02"
      ]
     },
     "execution_count": 9,
     "metadata": {},
     "output_type": "execute_result"
    },
    {
     "data": {
      "text/html": [
       "<style  type=\"text/css\" >\n",
       "</style><table id=\"T_2213985e_e619_11eb_900e_38f9d35397bb\" ><thead>    <tr>        <th class=\"blank level0\" ></th>        <th class=\"col_heading level0 col0\" >asset_val</th>    </tr></thead><tbody>\n",
       "                <tr>\n",
       "                        <th id=\"T_2213985e_e619_11eb_900e_38f9d35397bblevel0_row0\" class=\"row_heading level0 row0\" >count</th>\n",
       "                        <td id=\"T_2213985e_e619_11eb_900e_38f9d35397bbrow0_col0\" class=\"data row0 col0\" >9067.00</td>\n",
       "            </tr>\n",
       "            <tr>\n",
       "                        <th id=\"T_2213985e_e619_11eb_900e_38f9d35397bblevel0_row1\" class=\"row_heading level0 row1\" >mean</th>\n",
       "                        <td id=\"T_2213985e_e619_11eb_900e_38f9d35397bbrow1_col0\" class=\"data row1 col0\" >0.00</td>\n",
       "            </tr>\n",
       "            <tr>\n",
       "                        <th id=\"T_2213985e_e619_11eb_900e_38f9d35397bblevel0_row2\" class=\"row_heading level0 row2\" >std</th>\n",
       "                        <td id=\"T_2213985e_e619_11eb_900e_38f9d35397bbrow2_col0\" class=\"data row2 col0\" >0.01</td>\n",
       "            </tr>\n",
       "            <tr>\n",
       "                        <th id=\"T_2213985e_e619_11eb_900e_38f9d35397bblevel0_row3\" class=\"row_heading level0 row3\" >min</th>\n",
       "                        <td id=\"T_2213985e_e619_11eb_900e_38f9d35397bbrow3_col0\" class=\"data row3 col0\" >0.00</td>\n",
       "            </tr>\n",
       "            <tr>\n",
       "                        <th id=\"T_2213985e_e619_11eb_900e_38f9d35397bblevel0_row4\" class=\"row_heading level0 row4\" >25%</th>\n",
       "                        <td id=\"T_2213985e_e619_11eb_900e_38f9d35397bbrow4_col0\" class=\"data row4 col0\" >0.00</td>\n",
       "            </tr>\n",
       "            <tr>\n",
       "                        <th id=\"T_2213985e_e619_11eb_900e_38f9d35397bblevel0_row5\" class=\"row_heading level0 row5\" >50%</th>\n",
       "                        <td id=\"T_2213985e_e619_11eb_900e_38f9d35397bbrow5_col0\" class=\"data row5 col0\" >0.00</td>\n",
       "            </tr>\n",
       "            <tr>\n",
       "                        <th id=\"T_2213985e_e619_11eb_900e_38f9d35397bblevel0_row6\" class=\"row_heading level0 row6\" >75%</th>\n",
       "                        <td id=\"T_2213985e_e619_11eb_900e_38f9d35397bbrow6_col0\" class=\"data row6 col0\" >0.01</td>\n",
       "            </tr>\n",
       "            <tr>\n",
       "                        <th id=\"T_2213985e_e619_11eb_900e_38f9d35397bblevel0_row7\" class=\"row_heading level0 row7\" >max</th>\n",
       "                        <td id=\"T_2213985e_e619_11eb_900e_38f9d35397bbrow7_col0\" class=\"data row7 col0\" >0.02</td>\n",
       "            </tr>\n",
       "    </tbody></table>"
      ],
      "text/plain": [
       "<pandas.io.formats.style.Styler at 0x7fe4942184a8>"
      ]
     },
     "execution_count": 9,
     "metadata": {},
     "output_type": "execute_result"
    },
    {
     "data": {
      "text/plain": [
       "<matplotlib.axes._subplots.AxesSubplot at 0x7fe4943ab828>"
      ]
     },
     "execution_count": 9,
     "metadata": {},
     "output_type": "execute_result"
    },
    {
     "data": {
      "image/png": "[encoded data removed]",
      "text/plain": [
       "<Figure size 1440x144 with 1 Axes>"
      ]
     },
     "metadata": {
      "needs_background": "light"
     },
     "output_type": "display_data"
    }
   ],
   "source": [
    "df6=df[int(TTL_user*0.95):][:]\n",
    "df6.head()\n",
    "df6[['asset_val']].describe().style.format('{:.2f}')\n",
    "color = dict(boxes='DarkRed', whiskers='DarkGreen',medians='Red', caps='Red')\n",
    "df6[['asset_val']].plot(kind='box',title='Asset Value Distribution of 100%',color=color,sym='r+',figsize=(20,2),vert=False)"
   ]
  },
  {
   "cell_type": "code",
   "execution_count": 10,
   "metadata": {},
   "outputs": [],
   "source": [
    "# import plotly.express as px\n",
    "# label=['1.5%''10%','30%','60%','95%','100%']\n",
    "# value=[9067,63463,54397,36264,15413,2719]\n",
    "\n",
    "# trace = go.Funnel(\n",
    "#     y = label,\n",
    "#     x = value,\n",
    "#     textinfo = \"value + percent initial\",\n",
    "#     marker=dict(color=[\"deepskyblue\", \"lightsalmon\", \"tan\", \"teal\", \"silver\", \"yellow\"]),\n",
    "#     connector = {\"line\": {\"color\": \"royalblue\", \"dash\": \"solid\", \"width\": 3}}\n",
    "# )\n",
    "    \n",
    "# data =[trace]\n",
    "\n",
    "# fig = go.Figure(data)\n",
    "# fig.show()\n",
    "\n",
    "# df11=pd.DataFrame({'label':label,'value':value,'pct':(value/TTL_user)})\n",
    "# df11.add({})\n",
    "# df11.head()"
   ]
  },
  {
   "cell_type": "code",
   "execution_count": 17,
   "metadata": {},
   "outputs": [],
   "source": [
    "@data_util.db_source(db='novadaxbi')\n",
    "def data_trade1(date):\n",
    "    \"\"\"资产总额\"\"\"\n",
    "    sql = \"\"\"    \n",
    "select\n",
    "\tperiod,\n",
    "\tm1.cid,\n",
    "\tround(sum(asset_value * ifnull(price,1)),2) as asset_val,\n",
    "\tm3.trade_val,\n",
    "\tm3.order_cnt\n",
    "from bacc_nova.ba_dwp_user_asset m1\n",
    "left join bacc_nova.dim_exchange_rate m2 on m1.asset_code=m2.digital_code and m2.legal_code='BRL' and m2.settle_date=current_date\n",
    "left join (\n",
    "\tselect cid,sum(transaction_volume) as trade_val,count(distinct order_id) as order_cnt\n",
    "\tfrom bacc_nova.ba_dwd_success_transaction force index(idx_record_type_cost_coin_order_end_dt)\n",
    "\twhere kyc_area='BRAZIL' and order_end_dt<'{date}' and record_type in ('SELL','BUY')\n",
    "\tgroup by 1\n",
    "\thaving trade_val>0\n",
    ")m3 on m1.cid=m3.cid\n",
    "where period='2021-07-16' \n",
    "and kyc_area='BRAZIL'\n",
    "group by 1,2\n",
    "order by 3 desc;\n",
    "    \"\"\".format(date=date)\n",
    "    return sql"
   ]
  },
  {
   "cell_type": "code",
   "execution_count": 18,
   "metadata": {},
   "outputs": [],
   "source": [
    "df22 = data_trade1(today)\n",
    "df221=df22[0:2719][:]\n",
    "a = df221[['cid']].count()"
   ]
  },
  {
   "cell_type": "code",
   "execution_count": 29,
   "metadata": {},
   "outputs": [
    {
     "data": {
      "text/plain": [
       "cid    2718\n",
       "dtype: int64"
      ]
     },
     "execution_count": 29,
     "metadata": {},
     "output_type": "execute_result"
    },
    {
     "data": {
      "text/html": [
       "<div>\n",
       "<style scoped>\n",
       "    .dataframe tbody tr th:only-of-type {\n",
       "        vertical-align: middle;\n",
       "    }\n",
       "\n",
       "    .dataframe tbody tr th {\n",
       "        vertical-align: top;\n",
       "    }\n",
       "\n",
       "    .dataframe thead th {\n",
       "        text-align: right;\n",
       "    }\n",
       "</style>\n",
       "<table border=\"1\" class=\"dataframe\">\n",
       "  <thead>\n",
       "    <tr style=\"text-align: right;\">\n",
       "      <th></th>\n",
       "      <th>period</th>\n",
       "      <th>cid</th>\n",
       "      <th>asset_val</th>\n",
       "      <th>trade_val</th>\n",
       "      <th>order_cnt</th>\n",
       "    </tr>\n",
       "  </thead>\n",
       "  <tbody>\n",
       "    <tr>\n",
       "      <td>1</td>\n",
       "      <td>2021-07-16</td>\n",
       "      <td>700465416513798144</td>\n",
       "      <td>3174232.81</td>\n",
       "      <td>1.333304e+07</td>\n",
       "      <td>281.0</td>\n",
       "    </tr>\n",
       "    <tr>\n",
       "      <td>2</td>\n",
       "      <td>2021-07-16</td>\n",
       "      <td>669344296003964928</td>\n",
       "      <td>1738783.71</td>\n",
       "      <td>1.359983e+06</td>\n",
       "      <td>73.0</td>\n",
       "    </tr>\n",
       "    <tr>\n",
       "      <td>3</td>\n",
       "      <td>2021-07-16</td>\n",
       "      <td>712903724464349184</td>\n",
       "      <td>1447380.05</td>\n",
       "      <td>7.476742e+06</td>\n",
       "      <td>145.0</td>\n",
       "    </tr>\n",
       "    <tr>\n",
       "      <td>4</td>\n",
       "      <td>2021-07-16</td>\n",
       "      <td>620825213856129024</td>\n",
       "      <td>1415673.22</td>\n",
       "      <td>3.541459e+08</td>\n",
       "      <td>58301.0</td>\n",
       "    </tr>\n",
       "    <tr>\n",
       "      <td>5</td>\n",
       "      <td>2021-07-16</td>\n",
       "      <td>792519964660617216</td>\n",
       "      <td>1189887.66</td>\n",
       "      <td>6.944439e+06</td>\n",
       "      <td>706.0</td>\n",
       "    </tr>\n",
       "    <tr>\n",
       "      <td>...</td>\n",
       "      <td>...</td>\n",
       "      <td>...</td>\n",
       "      <td>...</td>\n",
       "      <td>...</td>\n",
       "      <td>...</td>\n",
       "    </tr>\n",
       "    <tr>\n",
       "      <td>2714</td>\n",
       "      <td>2021-07-16</td>\n",
       "      <td>833832418665324544</td>\n",
       "      <td>19991.62</td>\n",
       "      <td>1.974376e+04</td>\n",
       "      <td>2.0</td>\n",
       "    </tr>\n",
       "    <tr>\n",
       "      <td>2715</td>\n",
       "      <td>2021-07-16</td>\n",
       "      <td>795974251944357888</td>\n",
       "      <td>19975.08</td>\n",
       "      <td>8.211702e+04</td>\n",
       "      <td>41.0</td>\n",
       "    </tr>\n",
       "    <tr>\n",
       "      <td>2716</td>\n",
       "      <td>2021-07-16</td>\n",
       "      <td>745814162235473920</td>\n",
       "      <td>19970.65</td>\n",
       "      <td>2.865336e+05</td>\n",
       "      <td>40.0</td>\n",
       "    </tr>\n",
       "    <tr>\n",
       "      <td>2717</td>\n",
       "      <td>2021-07-16</td>\n",
       "      <td>698359093760364544</td>\n",
       "      <td>19953.91</td>\n",
       "      <td>7.600117e+04</td>\n",
       "      <td>68.0</td>\n",
       "    </tr>\n",
       "    <tr>\n",
       "      <td>2718</td>\n",
       "      <td>2021-07-16</td>\n",
       "      <td>839263844055408640</td>\n",
       "      <td>19948.78</td>\n",
       "      <td>4.868463e+05</td>\n",
       "      <td>53.0</td>\n",
       "    </tr>\n",
       "  </tbody>\n",
       "</table>\n",
       "<p>2718 rows × 5 columns</p>\n",
       "</div>"
      ],
      "text/plain": [
       "          period                 cid   asset_val     trade_val  order_cnt\n",
       "1     2021-07-16  700465416513798144  3174232.81  1.333304e+07      281.0\n",
       "2     2021-07-16  669344296003964928  1738783.71  1.359983e+06       73.0\n",
       "3     2021-07-16  712903724464349184  1447380.05  7.476742e+06      145.0\n",
       "4     2021-07-16  620825213856129024  1415673.22  3.541459e+08    58301.0\n",
       "5     2021-07-16  792519964660617216  1189887.66  6.944439e+06      706.0\n",
       "...          ...                 ...         ...           ...        ...\n",
       "2714  2021-07-16  833832418665324544    19991.62  1.974376e+04        2.0\n",
       "2715  2021-07-16  795974251944357888    19975.08  8.211702e+04       41.0\n",
       "2716  2021-07-16  745814162235473920    19970.65  2.865336e+05       40.0\n",
       "2717  2021-07-16  698359093760364544    19953.91  7.600117e+04       68.0\n",
       "2718  2021-07-16  839263844055408640    19948.78  4.868463e+05       53.0\n",
       "\n",
       "[2718 rows x 5 columns]"
      ]
     },
     "execution_count": 29,
     "metadata": {},
     "output_type": "execute_result"
    },
    {
     "data": {
      "text/plain": [
       "'2974945260.2812'"
      ]
     },
     "execution_count": 29,
     "metadata": {},
     "output_type": "execute_result"
    }
   ],
   "source": [
    "a\n",
    "df221\n",
    "V1_tra_val='%.4f'%float(df221[['trade_val']].sum())\n",
    "V1_tra_val"
   ]
  }
 ],
 "metadata": {
  "kernelspec": {
   "display_name": "Python 3",
   "language": "python",
   "name": "python3"
  },
  "language_info": {
   "codemirror_mode": {
    "name": "ipython",
    "version": 3
   },
   "file_extension": ".py",
   "mimetype": "text/x-python",
   "name": "python",
   "nbconvert_exporter": "python",
   "pygments_lexer": "ipython3",
   "version": "3.6.13"
  }
 },
 "nbformat": 4,
 "nbformat_minor": 2
}
